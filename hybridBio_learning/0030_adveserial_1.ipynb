{
 "cells": [
  {
   "cell_type": "code",
   "execution_count": 1,
   "metadata": {},
   "outputs": [],
   "source": [
    "# see: https://pytorch.org/tutorials/beginner/fgsm_tutorial.html\n",
    "\n",
    "%load_ext autoreload\n",
    "%autoreload 2\n",
    "%matplotlib inline\n",
    "\n",
    "import os\n",
    "cpu='0'\n",
    "os.environ['CUDA_VISIBLE_DEVICES']=cpu\n",
    "\n",
    "from bio_learn2 import *"
   ]
  },
  {
   "cell_type": "code",
   "execution_count": 2,
   "metadata": {},
   "outputs": [],
   "source": [
    "epsilons = [0, .05, .1, .15, .2, .25, .3]\n",
    "pretrained_model_cnn = '../data/0020_SimpleConvClassifier.pkl'\n",
    "pretrained_model_bio = '../data/0020_BioClassifier.pkl'"
   ]
  },
  {
   "cell_type": "code",
   "execution_count": 3,
   "metadata": {},
   "outputs": [],
   "source": [
    "model_cnn = torch.load(pretrained_model_cnn).eval()\n",
    "model_bio = torch.load(pretrained_model_bio).eval()"
   ]
  },
  {
   "cell_type": "code",
   "execution_count": 4,
   "metadata": {},
   "outputs": [],
   "source": [
    "test_X, test_y = get_data('test')\n",
    "test_ds = TensorDataset(test_X, test_y)\n",
    "test_dl = DataLoader(test_ds, batch_size=1, shuffle=True)"
   ]
  },
  {
   "cell_type": "code",
   "execution_count": 5,
   "metadata": {},
   "outputs": [],
   "source": [
    "def fgsm_attack(image, epsilon, data_grad):\n",
    "    sign_data_grad = data_grad.sign()\n",
    "    perturbed_image = image + epsilon*sign_data_grad\n",
    "    perturbed_image = torch.clamp(perturbed_image, 0, 1)\n",
    "    return perturbed_image"
   ]
  },
  {
   "cell_type": "code",
   "execution_count": 6,
   "metadata": {},
   "outputs": [],
   "source": [
    "def test(model, device, test_loader, epsilon):\n",
    "    correct = 0\n",
    "    adv_examples = []\n",
    "    for data, target in test_loader:\n",
    "        data, target = data.to(device), target.to(device)\n",
    "        data.requires_grad = True\n",
    "        output = model(data)\n",
    "        init_pred = output.max(1, keepdim=True)[1] \n",
    "        if init_pred.item() != target.item(): continue\n",
    "        loss = F.nll_loss(output, target)\n",
    "        model.zero_grad()\n",
    "        loss.backward()\n",
    "        data_grad = data.grad.data\n",
    "        perturbed_data = fgsm_attack(data, epsilon, data_grad)\n",
    "        output = model(perturbed_data)\n",
    "        final_pred = output.max(1, keepdim=True)[1] \n",
    "        if final_pred.item() == target.item():\n",
    "            correct += 1\n",
    "            if (epsilon == 0) and (len(adv_examples) < 5):\n",
    "                adv_ex = perturbed_data.squeeze().detach().cpu().numpy()\n",
    "                adv_examples.append( (init_pred.item(), final_pred.item(), adv_ex) )\n",
    "        else:\n",
    "            if len(adv_examples) < 5:\n",
    "                adv_ex = perturbed_data.squeeze().detach().cpu().numpy()\n",
    "                adv_examples.append( (init_pred.item(), final_pred.item(), adv_ex) )\n",
    "\n",
    "    final_acc = correct/float(len(test_loader))\n",
    "    print(\"Epsilon: {}\\tTest Accuracy = {} / {} = {}\".format(epsilon, correct, len(test_loader), final_acc))\n",
    "    return final_acc, adv_examples"
   ]
  },
  {
   "cell_type": "code",
   "execution_count": 7,
   "metadata": {},
   "outputs": [],
   "source": [
    "def test_attack(model):\n",
    "    accuracies = []\n",
    "    examples = []\n",
    "\n",
    "    for eps in epsilons:\n",
    "        acc, ex = test(model, 'cuda', test_dl, eps)\n",
    "        accuracies.append(acc)\n",
    "        examples.append(ex)\n",
    "    return accuracies, examples"
   ]
  },
  {
   "cell_type": "code",
   "execution_count": 8,
   "metadata": {},
   "outputs": [
    {
     "name": "stdout",
     "output_type": "stream",
     "text": [
      "\n",
      "\n",
      "Testing a Simple Convolutional NN\n",
      "Epsilon: 0\tTest Accuracy = 9782 / 10000 = 0.9782\n",
      "Epsilon: 0.05\tTest Accuracy = 9275 / 10000 = 0.9275\n",
      "Epsilon: 0.1\tTest Accuracy = 8082 / 10000 = 0.8082\n",
      "Epsilon: 0.15\tTest Accuracy = 6105 / 10000 = 0.6105\n",
      "Epsilon: 0.2\tTest Accuracy = 3591 / 10000 = 0.3591\n",
      "Epsilon: 0.25\tTest Accuracy = 1550 / 10000 = 0.155\n",
      "Epsilon: 0.3\tTest Accuracy = 566 / 10000 = 0.0566\n",
      "\n",
      "\n",
      "Testing a Bio Classifier\n",
      "Epsilon: 0\tTest Accuracy = 9664 / 10000 = 0.9664\n",
      "Epsilon: 0.05\tTest Accuracy = 7178 / 10000 = 0.7178\n",
      "Epsilon: 0.1\tTest Accuracy = 3214 / 10000 = 0.3214\n",
      "Epsilon: 0.15\tTest Accuracy = 2622 / 10000 = 0.2622\n",
      "Epsilon: 0.2\tTest Accuracy = 2609 / 10000 = 0.2609\n",
      "Epsilon: 0.25\tTest Accuracy = 2609 / 10000 = 0.2609\n",
      "Epsilon: 0.3\tTest Accuracy = 2609 / 10000 = 0.2609\n"
     ]
    }
   ],
   "source": [
    "print('\\n\\nTesting a Simple Convolutional NN')\n",
    "accuracies_cnn, examples_cnn = test_attack(model_cnn)\n",
    "print('\\n\\nTesting a Bio Classifier')\n",
    "accuracies_bio, examples_bio = test_attack(model_bio)"
   ]
  },
  {
   "cell_type": "code",
   "execution_count": 9,
   "metadata": {},
   "outputs": [
    {
     "data": {
      "image/png": "[encoded data removed]",
      "text/plain": [
       "<Figure size 360x360 with 1 Axes>"
      ]
     },
     "metadata": {
      "needs_background": "light"
     },
     "output_type": "display_data"
    }
   ],
   "source": [
    "plt.figure(figsize=(5,5))\n",
    "plt.plot(epsilons, accuracies_cnn, \"*-\", label='Conv')\n",
    "plt.plot(epsilons, accuracies_bio, \"+-\", label='Bio')\n",
    "plt.yticks(np.arange(0, 1.1, step=0.1))\n",
    "plt.xticks(np.arange(0, .35, step=0.05))\n",
    "plt.title(\"Accuracy vs Epsilon (Conv vs Bio)\")\n",
    "plt.xlabel(\"Epsilon\")\n",
    "plt.ylabel(\"Accuracy\")\n",
    "plt.legend(loc='upper right')\n",
    "plt.show()"
   ]
  }
 ],
 "metadata": {
  "kernelspec": {
   "display_name": "Python 3",
   "language": "python",
   "name": "python3"
  },
  "language_info": {
   "codemirror_mode": {
    "name": "ipython",
    "version": 3
   },
   "file_extension": ".py",
   "mimetype": "text/x-python",
   "name": "python",
   "nbconvert_exporter": "python",
   "pygments_lexer": "ipython3",
   "version": "3.6.7"
  }
 },
 "nbformat": 4,
 "nbformat_minor": 2
}
