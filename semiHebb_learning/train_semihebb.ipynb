{
 "cells": [
  {
   "cell_type": "code",
   "execution_count": 1,
   "metadata": {},
   "outputs": [],
   "source": [
    "import os\n",
    "#import sys\n",
    "import torch\n",
    "import torch.nn as nn\n",
    "import torch.utils.data as Data\n",
    "import torchvision\n",
    "import matplotlib.pyplot as plt\n",
    "\n",
    "#sys.path.append('../')\n",
    "from data.load_data import *\n",
    "from models.neural_networks import *\n",
    "from train.train_cnn import *\n",
    "from train.train_fcn import *\n",
    "from train.train_semihebb import *\n",
    "from evaluation.test import *\n",
    "from utils.others import *\n",
    "from utils.plot import *\n",
    "from utils.save_model import *"
   ]
  },
  {
   "cell_type": "markdown",
   "metadata": {},
   "source": [
    "# Train with Hebb rule\n",
    "\n",
    "note that hebbian weights goes to infinity, values will be NaN after they go out of the range, so tSNE plot cannot be used."
   ]
  },
  {
   "cell_type": "code",
   "execution_count": 2,
   "metadata": {},
   "outputs": [
    {
     "name": "stdout",
     "output_type": "stream",
     "text": [
      "60000\n",
      "10000\n"
     ]
    },
    {
     "data": {
      "image/png": "[encoded data removed]",
      "text/plain": [
       "<Figure size 640x480 with 1 Axes>"
      ]
     },
     "metadata": {},
     "output_type": "display_data"
    },
    {
     "name": "stdout",
     "output_type": "stream",
     "text": [
      "Epoch: 0, Step: 0, Loss: 2.329568862915039, Accuracy: 9.74%\n",
      "Epoch: 0, Step: 50, Loss: 373.2357177734375, Accuracy: 11.35%\n",
      "Epoch: 0, Step: 100, Loss: 201.08644104003906, Accuracy: 8.92%\n",
      "Epoch: 0, Step: 150, Loss: 360.2633056640625, Accuracy: 9.82%\n",
      "Epoch: 0, Step: 200, Loss: 238.17117309570312, Accuracy: 9.23%\n",
      "Epoch: 0, Step: 250, Loss: 282.66949462890625, Accuracy: 10.28%\n",
      "Epoch: 0, Step: 300, Loss: 189.63238525390625, Accuracy: 9.74%\n",
      "Epoch: 0, Step: 350, Loss: 176.1024169921875, Accuracy: 10.28%\n",
      "Epoch: 0, Step: 400, Loss: 364.109619140625, Accuracy: 10.3%\n",
      "Epoch: 0, Step: 450, Loss: 342.77850341796875, Accuracy: 16.76%\n",
      "Epoch: 0, Step: 500, Loss: 298.509521484375, Accuracy: 13.89%\n",
      "Epoch: 0, Step: 550, Loss: 149.00218200683594, Accuracy: 10.12%\n",
      "Epoch: 0, Step: 600, Loss: 169.70138549804688, Accuracy: 17.16%\n",
      "Epoch: 0, Step: 650, Loss: 193.1869354248047, Accuracy: 19.47%\n",
      "Epoch: 0, Step: 700, Loss: 198.21897888183594, Accuracy: 13.58%\n",
      "Epoch: 0, Step: 750, Loss: 158.0418243408203, Accuracy: 21.12%\n",
      "Epoch: 0, Step: 800, Loss: 215.5495147705078, Accuracy: 23.05%\n",
      "Epoch: 0, Step: 850, Loss: 167.30226135253906, Accuracy: 19.12%\n",
      "Epoch: 0, Step: 900, Loss: 211.3483428955078, Accuracy: 22.67%\n",
      "Epoch: 0, Step: 950, Loss: 189.58795166015625, Accuracy: 28.71%\n",
      "Epoch: 0, Step: 1000, Loss: 139.6726531982422, Accuracy: 25.97%\n",
      "Epoch: 0, Step: 1050, Loss: 147.33560180664062, Accuracy: 32.9%\n",
      "Epoch: 0, Step: 1100, Loss: 163.0399169921875, Accuracy: 10.33%\n",
      "Epoch: 0, Step: 1150, Loss: 148.4405059814453, Accuracy: 13.05%\n"
     ]
    },
    {
     "data": {
      "text/plain": [
       "[0.1,\n",
       " 0.11,\n",
       " 0.09,\n",
       " 0.1,\n",
       " 0.09,\n",
       " 0.1,\n",
       " 0.1,\n",
       " 0.1,\n",
       " 0.1,\n",
       " 0.17,\n",
       " 0.14,\n",
       " 0.1,\n",
       " 0.17,\n",
       " 0.19,\n",
       " 0.14,\n",
       " 0.21,\n",
       " 0.23,\n",
       " 0.19,\n",
       " 0.23,\n",
       " 0.29,\n",
       " 0.26,\n",
       " 0.33,\n",
       " 0.1,\n",
       " 0.13]"
      ]
     },
     "execution_count": 2,
     "metadata": {},
     "output_type": "execute_result"
    }
   ],
   "source": [
    "# torch.manual_seed(1)    # reproducible\n",
    "\n",
    "# Hyper Parameters\n",
    "EPOCH = 1               \n",
    "BATCH_SIZE = 50\n",
    "LR = 0.01             \n",
    "TSNE = True\n",
    "\n",
    "#load MNIST dataset\n",
    "train_loader, test_loader = load_mnist(BATCH_SIZE)\n",
    "print(len(train_loader.dataset))\n",
    "print(len(test_loader.dataset))\n",
    "#load CIFAR-10 dataset\n",
    "\n",
    "\n",
    "# Plot one example\n",
    "plot_example(train_loader)\n",
    "\n",
    "TSNE = False\n",
    "\n",
    "# create model instance\n",
    "\n",
    "hebbnet = HebbNet([784,2000],lr=LR,require_hebb=True,activation=True,update_rule='hebb',p=None)\n",
    "fcn = FCN([2000,10])\n",
    "\n",
    "semihebbnet = SemiHebbNet(hebbnet, fcn)\n",
    "\n",
    "# optimizer and loss function\n",
    "optimizer = torch.optim.Adam(semihebbnet.parameters(), lr=LR)  \n",
    "loss_func = nn.CrossEntropyLoss()                       # the target label is not one-hotted\n",
    "\n",
    "# train networks\n",
    "train_semihebb(model=semihebbnet, train_loader=train_loader, test_loader=test_loader, optimizer=optimizer, loss_func=loss_func, epochs=EPOCH, tsne_enabled=TSNE)"
   ]
  },
  {
   "cell_type": "code",
   "execution_count": 3,
   "metadata": {},
   "outputs": [
    {
     "name": "stdout",
     "output_type": "stream",
     "text": [
      "Accuracy of the SemiHebbNet on the MNIST test images: 40.94%\n"
     ]
    },
    {
     "data": {
      "text/plain": [
       "0.409"
      ]
     },
     "execution_count": 3,
     "metadata": {},
     "output_type": "execute_result"
    }
   ],
   "source": [
    "# test accuracy\n",
    "test_accuracy(model=semihebbnet, dataset='mnist', flatten_input=True)"
   ]
  },
  {
   "cell_type": "markdown",
   "metadata": {},
   "source": [
    "# Train with Oja's rule"
   ]
  },
  {
   "cell_type": "code",
   "execution_count": 4,
   "metadata": {},
   "outputs": [
    {
     "name": "stdout",
     "output_type": "stream",
     "text": [
      "60000\n",
      "10000\n",
      "Epoch: 0, Step: 0, Loss: 2.2828116416931152, Accuracy: 10.07%\n",
      "Epoch: 0, Step: 50, Loss: 2.1542439460754395, Accuracy: 40.92%\n",
      "Epoch: 0, Step: 100, Loss: 2.0591232776641846, Accuracy: 53.06%\n",
      "Epoch: 0, Step: 150, Loss: 1.9447531700134277, Accuracy: 64.4%\n",
      "Epoch: 0, Step: 200, Loss: 1.8137093782424927, Accuracy: 66.13%\n",
      "Epoch: 0, Step: 250, Loss: 1.7143559455871582, Accuracy: 69.35%\n",
      "Epoch: 0, Step: 300, Loss: 1.686374306678772, Accuracy: 74.31%\n",
      "Epoch: 0, Step: 350, Loss: 1.6253464221954346, Accuracy: 71.99%\n",
      "Epoch: 0, Step: 400, Loss: 1.5432367324829102, Accuracy: 77.58%\n",
      "Epoch: 0, Step: 450, Loss: 1.469728708267212, Accuracy: 77.72%\n",
      "Epoch: 0, Step: 500, Loss: 1.3936512470245361, Accuracy: 80.13%\n",
      "Epoch: 0, Step: 550, Loss: 1.2647202014923096, Accuracy: 79.12%\n",
      "Epoch: 0, Step: 600, Loss: 1.2113432884216309, Accuracy: 79.77%\n",
      "Epoch: 0, Step: 650, Loss: 1.2241872549057007, Accuracy: 80.95%\n",
      "Epoch: 0, Step: 700, Loss: 1.170701503753662, Accuracy: 80.98%\n",
      "Epoch: 0, Step: 750, Loss: 1.1855683326721191, Accuracy: 81.31%\n",
      "Epoch: 0, Step: 800, Loss: 0.9523310661315918, Accuracy: 81.12%\n",
      "Epoch: 0, Step: 850, Loss: 1.0067552328109741, Accuracy: 82.27%\n",
      "Epoch: 0, Step: 900, Loss: 1.0506397485733032, Accuracy: 82.86%\n",
      "Epoch: 0, Step: 950, Loss: 0.8056958913803101, Accuracy: 82.08%\n",
      "Epoch: 0, Step: 1000, Loss: 1.000364899635315, Accuracy: 83.43%\n",
      "Epoch: 0, Step: 1050, Loss: 1.0355076789855957, Accuracy: 83.91%\n",
      "Epoch: 0, Step: 1100, Loss: 0.7965776920318604, Accuracy: 83.99%\n",
      "Epoch: 0, Step: 1150, Loss: 0.8241097927093506, Accuracy: 84.81%\n"
     ]
    },
    {
     "data": {
      "text/plain": [
       "[0.1,\n",
       " 0.41,\n",
       " 0.53,\n",
       " 0.64,\n",
       " 0.66,\n",
       " 0.69,\n",
       " 0.74,\n",
       " 0.72,\n",
       " 0.78,\n",
       " 0.78,\n",
       " 0.8,\n",
       " 0.79,\n",
       " 0.8,\n",
       " 0.81,\n",
       " 0.81,\n",
       " 0.81,\n",
       " 0.81,\n",
       " 0.82,\n",
       " 0.83,\n",
       " 0.82,\n",
       " 0.83,\n",
       " 0.84,\n",
       " 0.84,\n",
       " 0.85]"
      ]
     },
     "execution_count": 4,
     "metadata": {},
     "output_type": "execute_result"
    }
   ],
   "source": [
    "# Hyper Parameters\n",
    "EPOCH = 1               \n",
    "BATCH_SIZE = 50\n",
    "LR = 0.0001             \n",
    "TSNE = False\n",
    "\n",
    "#load MNIST dataset\n",
    "train_loader, test_loader = load_mnist(BATCH_SIZE)\n",
    "print(len(train_loader.dataset))\n",
    "print(len(test_loader.dataset))\n",
    "\n",
    "# create model instance\n",
    "hebbnet = HebbNet([784,2000],lr=LR,require_hebb=True,activation=True,update_rule='oja',p=None)\n",
    "fcn = FCN([2000,10])\n",
    "\n",
    "semihebbnet = SemiHebbNet(hebbnet, fcn)\n",
    "\n",
    "# optimizer and loss function\n",
    "optimizer = torch.optim.Adam(semihebbnet.parameters(), lr=LR)  \n",
    "loss_func = nn.CrossEntropyLoss()                  \n",
    "\n",
    "# train networks\n",
    "train_semihebb(model=semihebbnet, train_loader=train_loader, test_loader=test_loader, optimizer=optimizer, loss_func=loss_func, epochs=EPOCH, tsne_enabled=TSNE)"
   ]
  },
  {
   "cell_type": "code",
   "execution_count": 5,
   "metadata": {},
   "outputs": [
    {
     "name": "stdout",
     "output_type": "stream",
     "text": [
      "Accuracy of the SemiHebbNet on the MNIST test images: 83.45%\n"
     ]
    },
    {
     "data": {
      "text/plain": [
       "0.835"
      ]
     },
     "execution_count": 5,
     "metadata": {},
     "output_type": "execute_result"
    }
   ],
   "source": [
    "# test accuracy\n",
    "test_accuracy(model=semihebbnet, dataset='mnist', flatten_input=True)"
   ]
  },
  {
   "cell_type": "markdown",
   "metadata": {},
   "source": [
    "# Train with Gupta's rule"
   ]
  },
  {
   "cell_type": "code",
   "execution_count": 6,
   "metadata": {},
   "outputs": [
    {
     "name": "stdout",
     "output_type": "stream",
     "text": [
      "60000\n",
      "10000\n",
      "Epoch: 0, Step: 0, Loss: 2.315561056137085, Accuracy: 11.54%\n",
      "Epoch: 0, Step: 50, Loss: 1.2553110122680664, Accuracy: 79.94%\n",
      "Epoch: 0, Step: 100, Loss: 0.8325514197349548, Accuracy: 82.31%\n",
      "Epoch: 0, Step: 150, Loss: 0.6286554932594299, Accuracy: 85.96%\n",
      "Epoch: 0, Step: 200, Loss: 0.6773939728736877, Accuracy: 87.04%\n",
      "Epoch: 0, Step: 250, Loss: 0.5427878499031067, Accuracy: 87.29%\n",
      "Epoch: 0, Step: 300, Loss: 0.3985162079334259, Accuracy: 88.44%\n",
      "Epoch: 0, Step: 350, Loss: 0.5006019473075867, Accuracy: 88.72%\n",
      "Epoch: 0, Step: 400, Loss: 0.5174221396446228, Accuracy: 89.4%\n",
      "Epoch: 0, Step: 450, Loss: 0.4973812401294708, Accuracy: 89.15%\n",
      "Epoch: 0, Step: 500, Loss: 0.3992324769496918, Accuracy: 89.44%\n",
      "Epoch: 0, Step: 550, Loss: 0.3756314218044281, Accuracy: 90.01%\n",
      "Epoch: 0, Step: 600, Loss: 0.5575349926948547, Accuracy: 89.82%\n",
      "Epoch: 0, Step: 650, Loss: 0.23951709270477295, Accuracy: 90.57%\n",
      "Epoch: 0, Step: 700, Loss: 0.29706671833992004, Accuracy: 90.68%\n",
      "Epoch: 0, Step: 750, Loss: 0.31898829340934753, Accuracy: 90.81%\n",
      "Epoch: 0, Step: 800, Loss: 0.45826244354248047, Accuracy: 91.08%\n",
      "Epoch: 0, Step: 850, Loss: 0.227866992354393, Accuracy: 91.11%\n",
      "Epoch: 0, Step: 900, Loss: 0.3321067690849304, Accuracy: 91.66%\n",
      "Epoch: 0, Step: 950, Loss: 0.34298571944236755, Accuracy: 91.65%\n",
      "Epoch: 0, Step: 1000, Loss: 0.2904919385910034, Accuracy: 91.92%\n",
      "Epoch: 0, Step: 1050, Loss: 0.3298434019088745, Accuracy: 91.98%\n",
      "Epoch: 0, Step: 1100, Loss: 0.6179994940757751, Accuracy: 91.98%\n",
      "Epoch: 0, Step: 1150, Loss: 0.271051287651062, Accuracy: 91.77%\n"
     ]
    },
    {
     "data": {
      "text/plain": [
       "[0.12,\n",
       " 0.8,\n",
       " 0.82,\n",
       " 0.86,\n",
       " 0.87,\n",
       " 0.87,\n",
       " 0.88,\n",
       " 0.89,\n",
       " 0.89,\n",
       " 0.89,\n",
       " 0.89,\n",
       " 0.9,\n",
       " 0.9,\n",
       " 0.91,\n",
       " 0.91,\n",
       " 0.91,\n",
       " 0.91,\n",
       " 0.91,\n",
       " 0.92,\n",
       " 0.92,\n",
       " 0.92,\n",
       " 0.92,\n",
       " 0.92,\n",
       " 0.92]"
      ]
     },
     "execution_count": 6,
     "metadata": {},
     "output_type": "execute_result"
    }
   ],
   "source": [
    "# Hyper Parameters\n",
    "EPOCH = 1             \n",
    "BATCH_SIZE = 50\n",
    "LR = 0.001             \n",
    "TSNE = False\n",
    "\n",
    "#load MNIST dataset\n",
    "train_loader, test_loader = load_mnist(BATCH_SIZE)\n",
    "print(len(train_loader.dataset))\n",
    "print(len(test_loader.dataset))\n",
    "\n",
    "# create model instance\n",
    "hebbnet = HebbNet([784,2000],lr=LR,require_hebb=True,activation=True,update_rule='gupta',p=70)\n",
    "fcn = FCN([2000,10])\n",
    "\n",
    "semihebbnet = SemiHebbNet(hebbnet, fcn)\n",
    "\n",
    "# optimizer and loss function\n",
    "optimizer = torch.optim.Adam(semihebbnet.parameters(), lr=LR)  \n",
    "loss_func = nn.CrossEntropyLoss()                  \n",
    "\n",
    "# train networks\n",
    "train_semihebb(model=semihebbnet, train_loader=train_loader, test_loader=test_loader, optimizer=optimizer, loss_func=loss_func, epochs=EPOCH, tsne_enabled=TSNE)"
   ]
  },
  {
   "cell_type": "code",
   "execution_count": 7,
   "metadata": {},
   "outputs": [
    {
     "name": "stdout",
     "output_type": "stream",
     "text": [
      "Accuracy of the SemiHebbNet on the MNIST test images: 91.98%\n"
     ]
    },
    {
     "data": {
      "text/plain": [
       "0.92"
      ]
     },
     "execution_count": 7,
     "metadata": {},
     "output_type": "execute_result"
    }
   ],
   "source": [
    "# test accuracy\n",
    "test_accuracy(model=semihebbnet, dataset='mnist', flatten_input=True)"
   ]
  }
 ],
 "metadata": {
  "kernelspec": {
   "display_name": "spinningup",
   "language": "python",
   "name": "python3"
  },
  "language_info": {
   "codemirror_mode": {
    "name": "ipython",
    "version": 3
   },
   "file_extension": ".py",
   "mimetype": "text/x-python",
   "name": "python",
   "nbconvert_exporter": "python",
   "pygments_lexer": "ipython3",
   "version": "3.9.16"
  }
 },
 "nbformat": 4,
 "nbformat_minor": 2
}
