{
 "cells": [
  {
   "cell_type": "code",
   "execution_count": 1,
   "metadata": {},
   "outputs": [],
   "source": [
    "!pip install -q xplique"
   ]
  },
  {
   "cell_type": "code",
   "execution_count": 2,
   "metadata": {},
   "outputs": [
    {
     "ename": "NotFoundError",
     "evalue": "dlopen(/opt/homebrew/Caskroom/miniforge/base/envs/spinningup/lib/python3.9/site-packages/tensorflow-plugins/libmetal_plugin.dylib, 0x0006): Symbol not found: __ZN10tensorflow16TensorShapeProtoC1ERKS0_\n  Referenced from: <10B7FC95-0B10-3E4E-84D0-79A2D52E4D78> /opt/homebrew/Caskroom/miniforge/base/envs/spinningup/lib/python3.9/site-packages/tensorflow-plugins/libmetal_plugin.dylib\n  Expected in:     <EA05843B-5F0F-3388-8205-7EE832D18BE8> /opt/homebrew/Caskroom/miniforge/base/envs/spinningup/lib/python3.9/site-packages/tensorflow/python/_pywrap_tensorflow_internal.so",
     "output_type": "error",
     "traceback": [
      "\u001b[0;31m---------------------------------------------------------------------------\u001b[0m",
      "\u001b[0;31mNotFoundError\u001b[0m                             Traceback (most recent call last)",
      "\u001b[1;32m/Users/yuxiang/Documents/GitHub/biologically_plausible_learning/xplique.ipynb Cell 2\u001b[0m line \u001b[0;36m8\n\u001b[1;32m      <a href='vscode-notebook-cell:/Users/yuxiang/Documents/GitHub/biologically_plausible_learning/xplique.ipynb#W0sZmlsZQ%3D%3D?line=5'>6</a>\u001b[0m \u001b[39mimport\u001b[39;00m \u001b[39mmatplotlib\u001b[39;00m\u001b[39m.\u001b[39;00m\u001b[39mpyplot\u001b[39;00m \u001b[39mas\u001b[39;00m \u001b[39mplt\u001b[39;00m\n\u001b[1;32m      <a href='vscode-notebook-cell:/Users/yuxiang/Documents/GitHub/biologically_plausible_learning/xplique.ipynb#W0sZmlsZQ%3D%3D?line=6'>7</a>\u001b[0m \u001b[39mimport\u001b[39;00m \u001b[39mnumpy\u001b[39;00m \u001b[39mas\u001b[39;00m \u001b[39mnp\u001b[39;00m\n\u001b[0;32m----> <a href='vscode-notebook-cell:/Users/yuxiang/Documents/GitHub/biologically_plausible_learning/xplique.ipynb#W0sZmlsZQ%3D%3D?line=7'>8</a>\u001b[0m \u001b[39mfrom\u001b[39;00m \u001b[39mxplique\u001b[39;00m\u001b[39m.\u001b[39;00m\u001b[39mattributions\u001b[39;00m \u001b[39mimport\u001b[39;00m GradCAM\n\u001b[1;32m      <a href='vscode-notebook-cell:/Users/yuxiang/Documents/GitHub/biologically_plausible_learning/xplique.ipynb#W0sZmlsZQ%3D%3D?line=8'>9</a>\u001b[0m \u001b[39mfrom\u001b[39;00m \u001b[39mmodels\u001b[39;00m\u001b[39m.\u001b[39;00m\u001b[39mneural_networks\u001b[39;00m \u001b[39mimport\u001b[39;00m FCN  \u001b[39m# Ensure this import is correct for your FCN model\u001b[39;00m\n\u001b[1;32m     <a href='vscode-notebook-cell:/Users/yuxiang/Documents/GitHub/biologically_plausible_learning/xplique.ipynb#W0sZmlsZQ%3D%3D?line=9'>10</a>\u001b[0m \u001b[39mfrom\u001b[39;00m \u001b[39mevaluation\u001b[39;00m\u001b[39m.\u001b[39;00m\u001b[39mtest\u001b[39;00m \u001b[39mimport\u001b[39;00m test_accuracy  \u001b[39m# Ensure this import is correct\u001b[39;00m\n",
      "File \u001b[0;32m/opt/homebrew/Caskroom/miniforge/base/envs/spinningup/lib/python3.9/site-packages/xplique/__init__.py:11\u001b[0m\n\u001b[1;32m      1\u001b[0m \u001b[39m\"\"\"\u001b[39;00m\n\u001b[1;32m      2\u001b[0m \u001b[39mXplique\u001b[39;00m\n\u001b[1;32m      3\u001b[0m \u001b[39m-------\u001b[39;00m\n\u001b[0;32m   (...)\u001b[0m\n\u001b[1;32m      6\u001b[0m \u001b[39mtechniques\u001b[39;00m\n\u001b[1;32m      7\u001b[0m \u001b[39m\"\"\"\u001b[39;00m\n\u001b[1;32m      9\u001b[0m __version__ \u001b[39m=\u001b[39m \u001b[39m'\u001b[39m\u001b[39m1.3.1\u001b[39m\u001b[39m'\u001b[39m\n\u001b[0;32m---> 11\u001b[0m \u001b[39mfrom\u001b[39;00m \u001b[39m.\u001b[39;00m \u001b[39mimport\u001b[39;00m attributions\n\u001b[1;32m     12\u001b[0m \u001b[39mfrom\u001b[39;00m \u001b[39m.\u001b[39;00m \u001b[39mimport\u001b[39;00m concepts\n\u001b[1;32m     13\u001b[0m \u001b[39mfrom\u001b[39;00m \u001b[39m.\u001b[39;00m \u001b[39mimport\u001b[39;00m features_visualizations\n",
      "File \u001b[0;32m/opt/homebrew/Caskroom/miniforge/base/envs/spinningup/lib/python3.9/site-packages/xplique/attributions/__init__.py:5\u001b[0m\n\u001b[1;32m      1\u001b[0m \u001b[39m\"\"\"\u001b[39;00m\n\u001b[1;32m      2\u001b[0m \u001b[39mAttributions methods availables\u001b[39;00m\n\u001b[1;32m      3\u001b[0m \u001b[39m\"\"\"\u001b[39;00m\n\u001b[0;32m----> 5\u001b[0m \u001b[39mfrom\u001b[39;00m \u001b[39m.\u001b[39;00m\u001b[39msaliency\u001b[39;00m \u001b[39mimport\u001b[39;00m Saliency\n\u001b[1;32m      6\u001b[0m \u001b[39mfrom\u001b[39;00m \u001b[39m.\u001b[39;00m\u001b[39mgradient_input\u001b[39;00m \u001b[39mimport\u001b[39;00m GradientInput\n\u001b[1;32m      7\u001b[0m \u001b[39mfrom\u001b[39;00m \u001b[39m.\u001b[39;00m\u001b[39mdeconvnet\u001b[39;00m \u001b[39mimport\u001b[39;00m DeconvNet\n",
      "File \u001b[0;32m/opt/homebrew/Caskroom/miniforge/base/envs/spinningup/lib/python3.9/site-packages/xplique/attributions/saliency.py:5\u001b[0m\n\u001b[1;32m      1\u001b[0m \u001b[39m\"\"\"\u001b[39;00m\n\u001b[1;32m      2\u001b[0m \u001b[39mModule related to Saliency maps method\u001b[39;00m\n\u001b[1;32m      3\u001b[0m \u001b[39m\"\"\"\u001b[39;00m\n\u001b[0;32m----> 5\u001b[0m \u001b[39mimport\u001b[39;00m \u001b[39mtensorflow\u001b[39;00m \u001b[39mas\u001b[39;00m \u001b[39mtf\u001b[39;00m\n\u001b[1;32m      6\u001b[0m \u001b[39mimport\u001b[39;00m \u001b[39mnumpy\u001b[39;00m \u001b[39mas\u001b[39;00m \u001b[39mnp\u001b[39;00m\n\u001b[1;32m      8\u001b[0m \u001b[39mfrom\u001b[39;00m \u001b[39m.\u001b[39;00m\u001b[39mbase\u001b[39;00m \u001b[39mimport\u001b[39;00m WhiteBoxExplainer, sanitize_input_output\n",
      "File \u001b[0;32m/opt/homebrew/Caskroom/miniforge/base/envs/spinningup/lib/python3.9/site-packages/tensorflow/__init__.py:455\u001b[0m\n\u001b[1;32m    453\u001b[0m _plugin_dir \u001b[39m=\u001b[39m _os\u001b[39m.\u001b[39mpath\u001b[39m.\u001b[39mjoin(_s, \u001b[39m\"\u001b[39m\u001b[39mtensorflow-plugins\u001b[39m\u001b[39m\"\u001b[39m)\n\u001b[1;32m    454\u001b[0m \u001b[39mif\u001b[39;00m _os\u001b[39m.\u001b[39mpath\u001b[39m.\u001b[39mexists(_plugin_dir):\n\u001b[0;32m--> 455\u001b[0m   _ll\u001b[39m.\u001b[39;49mload_library(_plugin_dir)\n\u001b[1;32m    456\u001b[0m   \u001b[39m# Load Pluggable Device Library\u001b[39;00m\n\u001b[1;32m    457\u001b[0m   _ll\u001b[39m.\u001b[39mload_pluggable_device_library(_plugin_dir)\n",
      "File \u001b[0;32m/opt/homebrew/Caskroom/miniforge/base/envs/spinningup/lib/python3.9/site-packages/tensorflow/python/framework/load_library.py:151\u001b[0m, in \u001b[0;36mload_library\u001b[0;34m(library_location)\u001b[0m\n\u001b[1;32m    148\u001b[0m     kernel_libraries \u001b[39m=\u001b[39m [library_location]\n\u001b[1;32m    150\u001b[0m   \u001b[39mfor\u001b[39;00m lib \u001b[39min\u001b[39;00m kernel_libraries:\n\u001b[0;32m--> 151\u001b[0m     py_tf\u001b[39m.\u001b[39;49mTF_LoadLibrary(lib)\n\u001b[1;32m    153\u001b[0m \u001b[39melse\u001b[39;00m:\n\u001b[1;32m    154\u001b[0m   \u001b[39mraise\u001b[39;00m \u001b[39mOSError\u001b[39;00m(\n\u001b[1;32m    155\u001b[0m       errno\u001b[39m.\u001b[39mENOENT,\n\u001b[1;32m    156\u001b[0m       \u001b[39m'\u001b[39m\u001b[39mThe file or folder to load kernel libraries from does not exist.\u001b[39m\u001b[39m'\u001b[39m,\n\u001b[1;32m    157\u001b[0m       library_location)\n",
      "\u001b[0;31mNotFoundError\u001b[0m: dlopen(/opt/homebrew/Caskroom/miniforge/base/envs/spinningup/lib/python3.9/site-packages/tensorflow-plugins/libmetal_plugin.dylib, 0x0006): Symbol not found: __ZN10tensorflow16TensorShapeProtoC1ERKS0_\n  Referenced from: <10B7FC95-0B10-3E4E-84D0-79A2D52E4D78> /opt/homebrew/Caskroom/miniforge/base/envs/spinningup/lib/python3.9/site-packages/tensorflow-plugins/libmetal_plugin.dylib\n  Expected in:     <EA05843B-5F0F-3388-8205-7EE832D18BE8> /opt/homebrew/Caskroom/miniforge/base/envs/spinningup/lib/python3.9/site-packages/tensorflow/python/_pywrap_tensorflow_internal.so"
     ]
    }
   ],
   "source": [
    "import os\n",
    "import torch\n",
    "import torch.nn as nn\n",
    "import torch.utils.data as Data\n",
    "import torchvision\n",
    "import matplotlib.pyplot as plt\n",
    "import numpy as np\n",
    "from xplique.attributions import GradCAM\n",
    "from models.neural_networks import FCN  # Ensure this import is correct for your FCN model\n",
    "from evaluation.test import test_accuracy  # Ensure this import is correct\n",
    "from data import load_mnist, load_cifar10  # Import the new dataset loading functions\n",
    "\n",
    "# Hyperparameters\n",
    "BATCH_SIZE = 50\n",
    "LR = 0.001\n",
    "EPOCH = 1\n",
    "\n",
    "dataset_name = 'CIFAR10'\n",
    "\n",
    "if dataset_name == 'MNIST':\n",
    "    train_loader, test_loader = load_mnist(BATCH_SIZE)\n",
    "elif dataset_name == 'CIFAR10':\n",
    "    train_loader, test_loader = load_cifar10(BATCH_SIZE)\n",
    "\n",
    "model_save_path = 'pretrained/cifar10_models/fcn.pth'\n",
    "pretrained_fcn = FCN([3*32*32, 8, 8, 10], pretrained_model_path=model_save_path)\n",
    "\n",
    "test_accuracy(model=pretrained_fcn, data_loader=test_loader, flatten_input=True)\n",
    "\n",
    "for inputs, labels in test_loader:\n",
    "    X_subset = inputs[:5].view(inputs.size(0), -1)\n",
    "    Y_subset = labels[:5]\n",
    "\n",
    "    explainer = GradCAM(pretrained_fcn)\n",
    "    explanations = explainer(X_subset, Y_subset)  \n",
    "    plt.rcParams[\"figure.figsize\"] = [15, 6]\n",
    "    for i in range(len(X_subset)):\n",
    "        plt.subplot(2, len(X_subset), i + 1)\n",
    "        plt.imshow(X_subset[i].numpy().transpose(1, 2, 0))\n",
    "        plt.axis('off')\n",
    "\n",
    "        plt.subplot(2, len(X_subset), len(X_subset) + i + 1)\n",
    "        plt.imshow(X_subset[i].numpy().transpose(1, 2, 0))\n",
    "        plt.imshow(explanations[i], cmap=\"jet\", alpha=0.5)\n",
    "        plt.axis('off')\n",
    "\n",
    "    plt.show()\n",
    "    break"
   ]
  }
 ],
 "metadata": {
  "kernelspec": {
   "display_name": "spinningup",
   "language": "python",
   "name": "python3"
  },
  "language_info": {
   "codemirror_mode": {
    "name": "ipython",
    "version": 3
   },
   "file_extension": ".py",
   "mimetype": "text/x-python",
   "name": "python",
   "nbconvert_exporter": "python",
   "pygments_lexer": "ipython3",
   "version": "3.9.16"
  }
 },
 "nbformat": 4,
 "nbformat_minor": 2
}
