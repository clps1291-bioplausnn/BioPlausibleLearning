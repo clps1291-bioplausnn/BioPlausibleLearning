{
  "cells": [
    {
      "cell_type": "markdown",
      "metadata": {
        "id": "3HTi6mdDfuOU"
      },
      "source": [
        "\n",
        "# **CLPS 1291 Final Project**\n",
        "\n"
      ]
    },
    {
      "cell_type": "code",
      "execution_count": null,
      "metadata": {
        "id": "ArERhSYMDEVx"
      },
      "outputs": [],
      "source": [
        "#@title Enter your details - {display-mode: \"form\"}\n",
        "\n",
        "Name = 'Yunxi Liang'  #@param {type: \"string\"}\n",
        "Collaborators = ''  #@param {type: \"string\"}\n",
        "\n"
      ]
    },
    {
      "cell_type": "code",
      "source": [
        "import torch\n",
        "import torch.nn as nn\n",
        "import torch.nn.functional as F\n",
        "\n",
        "from torch.utils.data import TensorDataset, DataLoader, Dataset\n",
        "from torch.optim import Adam"
      ],
      "metadata": {
        "id": "96js0CwIEHBi"
      },
      "execution_count": null,
      "outputs": []
    },
    {
      "cell_type": "markdown",
      "source": [
        "### FA Module Setup"
      ],
      "metadata": {
        "id": "7MigEk06unDt"
      }
    },
    {
      "cell_type": "code",
      "source": [
        "import torch\n",
        "import torch.nn.functional as F\n",
        "import torch.nn as nn\n",
        "from torch import autograd\n",
        "from torch.autograd import Variable\n",
        "\n",
        "\n",
        "class LinearFANetwork(nn.Module):\n",
        "    \"\"\"\n",
        "    Linear feed-forward networks with feedback alignment learning\n",
        "    Does NOT perform non-linear activation after each layer\n",
        "    \"\"\"\n",
        "    def __init__(self, in_features, num_layers, num_hidden_list):\n",
        "        \"\"\"\n",
        "        :param in_features: dimension of input features (784 for MNIST)\n",
        "        :param num_layers: number of layers for feed-forward net\n",
        "        :param num_hidden_list: list of integers indicating hidden nodes of each layer = output features?\n",
        "        \"\"\"\n",
        "        super(LinearFANetwork, self).__init__()\n",
        "        self.in_features = in_features\n",
        "        self.num_layers = num_layers\n",
        "        self.num_hidden_list = num_hidden_list\n",
        "\n",
        "        # create list of linear layers\n",
        "        # first hidden layer\n",
        "        self.linear = [LinearFAModule(self.in_features, self.num_hidden_list[0])] # calls FA module to build hidden layers\n",
        "        # append additional hidden layers to list\n",
        "        for idx in range(self.num_layers - 1):\n",
        "            self.linear.append(LinearFAModule(self.num_hidden_list[idx], self.num_hidden_list[idx+1]))\n",
        "\n",
        "        # create ModuleList to make list of layers work\n",
        "        self.linear = nn.ModuleList(self.linear)\n",
        "\n",
        "    def forward(self, inputs):\n",
        "        \"\"\"\n",
        "        forward pass, which is same for conventional feed-forward net\n",
        "        :param inputs: inputs with shape [batch_size, in_features]\n",
        "        :return: logit outputs from the network\n",
        "        \"\"\"\n",
        "\n",
        "        # first layer\n",
        "        linear1 = self.linear[0](inputs)\n",
        "\n",
        "        # second layer\n",
        "        linear2 = self.linear[1](linear1)\n",
        "\n",
        "        return linear2\n",
        "\n",
        "class LinearFAModule(nn.Module):\n",
        "\n",
        "    def __init__(self, input_features, output_features, bias=True):\n",
        "        super(LinearFAModule, self).__init__()\n",
        "        self.input_features = input_features\n",
        "        self.output_features = output_features\n",
        "\n",
        "        # weight and bias for forward pass\n",
        "        # weight has transposed form; more efficient (so i heard) (transposed at forward pass)\n",
        "        self.weight = nn.Parameter(torch.Tensor(output_features, input_features))\n",
        "        if bias:\n",
        "            self.bias = nn.Parameter(torch.Tensor(output_features))\n",
        "        else:\n",
        "            self.register_parameter('bias', None)\n",
        "\n",
        "        # fixed random weight and bias for FA backward pass\n",
        "        # does not need gradient\n",
        "        self.weight_fa = Variable(torch.FloatTensor(output_features, input_features), requires_grad=False)\n",
        "\n",
        "        # weight initialization\n",
        "        torch.nn.init.kaiming_uniform(self.weight)\n",
        "        torch.nn.init.kaiming_uniform(self.weight_fa)\n",
        "        torch.nn.init.constant(self.bias, 1)\n",
        "\n",
        "    def forward(self, input):\n",
        "        return LinearFAFunction.apply(input, self.weight, self.weight_fa, self.bias)\n",
        "\n",
        "\n",
        "class LinearFAFunction(autograd.Function): # is this like the relu activation function?\n",
        "\n",
        "    @staticmethod\n",
        "    # same as reference linear function, but with additional fa tensor for backward\n",
        "    def forward(context, input, weight, weight_fa, bias=None):\n",
        "        context.save_for_backward(input, weight, weight_fa, bias)\n",
        "        output = input.mm(weight.t())\n",
        "        if bias is not None:\n",
        "            output += bias.unsqueeze(0).expand_as(output)\n",
        "        return output\n",
        "\n",
        "    @staticmethod\n",
        "    def backward(context, grad_output):\n",
        "        input, weight, weight_fa, bias = context.saved_variables\n",
        "        grad_input = grad_weight = grad_weight_fa = grad_bias = None\n",
        "\n",
        "        if context.needs_input_grad[0]:\n",
        "            # all of the logic of FA resides in this one line\n",
        "            # calculate the gradient of input with fixed fa tensor, rather than the \"correct\" model weight\n",
        "            grad_input = grad_output.mm(weight_fa.to(grad_output.device))\n",
        "        if context.needs_input_grad[1]:\n",
        "            # grad for weight with FA'ed grad_output from downstream layer\n",
        "            # it is same with original linear function\n",
        "            grad_weight = grad_output.t().mm(input)\n",
        "        if bias is not None and context.needs_input_grad[3]:\n",
        "            grad_bias = grad_output.sum(0).squeeze(0)\n",
        "\n",
        "        return grad_input, grad_weight, grad_weight_fa, grad_bias"
      ],
      "metadata": {
        "id": "yl5Y76uwElGo"
      },
      "execution_count": null,
      "outputs": []
    },
    {
      "cell_type": "markdown",
      "source": [
        "### Processing data and training"
      ],
      "metadata": {
        "id": "oirh8wKYEuFP"
      }
    },
    {
      "cell_type": "code",
      "source": [
        "# SETUP and load the datasets\n",
        "import os\n",
        "import torch\n",
        "import tensorflow_datasets as datasets\n",
        "from torchvision import transforms\n",
        "\n",
        "# check whether CUDA is available\n",
        "cuda_available = torch.cuda.is_available()\n",
        "if cuda_available:\n",
        "    print(\"CUDA is available\")\n",
        "else:\n",
        "    print(\"CUDA is not available\")\n",
        "\n",
        "# CIFAR-10 consists of 60,000 32x32 color images in 10 different classes, with 6,000 images per class.\n",
        "from torchvision import datasets\n",
        "from torchvision.transforms import ToTensor\n",
        "import matplotlib.pyplot as plt\n",
        "\n",
        "transform = transforms.Compose([\n",
        "    transforms.ToTensor(),  # Convert images to PyTorch tensors\n",
        "    transforms.Normalize((0.5,), (0.5,))  # Normalize pixel values to the range [-1, 1]\n",
        "])\n",
        "\n",
        "\n"
      ],
      "metadata": {
        "colab": {
          "base_uri": "https://localhost:8080/"
        },
        "id": "5w79vSxlDjgz",
        "outputId": "3c09e8b1-34fc-4511-87a8-67b4e00ae1e8"
      },
      "execution_count": null,
      "outputs": [
        {
          "output_type": "stream",
          "name": "stdout",
          "text": [
            "CUDA is available\n"
          ]
        }
      ]
    },
    {
      "cell_type": "code",
      "source": [
        "# Download and load the MNIST training dataset\n",
        "train_dataset = datasets.MNIST(root='./data', train=True, download=True, transform=transform)\n",
        "\n",
        "# Create a DataLoader for training data\n",
        "train_loader = DataLoader(train_dataset, batch_size=64, shuffle=True)\n",
        "\n",
        "# Download and load the MNIST test dataset\n",
        "test_dataset = datasets.MNIST(root='./data', train=False, download=True, transform=transform)\n",
        "\n",
        "# Create a DataLoader for test data\n",
        "test_loader = DataLoader(test_dataset, batch_size=64, shuffle=False)"
      ],
      "metadata": {
        "id": "sJOj7aXYoQsF",
        "colab": {
          "base_uri": "https://localhost:8080/"
        },
        "outputId": "4aec92c7-1d06-4a13-927e-1b359538f4d0"
      },
      "execution_count": null,
      "outputs": [
        {
          "output_type": "stream",
          "name": "stdout",
          "text": [
            "Downloading http://yann.lecun.com/exdb/mnist/train-images-idx3-ubyte.gz\n",
            "Downloading http://yann.lecun.com/exdb/mnist/train-images-idx3-ubyte.gz to ./data/MNIST/raw/train-images-idx3-ubyte.gz\n"
          ]
        },
        {
          "output_type": "stream",
          "name": "stderr",
          "text": [
            "100%|██████████| 9912422/9912422 [00:00<00:00, 99487462.87it/s]\n"
          ]
        },
        {
          "output_type": "stream",
          "name": "stdout",
          "text": [
            "Extracting ./data/MNIST/raw/train-images-idx3-ubyte.gz to ./data/MNIST/raw\n",
            "\n",
            "Downloading http://yann.lecun.com/exdb/mnist/train-labels-idx1-ubyte.gz\n",
            "Downloading http://yann.lecun.com/exdb/mnist/train-labels-idx1-ubyte.gz to ./data/MNIST/raw/train-labels-idx1-ubyte.gz\n"
          ]
        },
        {
          "output_type": "stream",
          "name": "stderr",
          "text": [
            "100%|██████████| 28881/28881 [00:00<00:00, 128594154.80it/s]\n"
          ]
        },
        {
          "output_type": "stream",
          "name": "stdout",
          "text": [
            "Extracting ./data/MNIST/raw/train-labels-idx1-ubyte.gz to ./data/MNIST/raw\n",
            "\n",
            "Downloading http://yann.lecun.com/exdb/mnist/t10k-images-idx3-ubyte.gz\n",
            "Downloading http://yann.lecun.com/exdb/mnist/t10k-images-idx3-ubyte.gz to ./data/MNIST/raw/t10k-images-idx3-ubyte.gz\n"
          ]
        },
        {
          "output_type": "stream",
          "name": "stderr",
          "text": [
            "100%|██████████| 1648877/1648877 [00:00<00:00, 32608439.84it/s]"
          ]
        },
        {
          "output_type": "stream",
          "name": "stdout",
          "text": [
            "Extracting ./data/MNIST/raw/t10k-images-idx3-ubyte.gz to ./data/MNIST/raw\n"
          ]
        },
        {
          "output_type": "stream",
          "name": "stderr",
          "text": [
            "\n"
          ]
        },
        {
          "output_type": "stream",
          "name": "stdout",
          "text": [
            "\n",
            "Downloading http://yann.lecun.com/exdb/mnist/t10k-labels-idx1-ubyte.gz\n",
            "Downloading http://yann.lecun.com/exdb/mnist/t10k-labels-idx1-ubyte.gz to ./data/MNIST/raw/t10k-labels-idx1-ubyte.gz\n"
          ]
        },
        {
          "output_type": "stream",
          "name": "stderr",
          "text": [
            "100%|██████████| 4542/4542 [00:00<00:00, 4010637.64it/s]"
          ]
        },
        {
          "output_type": "stream",
          "name": "stdout",
          "text": [
            "Extracting ./data/MNIST/raw/t10k-labels-idx1-ubyte.gz to ./data/MNIST/raw\n",
            "\n"
          ]
        },
        {
          "output_type": "stream",
          "name": "stderr",
          "text": [
            "\n"
          ]
        }
      ]
    },
    {
      "cell_type": "markdown",
      "source": [
        "### Baseline1: Build the Network: simple Con\n"
      ],
      "metadata": {
        "id": "7uL7DDGKEn2Z"
      }
    },
    {
      "cell_type": "code",
      "source": [
        "class SimpleConvNet(nn.Module):\n",
        "    def __init__(self, out_features):\n",
        "        super().__init__()\n",
        "        # reshape the data first to pass into conv1\n",
        "        self.conv1 = nn.Conv2d(1, 10, kernel_size=5) # first conv layer (1->10)\n",
        "        # maxpool2d (kernel=2), and then apply relu\n",
        "        self.conv2 = nn.Conv2d(10, 20, kernel_size=5)# second conv layer\n",
        "        self.conv2_drop = nn.Dropout2d() # dropout layer\n",
        "        # apply maxpool2d(kernel=2) after dropout, then apply relu\n",
        "        # flatten tensor using view, prepare for fc\n",
        "        self.fc1 = nn.Linear(320, 50) # fc1\n",
        "        # apply relu again, and then dropout for regularization\n",
        "        self.fc2 = nn.Linear(50, out_features) # fc2\n",
        "        # pass this through softmax\n",
        "\n",
        "    def forward(self, x):\n",
        "        x = x.view(len(x), 1, 28, 28)\n",
        "        x = F.relu(F.max_pool2d(self.conv1(x), 2))\n",
        "        x = F.relu(F.max_pool2d(self.conv2_drop(self.conv2(x)), 2))\n",
        "        # flatten the tensor to prepare for fc\n",
        "        x = x.view(-1, 320)\n",
        "        x = F.relu(self.fc1(x))\n",
        "        x = F.dropout(x, training=self.training)\n",
        "        x = self.fc2(x)\n",
        "        return F.log_softmax(x, dim=-1)\n"
      ],
      "metadata": {
        "id": "Cm7s_tl6C_6x"
      },
      "execution_count": null,
      "outputs": []
    },
    {
      "cell_type": "code",
      "source": [
        "# Train Simple CNN\n",
        "import torch.optim as optim\n",
        "SimpleConvNet_model = SimpleConvNet(10)\n",
        "\n",
        "criterion = nn.CrossEntropyLoss()\n",
        "optimizer = optim.SGD(SimpleConvNet_model.parameters(), lr=0.01) # used sgd as optimizer"
      ],
      "metadata": {
        "id": "iePTveEJDYVm"
      },
      "execution_count": null,
      "outputs": []
    },
    {
      "cell_type": "code",
      "source": [
        "import numpy as np\n",
        "import matplotlib.pyplot as plt\n",
        "plt.rcParams['figure.figsize'] = [5, 5]\n",
        "plt.ion()\n",
        "\n",
        "epochs = 5\n",
        "val_accuracies = []\n",
        "for epoch in range(epochs):\n",
        "      for batch_id, (data, target) in enumerate(train_loader):\n",
        "        optimizer.zero_grad()\n",
        "        output = SimpleConvNet_model(data)\n",
        "        loss = criterion(output, target) # criterion ouptut a loss item\n",
        "        loss.backward()\n",
        "        optimizer.step()\n",
        "\n",
        "        if batch_id % 100 ==0:\n",
        "          print('Epoch {}, Batch {}, Loss: {:.4f}'.format(epoch, batch_id, loss.item()))\n",
        "\n",
        "\n",
        "      SimpleConvNet_model.eval()\n",
        "      test_loss = 0\n",
        "      correct = 0\n",
        "      with torch.no_grad():\n",
        "          val_acc = []\n",
        "          for data, target in test_loader:\n",
        "              output = SimpleConvNet_model(data)\n",
        "              test_loss += criterion(output, target).item()\n",
        "              pred = output.argmax(dim=1, keepdim=True)\n",
        "              correct += pred.eq(target.view_as(pred)).sum().item()\n",
        "              val_acc.append((pred == target.view_as(pred)).float().mean().item())\n",
        "          val_accuracies.append(np.mean(val_acc))\n",
        "\n",
        "      test_loss /= len(test_loader.dataset) # returns average test loss\n",
        "      accuracy = correct / len(test_loader.dataset)\n",
        "\n",
        "      print('Test set: Average loss: {:.4f}, Accuracy: {}/{} ({:.2f}%)'.format(\n",
        "          test_loss, correct, len(test_loader.dataset), 100. * accuracy))\n",
        "plt.plot(val_accuracies)\n"
      ],
      "metadata": {
        "colab": {
          "base_uri": "https://localhost:8080/",
          "height": 1000
        },
        "id": "OLATIP1IfbDE",
        "outputId": "929427f4-182c-4956-a66e-cf32f3ee8b26"
      },
      "execution_count": null,
      "outputs": [
        {
          "output_type": "stream",
          "name": "stdout",
          "text": [
            "Epoch 0, Batch 0, Loss: 2.3326\n",
            "Epoch 0, Batch 100, Loss: 2.2568\n",
            "Epoch 0, Batch 200, Loss: 2.1915\n",
            "Epoch 0, Batch 300, Loss: 2.1498\n",
            "Epoch 0, Batch 400, Loss: 1.5491\n",
            "Epoch 0, Batch 500, Loss: 1.2559\n",
            "Epoch 0, Batch 600, Loss: 0.9760\n",
            "Epoch 0, Batch 700, Loss: 0.8559\n",
            "Epoch 0, Batch 800, Loss: 0.8829\n",
            "Epoch 0, Batch 900, Loss: 0.9231\n",
            "Test set: Average loss: 0.0071, Accuracy: 8784/10000 (87.84%)\n",
            "Epoch 1, Batch 0, Loss: 0.6006\n",
            "Epoch 1, Batch 100, Loss: 0.4558\n",
            "Epoch 1, Batch 200, Loss: 0.2675\n",
            "Epoch 1, Batch 300, Loss: 0.3420\n",
            "Epoch 1, Batch 400, Loss: 0.1586\n",
            "Epoch 1, Batch 500, Loss: 0.1680\n",
            "Epoch 1, Batch 600, Loss: 0.1103\n",
            "Epoch 1, Batch 700, Loss: 0.2984\n",
            "Epoch 1, Batch 800, Loss: 0.1363\n",
            "Epoch 1, Batch 900, Loss: 0.1482\n",
            "Test set: Average loss: 0.0030, Accuracy: 9445/10000 (94.45%)\n",
            "Epoch 2, Batch 0, Loss: 0.3172\n",
            "Epoch 2, Batch 100, Loss: 0.2379\n",
            "Epoch 2, Batch 200, Loss: 0.1812\n",
            "Epoch 2, Batch 300, Loss: 0.1212\n",
            "Epoch 2, Batch 400, Loss: 0.1567\n",
            "Epoch 2, Batch 500, Loss: 0.2103\n",
            "Epoch 2, Batch 600, Loss: 0.1006\n",
            "Epoch 2, Batch 700, Loss: 0.0927\n",
            "Epoch 2, Batch 800, Loss: 0.1630\n",
            "Epoch 2, Batch 900, Loss: 0.0431\n",
            "Test set: Average loss: 0.0020, Accuracy: 9621/10000 (96.21%)\n",
            "Epoch 3, Batch 0, Loss: 0.1145\n",
            "Epoch 3, Batch 100, Loss: 0.0926\n",
            "Epoch 3, Batch 200, Loss: 0.0615\n",
            "Epoch 3, Batch 300, Loss: 0.0809\n",
            "Epoch 3, Batch 400, Loss: 0.0712\n",
            "Epoch 3, Batch 500, Loss: 0.0782\n",
            "Epoch 3, Batch 600, Loss: 0.2048\n",
            "Epoch 3, Batch 700, Loss: 0.1171\n",
            "Epoch 3, Batch 800, Loss: 0.0260\n",
            "Epoch 3, Batch 900, Loss: 0.1246\n",
            "Test set: Average loss: 0.0017, Accuracy: 9677/10000 (96.77%)\n",
            "Epoch 4, Batch 0, Loss: 0.1255\n",
            "Epoch 4, Batch 100, Loss: 0.1404\n",
            "Epoch 4, Batch 200, Loss: 0.1532\n",
            "Epoch 4, Batch 300, Loss: 0.1903\n",
            "Epoch 4, Batch 400, Loss: 0.0522\n",
            "Epoch 4, Batch 500, Loss: 0.1489\n",
            "Epoch 4, Batch 600, Loss: 0.0194\n",
            "Epoch 4, Batch 700, Loss: 0.0648\n",
            "Epoch 4, Batch 800, Loss: 0.1714\n",
            "Epoch 4, Batch 900, Loss: 0.0264\n",
            "Test set: Average loss: 0.0013, Accuracy: 9745/10000 (97.45%)\n"
          ]
        },
        {
          "output_type": "execute_result",
          "data": {
            "text/plain": [
              "[<matplotlib.lines.Line2D at 0x799ce5d3fe20>]"
            ]
          },
          "metadata": {},
          "execution_count": 8
        },
        {
          "output_type": "display_data",
          "data": {
            "text/plain": [
              "<Figure size 500x500 with 1 Axes>"
            ],
            "image/png": "[encoded data removed]"
          },
          "metadata": {}
        }
      ]
    },
    {
      "cell_type": "markdown",
      "source": [
        "### Baseline3: Weight Extraction and build FA"
      ],
      "metadata": {
        "id": "ShWHnzBOSDZa"
      }
    },
    {
      "cell_type": "code",
      "source": [
        "# Weight extraction\n",
        "trained_model = SimpleConvNet_model\n",
        "state_dict = trained_model.state_dict()\n",
        "conv1_weights = state_dict['conv1.weight']\n",
        "conv2_weights = state_dict['conv2.weight']"
      ],
      "metadata": {
        "id": "fMmsLR56zMOW"
      },
      "execution_count": null,
      "outputs": []
    },
    {
      "cell_type": "code",
      "source": [
        "from torch.nn import Parameter\n",
        "class SimpleConvNet_withFA(nn.Module):\n",
        "    def __init__(self, out_features, conv1_weights, conv2_weights):\n",
        "        super().__init__()\n",
        "        self.conv1 = nn.Conv2d(1, 10, kernel_size=5)\n",
        "        self.conv1.weight = Parameter(conv1_weights)\n",
        "        self.conv2 = nn.Conv2d(10, 20, kernel_size=5)\n",
        "        self.conv2.weight = Parameter(conv2_weights)\n",
        "        self.conv2_drop = nn.Dropout2d()\n",
        "        # freeze the above 3 layers\n",
        "        self.conv1.requires_grad = False\n",
        "        self.conv2.requires_grad = False\n",
        "        self.conv2_drop.requires_grad = False\n",
        "\n",
        "        self.fa1 = LinearFAModule(320, 50) # just specify size?\n",
        "        self.fa2 = LinearFAModule(50, out_features)\n",
        "\n",
        "    def forward(self, x):\n",
        "        #print(\"Input size:\", x.size())\n",
        "        x = F.relu(F.max_pool2d(self.conv1(x), 2))\n",
        "        #print(\"After conv1 size:\", x.size())\n",
        "        x = F.relu(F.max_pool2d(self.conv2_drop(self.conv2(x)), 2))\n",
        "        #print(\"After conv2 size:\", x.size())\n",
        "        # Flatten the tensor to prepare for fc\n",
        "        x = x.view(-1, 320)\n",
        "        #print(\"After view size:\", x.size())\n",
        "        x = F.relu(self.fa1(x))\n",
        "        #print(\"After fa1 size:\", x.size())\n",
        "        x = F.dropout(x, training=self.training)\n",
        "        x = self.fa2(x)\n",
        "        #print(\"Final output size:\", x.size())\n",
        "        return F.log_softmax(x, dim=-1)\n",
        "\n",
        "        # # x = x.view(-1, 1, 28, 28)\n",
        "        # x = F.relu(F.max_pool2d(self.conv1(x), 2))\n",
        "        # x = F.relu(F.max_pool2d(self.conv2_drop(self.conv2(x)), 2))\n",
        "        # # flatten the tensor to prepare for fc\n",
        "        # x = x.view(-1, self.conv2.out_channels)\n",
        "        # x = F.relu(self.fa1(x))\n",
        "        # x = F.dropout(x, training=self.training)\n",
        "        # x = self.fa2(x)\n",
        "        # return F.log_softmax(x, dim=-1)\n",
        "\n",
        "conv_withfa = SimpleConvNet_withFA(10, conv1_weights, conv2_weights)\n",
        "optimizer_fa = torch.optim.SGD(conv_withfa.parameters(),\n",
        "                            lr=0.0001)"
      ],
      "metadata": {
        "id": "vVQ-0J_yDdJk",
        "colab": {
          "base_uri": "https://localhost:8080/"
        },
        "outputId": "224b9abf-2a9e-4da4-9290-6933777a706a"
      },
      "execution_count": null,
      "outputs": [
        {
          "output_type": "stream",
          "name": "stderr",
          "text": [
            "<ipython-input-3-315a784c8d12>:69: UserWarning: nn.init.kaiming_uniform is now deprecated in favor of nn.init.kaiming_uniform_.\n",
            "  torch.nn.init.kaiming_uniform(self.weight)\n",
            "<ipython-input-3-315a784c8d12>:70: UserWarning: nn.init.kaiming_uniform is now deprecated in favor of nn.init.kaiming_uniform_.\n",
            "  torch.nn.init.kaiming_uniform(self.weight_fa)\n",
            "<ipython-input-3-315a784c8d12>:71: UserWarning: nn.init.constant is now deprecated in favor of nn.init.constant_.\n",
            "  torch.nn.init.constant(self.bias, 1)\n"
          ]
        }
      ]
    },
    {
      "cell_type": "code",
      "source": [
        "epochs = 5\n",
        "val_accuracies = []\n",
        "for epoch in range(epochs):\n",
        "    for batch_id, (inputs, targets) in enumerate(train_loader):\n",
        "        optimizer_fa.zero_grad()\n",
        "        outputs_fa = conv_withfa(inputs)\n",
        "        #print(inputs.shape, targets.shape, outputs_fa.shape)\n",
        "        # calculate loss\n",
        "        loss_fa = criterion(outputs_fa, targets)\n",
        "        loss_fa.backward()\n",
        "        optimizer_fa.step()\n",
        "\n",
        "        if batch_id % 100 ==0:\n",
        "          print('Epoch {}, Batch {}, Loss: {:.4f}'.format(epoch, batch_id, loss_fa.item()))\n",
        "\n",
        "    conv_withfa.eval()\n",
        "    test_loss = 0\n",
        "    correct = 0\n",
        "    with torch.no_grad():\n",
        "        val_acc=[]\n",
        "        for data, target in test_loader:\n",
        "            output = conv_withfa(data)\n",
        "            test_loss += criterion(output, target).item()\n",
        "            pred = output.argmax(dim=1, keepdim=True)\n",
        "            correct += pred.eq(target.view_as(pred)).sum().item()\n",
        "            val_acc.append((pred == target.view_as(pred)).float().mean().item())\n",
        "        val_accuracies.append(np.mean(val_acc))\n",
        "\n",
        "    test_loss /= len(test_loader.dataset) # returns average test loss\n",
        "    accuracy = correct / len(test_loader.dataset)\n",
        "\n",
        "    print('Test set: Average loss: {:.4f}, Accuracy: {}/{} ({:.2f}%)'.format(\n",
        "        test_loss, correct, len(test_loader.dataset), 100. * accuracy))\n",
        "\n",
        "plt.plot(val_accuracies)"
      ],
      "metadata": {
        "colab": {
          "base_uri": "https://localhost:8080/",
          "height": 1000
        },
        "id": "D--dfI7TmE1B",
        "outputId": "51b5cbc7-3e19-4cf0-ccbc-0bfaeb7f0f17"
      },
      "execution_count": null,
      "outputs": [
        {
          "output_type": "stream",
          "name": "stderr",
          "text": [
            "<ipython-input-3-315a784c8d12>:90: DeprecationWarning: 'saved_variables' is deprecated; use 'saved_tensors'\n",
            "  input, weight, weight_fa, bias = context.saved_variables\n"
          ]
        },
        {
          "output_type": "stream",
          "name": "stdout",
          "text": [
            "Epoch 0, Batch 0, Loss: 19.8490\n",
            "Epoch 0, Batch 100, Loss: 16.7700\n",
            "Epoch 0, Batch 200, Loss: 16.5131\n",
            "Epoch 0, Batch 300, Loss: 18.1051\n",
            "Epoch 0, Batch 400, Loss: 15.8396\n",
            "Epoch 0, Batch 500, Loss: 16.7095\n",
            "Epoch 0, Batch 600, Loss: 13.6263\n",
            "Epoch 0, Batch 700, Loss: 14.4901\n",
            "Epoch 0, Batch 800, Loss: 15.5837\n",
            "Epoch 0, Batch 900, Loss: 13.7373\n",
            "Test set: Average loss: 0.0764, Accuracy: 1517/10000 (15.17%)\n",
            "Epoch 1, Batch 0, Loss: 5.1904\n",
            "Epoch 1, Batch 100, Loss: 3.8309\n",
            "Epoch 1, Batch 200, Loss: 3.3519\n",
            "Epoch 1, Batch 300, Loss: 3.4892\n",
            "Epoch 1, Batch 400, Loss: 3.7755\n",
            "Epoch 1, Batch 500, Loss: 3.4248\n",
            "Epoch 1, Batch 600, Loss: 3.5199\n",
            "Epoch 1, Batch 700, Loss: 3.1255\n",
            "Epoch 1, Batch 800, Loss: 3.1491\n",
            "Epoch 1, Batch 900, Loss: 3.4285\n",
            "Test set: Average loss: 0.0452, Accuracy: 2914/10000 (29.14%)\n",
            "Epoch 2, Batch 0, Loss: 3.0228\n",
            "Epoch 2, Batch 100, Loss: 2.9092\n",
            "Epoch 2, Batch 200, Loss: 2.5931\n",
            "Epoch 2, Batch 300, Loss: 2.3003\n",
            "Epoch 2, Batch 400, Loss: 2.0607\n",
            "Epoch 2, Batch 500, Loss: 2.7548\n",
            "Epoch 2, Batch 600, Loss: 2.4212\n",
            "Epoch 2, Batch 700, Loss: 2.6556\n",
            "Epoch 2, Batch 800, Loss: 2.7861\n",
            "Epoch 2, Batch 900, Loss: 2.6661\n",
            "Test set: Average loss: 0.0345, Accuracy: 4575/10000 (45.75%)\n",
            "Epoch 3, Batch 0, Loss: 2.3103\n",
            "Epoch 3, Batch 100, Loss: 2.0273\n",
            "Epoch 3, Batch 200, Loss: 2.9250\n",
            "Epoch 3, Batch 300, Loss: 2.0496\n",
            "Epoch 3, Batch 400, Loss: 2.7908\n",
            "Epoch 3, Batch 500, Loss: 1.8476\n",
            "Epoch 3, Batch 600, Loss: 1.5879\n",
            "Epoch 3, Batch 700, Loss: 1.6582\n",
            "Epoch 3, Batch 800, Loss: 1.9127\n",
            "Epoch 3, Batch 900, Loss: 1.9325\n",
            "Test set: Average loss: 0.0268, Accuracy: 5655/10000 (56.55%)\n",
            "Epoch 4, Batch 0, Loss: 1.5067\n",
            "Epoch 4, Batch 100, Loss: 2.3481\n",
            "Epoch 4, Batch 200, Loss: 1.4588\n",
            "Epoch 4, Batch 300, Loss: 1.4831\n",
            "Epoch 4, Batch 400, Loss: 1.2459\n",
            "Epoch 4, Batch 500, Loss: 1.5007\n",
            "Epoch 4, Batch 600, Loss: 1.3977\n",
            "Epoch 4, Batch 700, Loss: 1.1023\n",
            "Epoch 4, Batch 800, Loss: 1.6165\n",
            "Epoch 4, Batch 900, Loss: 1.8806\n",
            "Test set: Average loss: 0.0219, Accuracy: 6432/10000 (64.32%)\n"
          ]
        },
        {
          "output_type": "execute_result",
          "data": {
            "text/plain": [
              "[<matplotlib.lines.Line2D at 0x799cde8078e0>]"
            ]
          },
          "metadata": {},
          "execution_count": 13
        },
        {
          "output_type": "display_data",
          "data": {
            "text/plain": [
              "<Figure size 500x500 with 1 Axes>"
            ],
            "image/png": "[encoded data removed]"
          },
          "metadata": {}
        }
      ]
    },
    {
      "cell_type": "markdown",
      "source": [
        "### Models ran on CIFAR-10"
      ],
      "metadata": {
        "id": "7-4P-tUBzeiX"
      }
    },
    {
      "cell_type": "code",
      "source": [
        "# Process CIFAR10\n",
        "import torchvision\n",
        "\n",
        "def load_cifar10(batch_size):\n",
        "    DOWNLOAD_CIFAR10 = False\n",
        "    if not(os.path.exists('./cifar10/')) or not os.listdir('./cifar10/'):\n",
        "        DOWNLOAD_CIFAR10 = True\n",
        "\n",
        "    transform = transforms.Compose([\n",
        "        transforms.ToTensor(),\n",
        "        transforms.Normalize((0.5, 0.5, 0.5), (0.5, 0.5, 0.5))  #for each RGB channel.\n",
        "    ])\n",
        "\n",
        "    train_data = torchvision.datasets.CIFAR10(\n",
        "        root='./cifar10/', train=True,\n",
        "        download=DOWNLOAD_CIFAR10, transform=transform\n",
        "    )\n",
        "    train_loader = torch.utils.data.DataLoader(train_data, batch_size=batch_size, shuffle=True)\n",
        "\n",
        "    test_data = torchvision.datasets.CIFAR10(\n",
        "        root='./cifar10/', train=False,\n",
        "        download=DOWNLOAD_CIFAR10, transform=transform\n",
        "    )\n",
        "    test_loader = torch.utils.data.DataLoader(test_data, batch_size=batch_size, shuffle=False)\n",
        "\n",
        "    return train_loader, test_loader\n",
        "\n",
        "train_loader_cifar,test_loader_cifar = load_cifar10(64)\n"
      ],
      "metadata": {
        "colab": {
          "base_uri": "https://localhost:8080/"
        },
        "id": "gQgUH_5Gz34V",
        "outputId": "abdadfad-071b-4dac-fdc3-26dd3e69af4f"
      },
      "execution_count": null,
      "outputs": [
        {
          "output_type": "stream",
          "name": "stdout",
          "text": [
            "Downloading https://www.cs.toronto.edu/~kriz/cifar-10-python.tar.gz to ./cifar10/cifar-10-python.tar.gz\n"
          ]
        },
        {
          "output_type": "stream",
          "name": "stderr",
          "text": [
            "100%|██████████| 170498071/170498071 [00:10<00:00, 16166875.23it/s]\n"
          ]
        },
        {
          "output_type": "stream",
          "name": "stdout",
          "text": [
            "Extracting ./cifar10/cifar-10-python.tar.gz to ./cifar10/\n",
            "Files already downloaded and verified\n"
          ]
        }
      ]
    },
    {
      "cell_type": "code",
      "source": [
        "class SimpleConvNet_cifar(nn.Module):\n",
        "    def __init__(self, out_features):\n",
        "        super().__init__()\n",
        "        # reshape the data first to pass into conv1\n",
        "        self.conv1 = nn.Conv2d(3, 16, kernel_size=5, stride=1, padding=2)  # Change input channels to 3\n",
        "        # maxpool2d (kernel=2), and then apply relu\n",
        "        self.conv2 = nn.Conv2d(16, 32, kernel_size=5, stride=1, padding=2)  # second conv layer\n",
        "        self.conv2_drop = nn.Dropout2d()  # dropout layer\n",
        "        # apply maxpool2d(kernel=2) after dropout, then apply relu\n",
        "        # flatten tensor using view, prepare for fc\n",
        "\n",
        "        self.fc1 = nn.Linear(32*8*8, 50)  # Adjust input size for fc1\n",
        "        # apply relu again, and then dropout for regularization\n",
        "        self.fc2 = nn.Linear(50, out_features)  # fc2\n",
        "        # pass this through softmax\n",
        "\n",
        "    def forward(self, x):\n",
        "        x = F.relu(F.max_pool2d(self.conv1(x), 2))\n",
        "        x = F.relu(F.max_pool2d(self.conv2_drop(self.conv2(x)), 2))\n",
        "        # flatten the tensor to prepare for fc\n",
        "        x = x.view(-1, 32*8*8)\n",
        "        x = F.relu(self.fc1(x))\n",
        "        x = F.dropout(x, training=self.training)\n",
        "        x = self.fc2(x)\n",
        "        return F.log_softmax(x, dim=-1)\n",
        "\n",
        "# Train Simple CNN\n",
        "import torch.optim as optim\n",
        "SimpleConvNet_cifar = SimpleConvNet_cifar(10)\n",
        "\n",
        "criterion = nn.CrossEntropyLoss()\n",
        "optimizer_cifar = optim.SGD(SimpleConvNet_cifar.parameters(), lr=0.01) # used sgd as optimizer"
      ],
      "metadata": {
        "id": "kg0Sc6Xrzd4k"
      },
      "execution_count": null,
      "outputs": []
    },
    {
      "cell_type": "code",
      "source": [
        "import numpy as np\n",
        "import matplotlib.pyplot as plt\n",
        "plt.rcParams['figure.figsize'] = [5, 5]\n",
        "plt.ion()\n",
        "\n",
        "epochs = 5\n",
        "val_accuracies = []\n",
        "for epoch in range(epochs):\n",
        "      for batch_id, (data, target) in enumerate(train_loader_cifar):\n",
        "        optimizer_cifar.zero_grad()\n",
        "        output = SimpleConvNet_cifar(data)\n",
        "        loss = criterion(output, target) # criterion ouptut a loss item\n",
        "        loss.backward()\n",
        "        optimizer_cifar.step()\n",
        "\n",
        "        if batch_id % 100 ==0:\n",
        "          print('Epoch {}, Batch {}, Loss: {:.4f}'.format(epoch, batch_id, loss.item()))\n",
        "\n",
        "\n",
        "      SimpleConvNet_cifar.eval()\n",
        "      test_loss = 0\n",
        "      correct = 0\n",
        "      with torch.no_grad():\n",
        "          val_acc = []\n",
        "          for data, target in test_loader_cifar:\n",
        "              output = SimpleConvNet_cifar(data)\n",
        "              test_loss += criterion(output, target).item()\n",
        "              pred = output.argmax(dim=1, keepdim=True)\n",
        "              correct += pred.eq(target.view_as(pred)).sum().item()\n",
        "              val_acc.append((pred == target.view_as(pred)).float().mean().item())\n",
        "          val_accuracies.append(np.mean(val_acc))\n",
        "\n",
        "      test_loss /= len(test_loader_cifar.dataset) # returns average test loss\n",
        "      accuracy = correct / len(test_loader_cifar.dataset)\n",
        "\n",
        "      print('Test set: Average loss: {:.4f}, Accuracy: {}/{} ({:.2f}%)'.format(\n",
        "          test_loss, correct, len(test_loader_cifar.dataset), 100. * accuracy))\n",
        "plt.plot(val_accuracies)\n"
      ],
      "metadata": {
        "colab": {
          "base_uri": "https://localhost:8080/",
          "height": 1000
        },
        "id": "bp6D9bF-1gs5",
        "outputId": "5d44bf83-b8c1-459d-e2f2-4f96393767ce"
      },
      "execution_count": null,
      "outputs": [
        {
          "output_type": "stream",
          "name": "stdout",
          "text": [
            "Epoch 0, Batch 0, Loss: 2.3118\n",
            "Epoch 0, Batch 100, Loss: 2.3033\n",
            "Epoch 0, Batch 200, Loss: 2.2667\n",
            "Epoch 0, Batch 300, Loss: 2.2165\n",
            "Epoch 0, Batch 400, Loss: 2.1383\n",
            "Epoch 0, Batch 500, Loss: 2.1616\n",
            "Epoch 0, Batch 600, Loss: 1.9997\n",
            "Epoch 0, Batch 700, Loss: 2.0997\n",
            "Test set: Average loss: 0.0313, Accuracy: 2955/10000 (29.55%)\n",
            "Epoch 1, Batch 0, Loss: 2.0810\n",
            "Epoch 1, Batch 100, Loss: 2.0144\n",
            "Epoch 1, Batch 200, Loss: 1.9839\n",
            "Epoch 1, Batch 300, Loss: 1.8736\n",
            "Epoch 1, Batch 400, Loss: 1.8218\n",
            "Epoch 1, Batch 500, Loss: 1.7693\n",
            "Epoch 1, Batch 600, Loss: 1.9842\n",
            "Epoch 1, Batch 700, Loss: 1.6140\n",
            "Test set: Average loss: 0.0257, Accuracy: 4127/10000 (41.27%)\n",
            "Epoch 2, Batch 0, Loss: 1.7711\n",
            "Epoch 2, Batch 100, Loss: 1.6358\n",
            "Epoch 2, Batch 200, Loss: 1.6080\n",
            "Epoch 2, Batch 300, Loss: 1.5507\n",
            "Epoch 2, Batch 400, Loss: 1.4822\n",
            "Epoch 2, Batch 500, Loss: 1.5455\n",
            "Epoch 2, Batch 600, Loss: 1.5954\n",
            "Epoch 2, Batch 700, Loss: 1.6767\n",
            "Test set: Average loss: 0.0235, Accuracy: 4527/10000 (45.27%)\n",
            "Epoch 3, Batch 0, Loss: 1.5202\n",
            "Epoch 3, Batch 100, Loss: 1.5362\n",
            "Epoch 3, Batch 200, Loss: 1.3799\n",
            "Epoch 3, Batch 300, Loss: 1.5141\n",
            "Epoch 3, Batch 400, Loss: 1.3351\n",
            "Epoch 3, Batch 500, Loss: 1.2720\n",
            "Epoch 3, Batch 600, Loss: 1.3836\n",
            "Epoch 3, Batch 700, Loss: 1.2792\n",
            "Test set: Average loss: 0.0244, Accuracy: 4395/10000 (43.95%)\n",
            "Epoch 4, Batch 0, Loss: 1.5585\n",
            "Epoch 4, Batch 100, Loss: 1.5522\n",
            "Epoch 4, Batch 200, Loss: 1.4527\n",
            "Epoch 4, Batch 300, Loss: 1.1362\n",
            "Epoch 4, Batch 400, Loss: 1.3279\n",
            "Epoch 4, Batch 500, Loss: 1.5210\n",
            "Epoch 4, Batch 600, Loss: 1.3434\n",
            "Epoch 4, Batch 700, Loss: 1.0954\n",
            "Test set: Average loss: 0.0226, Accuracy: 4850/10000 (48.50%)\n"
          ]
        },
        {
          "output_type": "execute_result",
          "data": {
            "text/plain": [
              "[<matplotlib.lines.Line2D at 0x7b3ac0861120>]"
            ]
          },
          "metadata": {},
          "execution_count": 6
        },
        {
          "output_type": "display_data",
          "data": {
            "text/plain": [
              "<Figure size 500x500 with 1 Axes>"
            ],
            "image/png": "[encoded data removed]"
          },
          "metadata": {}
        }
      ]
    },
    {
      "cell_type": "code",
      "source": [
        "# Weight extraction\n",
        "trained_cifar = SimpleConvNet_cifar\n",
        "state_dict = trained_cifar.state_dict()\n",
        "conv1_weights = state_dict['conv1.weight']\n",
        "conv2_weights = state_dict['conv2.weight']\n",
        "\n",
        "from torch.nn import Parameter\n",
        "class SimpleConvNet_withFA_cifar(nn.Module):\n",
        "    def __init__(self, out_features, conv1_weights, conv2_weights):\n",
        "        super().__init__()\n",
        "        self.conv1 = nn.Conv2d(3, 16, kernel_size=5, stride=1, padding=2)\n",
        "        self.conv1.weight = Parameter(conv1_weights)\n",
        "        self.conv2 = nn.Conv2d(16, 32, kernel_size=5, stride=1, padding=2)\n",
        "        self.conv2.weight = Parameter(conv2_weights)\n",
        "        self.conv2_drop = nn.Dropout2d()\n",
        "        # freeze the above 3 layers\n",
        "        self.conv1.requires_grad = False\n",
        "        self.conv2.requires_grad = False\n",
        "        self.conv2_drop.requires_grad = False\n",
        "\n",
        "        self.fa1 = LinearFAModule(32*8*8, 50) # just specify size?\n",
        "        self.fa2 = LinearFAModule(50, out_features)\n",
        "\n",
        "    def forward(self, x):\n",
        "        #print(\"Input size:\", x.size())\n",
        "        x = F.relu(F.max_pool2d(self.conv1(x), 2))\n",
        "        #print(\"After conv1 size:\", x.size())\n",
        "        x = F.relu(F.max_pool2d(self.conv2_drop(self.conv2(x)), 2))\n",
        "        #print(\"After conv2 size:\", x.size())\n",
        "        # Flatten the tensor to prepare for fc\n",
        "        x = x.view(-1, 32*8*8)\n",
        "        #print(\"After view size:\", x.size())\n",
        "        x = F.relu(self.fa1(x))\n",
        "        #print(\"After fa1 size:\", x.size())\n",
        "        x = F.dropout(x, training=self.training)\n",
        "        x = self.fa2(x)\n",
        "        #print(\"Final output size:\", x.size())\n",
        "        return F.log_softmax(x, dim=-1)\n",
        "\n",
        "conv_withfa_cifar = SimpleConvNet_withFA_cifar(10, conv1_weights, conv2_weights)\n",
        "optimizer_fa_cifar = torch.optim.SGD(conv_withfa_cifar.parameters(),\n",
        "                            lr=0.0001)"
      ],
      "metadata": {
        "colab": {
          "base_uri": "https://localhost:8080/"
        },
        "id": "CEcnyHe41_PV",
        "outputId": "351adac2-3d73-4653-994b-53be0a1238d0"
      },
      "execution_count": null,
      "outputs": [
        {
          "output_type": "stream",
          "name": "stderr",
          "text": [
            "<ipython-input-2-315a784c8d12>:69: UserWarning: nn.init.kaiming_uniform is now deprecated in favor of nn.init.kaiming_uniform_.\n",
            "  torch.nn.init.kaiming_uniform(self.weight)\n",
            "<ipython-input-2-315a784c8d12>:70: UserWarning: nn.init.kaiming_uniform is now deprecated in favor of nn.init.kaiming_uniform_.\n",
            "  torch.nn.init.kaiming_uniform(self.weight_fa)\n",
            "<ipython-input-2-315a784c8d12>:71: UserWarning: nn.init.constant is now deprecated in favor of nn.init.constant_.\n",
            "  torch.nn.init.constant(self.bias, 1)\n"
          ]
        }
      ]
    },
    {
      "cell_type": "code",
      "source": [
        "epochs = 5\n",
        "val_accuracies = []\n",
        "for epoch in range(epochs):\n",
        "    for batch_id, (inputs, targets) in enumerate(train_loader_cifar):\n",
        "        optimizer_fa_cifar.zero_grad()\n",
        "        outputs_fa = conv_withfa_cifar(inputs)\n",
        "        #print(inputs.shape, targets.shape, outputs_fa.shape)\n",
        "        # calculate loss\n",
        "        loss_fa = criterion(outputs_fa, targets)\n",
        "        loss_fa.backward()\n",
        "        optimizer_fa_cifar.step()\n",
        "\n",
        "        if batch_id % 100 ==0:\n",
        "          print('Epoch {}, Batch {}, Loss: {:.4f}'.format(epoch, batch_id, loss_fa.item()))\n",
        "\n",
        "    conv_withfa_cifar.eval()\n",
        "    test_loss = 0\n",
        "    correct = 0\n",
        "    with torch.no_grad():\n",
        "        val_acc=[]\n",
        "        for data, target in test_loader_cifar:\n",
        "            output = conv_withfa_cifar(data)\n",
        "            test_loss += criterion(output, target).item()\n",
        "            pred = output.argmax(dim=1, keepdim=True)\n",
        "            correct += pred.eq(target.view_as(pred)).sum().item()\n",
        "            val_acc.append((pred == target.view_as(pred)).float().mean().item())\n",
        "        val_accuracies.append(np.mean(val_acc))\n",
        "\n",
        "    test_loss /= len(test_loader_cifar.dataset) # returns average test loss\n",
        "    accuracy = correct / len(test_loader_cifar.dataset)\n",
        "\n",
        "    print('Test set: Average loss: {:.4f}, Accuracy: {}/{} ({:.2f}%)'.format(\n",
        "        test_loss, correct, len(test_loader_cifar.dataset), 100. * accuracy))\n",
        "\n",
        "plt.plot(val_accuracies)"
      ],
      "metadata": {
        "colab": {
          "base_uri": "https://localhost:8080/",
          "height": 1000
        },
        "id": "syLa5jr_3vge",
        "outputId": "df483f72-deab-4b5a-99d5-fea2af4612fe"
      },
      "execution_count": null,
      "outputs": [
        {
          "output_type": "stream",
          "name": "stderr",
          "text": [
            "<ipython-input-2-315a784c8d12>:90: DeprecationWarning: 'saved_variables' is deprecated; use 'saved_tensors'\n",
            "  input, weight, weight_fa, bias = context.saved_variables\n"
          ]
        },
        {
          "output_type": "stream",
          "name": "stdout",
          "text": [
            "Epoch 0, Batch 0, Loss: 2.9806\n",
            "Epoch 0, Batch 100, Loss: 2.5856\n",
            "Epoch 0, Batch 200, Loss: 2.4199\n",
            "Epoch 0, Batch 300, Loss: 2.4749\n",
            "Epoch 0, Batch 400, Loss: 2.9249\n",
            "Epoch 0, Batch 500, Loss: 2.7056\n",
            "Epoch 0, Batch 600, Loss: 2.5705\n",
            "Epoch 0, Batch 700, Loss: 2.3257\n",
            "Test set: Average loss: 0.0401, Accuracy: 1815/10000 (18.15%)\n",
            "Epoch 1, Batch 0, Loss: 2.7923\n",
            "Epoch 1, Batch 100, Loss: 2.2690\n",
            "Epoch 1, Batch 200, Loss: 2.1764\n",
            "Epoch 1, Batch 300, Loss: 2.6324\n",
            "Epoch 1, Batch 400, Loss: 2.7278\n",
            "Epoch 1, Batch 500, Loss: 2.7041\n",
            "Epoch 1, Batch 600, Loss: 2.2994\n",
            "Epoch 1, Batch 700, Loss: 2.4572\n",
            "Test set: Average loss: 0.0398, Accuracy: 2036/10000 (20.36%)\n",
            "Epoch 2, Batch 0, Loss: 2.3699\n",
            "Epoch 2, Batch 100, Loss: 2.3485\n",
            "Epoch 2, Batch 200, Loss: 2.2925\n",
            "Epoch 2, Batch 300, Loss: 2.7011\n",
            "Epoch 2, Batch 400, Loss: 2.1809\n",
            "Epoch 2, Batch 500, Loss: 2.3825\n",
            "Epoch 2, Batch 600, Loss: 2.6179\n",
            "Epoch 2, Batch 700, Loss: 2.5523\n",
            "Test set: Average loss: 0.0388, Accuracy: 2270/10000 (22.70%)\n",
            "Epoch 3, Batch 0, Loss: 2.1707\n",
            "Epoch 3, Batch 100, Loss: 2.0919\n",
            "Epoch 3, Batch 200, Loss: 2.2627\n",
            "Epoch 3, Batch 300, Loss: 2.5562\n",
            "Epoch 3, Batch 400, Loss: 2.8139\n",
            "Epoch 3, Batch 500, Loss: 2.5001\n",
            "Epoch 3, Batch 600, Loss: 2.3137\n",
            "Epoch 3, Batch 700, Loss: 2.5414\n",
            "Test set: Average loss: 0.0375, Accuracy: 2476/10000 (24.76%)\n",
            "Epoch 4, Batch 0, Loss: 2.5944\n",
            "Epoch 4, Batch 100, Loss: 2.7305\n",
            "Epoch 4, Batch 200, Loss: 2.6164\n",
            "Epoch 4, Batch 300, Loss: 2.5735\n",
            "Epoch 4, Batch 400, Loss: 2.2240\n",
            "Epoch 4, Batch 500, Loss: 2.5170\n",
            "Epoch 4, Batch 600, Loss: 2.1300\n",
            "Epoch 4, Batch 700, Loss: 2.1422\n",
            "Test set: Average loss: 0.0360, Accuracy: 2590/10000 (25.90%)\n"
          ]
        },
        {
          "output_type": "execute_result",
          "data": {
            "text/plain": [
              "[<matplotlib.lines.Line2D at 0x7b3aa5b0af80>]"
            ]
          },
          "metadata": {},
          "execution_count": 9
        },
        {
          "output_type": "display_data",
          "data": {
            "text/plain": [
              "<Figure size 500x500 with 1 Axes>"
            ],
            "image/png": "[encoded data removed]"
          },
          "metadata": {}
        }
      ]
    },
    {
      "cell_type": "code",
      "source": [],
      "metadata": {
        "id": "jTplUkfgewSB"
      },
      "execution_count": null,
      "outputs": []
    }
  ],
  "metadata": {
    "accelerator": "GPU",
    "colab": {
      "provenance": [],
      "collapsed_sections": [
        "XeazemYy0fqI",
        "Pro2jO4wx41s"
      ]
    },
    "kernelspec": {
      "display_name": "Python 3",
      "name": "python3"
    },
    "language_info": {
      "name": "python"
    }
  },
  "nbformat": 4,
  "nbformat_minor": 0
}