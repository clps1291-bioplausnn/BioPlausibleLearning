{
  "cells": [
    {
      "cell_type": "markdown",
      "metadata": {
        "id": "3HTi6mdDfuOU"
      },
      "source": [
        "\n",
        "# **CLPS 1291 Final Project**\n",
        "\n"
      ]
    },
    {
      "cell_type": "code",
      "execution_count": null,
      "metadata": {
        "id": "ArERhSYMDEVx"
      },
      "outputs": [],
      "source": [
        "#@title Enter your details - {display-mode: \"form\"}\n",
        "\n",
        "Name = 'Yunxi Liang'  #@param {type: \"string\"}\n",
        "Collaborators = ''  #@param {type: \"string\"}\n",
        "\n"
      ]
    },
    {
      "cell_type": "code",
      "source": [
        "import torch\n",
        "import torch.nn as nn\n",
        "import torch.nn.functional as F\n",
        "\n",
        "from torch.utils.data import TensorDataset, DataLoader, Dataset\n",
        "from torch.optim import Adam"
      ],
      "metadata": {
        "id": "96js0CwIEHBi"
      },
      "execution_count": null,
      "outputs": []
    },
    {
      "cell_type": "markdown",
      "source": [
        "### FA Module Setup"
      ],
      "metadata": {
        "id": "7MigEk06unDt"
      }
    },
    {
      "cell_type": "code",
      "source": [
        "import torch\n",
        "import torch.nn.functional as F\n",
        "import torch.nn as nn\n",
        "from torch import autograd\n",
        "from torch.autograd import Variable\n",
        "\n",
        "\n",
        "class LinearFANetwork(nn.Module):\n",
        "    \"\"\"\n",
        "    Linear feed-forward networks with feedback alignment learning\n",
        "    Does NOT perform non-linear activation after each layer\n",
        "    \"\"\"\n",
        "    def __init__(self, in_features, num_layers, num_hidden_list):\n",
        "        \"\"\"\n",
        "        :param in_features: dimension of input features (784 for MNIST)\n",
        "        :param num_layers: number of layers for feed-forward net\n",
        "        :param num_hidden_list: list of integers indicating hidden nodes of each layer = output features?\n",
        "        \"\"\"\n",
        "        super(LinearFANetwork, self).__init__()\n",
        "        self.in_features = in_features\n",
        "        self.num_layers = num_layers\n",
        "        self.num_hidden_list = num_hidden_list\n",
        "\n",
        "        # create list of linear layers\n",
        "        # first hidden layer\n",
        "        self.linear = [LinearFAModule(self.in_features, self.num_hidden_list[0])] # calls FA module to build hidden layers\n",
        "        # append additional hidden layers to list\n",
        "        for idx in range(self.num_layers - 1):\n",
        "            self.linear.append(LinearFAModule(self.num_hidden_list[idx], self.num_hidden_list[idx+1]))\n",
        "\n",
        "        # create ModuleList to make list of layers work\n",
        "        self.linear = nn.ModuleList(self.linear)\n",
        "\n",
        "    def forward(self, inputs):\n",
        "        \"\"\"\n",
        "        forward pass, which is same for conventional feed-forward net\n",
        "        :param inputs: inputs with shape [batch_size, in_features]\n",
        "        :return: logit outputs from the network\n",
        "        \"\"\"\n",
        "\n",
        "        # first layer\n",
        "        linear1 = self.linear[0](inputs)\n",
        "\n",
        "        # second layer\n",
        "        linear2 = self.linear[1](linear1)\n",
        "\n",
        "        return linear2\n",
        "\n",
        "class LinearFAModule(nn.Module):\n",
        "\n",
        "    def __init__(self, input_features, output_features, bias=True):\n",
        "        super(LinearFAModule, self).__init__()\n",
        "        self.input_features = input_features\n",
        "        self.output_features = output_features\n",
        "\n",
        "        # weight and bias for forward pass\n",
        "        # weight has transposed form; more efficient (so i heard) (transposed at forward pass)\n",
        "        self.weight = nn.Parameter(torch.Tensor(output_features, input_features))\n",
        "        if bias:\n",
        "            self.bias = nn.Parameter(torch.Tensor(output_features))\n",
        "        else:\n",
        "            self.register_parameter('bias', None)\n",
        "\n",
        "        # fixed random weight and bias for FA backward pass\n",
        "        # does not need gradient\n",
        "        self.weight_fa = Variable(torch.FloatTensor(output_features, input_features), requires_grad=False)\n",
        "\n",
        "        # weight initialization\n",
        "        torch.nn.init.kaiming_uniform(self.weight)\n",
        "        torch.nn.init.kaiming_uniform(self.weight_fa)\n",
        "        torch.nn.init.constant(self.bias, 1)\n",
        "\n",
        "    def forward(self, input):\n",
        "        return LinearFAFunction.apply(input, self.weight, self.weight_fa, self.bias)\n",
        "\n",
        "\n",
        "class LinearFAFunction(autograd.Function): # is this like the relu activation function?\n",
        "\n",
        "    @staticmethod\n",
        "    # same as reference linear function, but with additional fa tensor for backward\n",
        "    def forward(context, input, weight, weight_fa, bias=None):\n",
        "        context.save_for_backward(input, weight, weight_fa, bias)\n",
        "        output = input.mm(weight.t())\n",
        "        if bias is not None:\n",
        "            output += bias.unsqueeze(0).expand_as(output)\n",
        "        return output\n",
        "\n",
        "    @staticmethod\n",
        "    def backward(context, grad_output):\n",
        "        input, weight, weight_fa, bias = context.saved_variables\n",
        "        grad_input = grad_weight = grad_weight_fa = grad_bias = None\n",
        "\n",
        "        if context.needs_input_grad[0]:\n",
        "            # all of the logic of FA resides in this one line\n",
        "            # calculate the gradient of input with fixed fa tensor, rather than the \"correct\" model weight\n",
        "            grad_input = grad_output.mm(weight_fa.to(grad_output.device))\n",
        "        if context.needs_input_grad[1]:\n",
        "            # grad for weight with FA'ed grad_output from downstream layer\n",
        "            # it is same with original linear function\n",
        "            grad_weight = grad_output.t().mm(input)\n",
        "        if bias is not None and context.needs_input_grad[3]:\n",
        "            grad_bias = grad_output.sum(0).squeeze(0)\n",
        "\n",
        "        return grad_input, grad_weight, grad_weight_fa, grad_bias"
      ],
      "metadata": {
        "id": "yl5Y76uwElGo"
      },
      "execution_count": null,
      "outputs": []
    },
    {
      "cell_type": "markdown",
      "source": [
        "### Processing data and training"
      ],
      "metadata": {
        "id": "oirh8wKYEuFP"
      }
    },
    {
      "cell_type": "code",
      "source": [
        "# SETUP and load the datasets\n",
        "import os\n",
        "import torch\n",
        "import tensorflow_datasets as datasets\n",
        "from torchvision import transforms\n",
        "import torchvision\n",
        "\n",
        "# check whether CUDA is available\n",
        "cuda_available = torch.cuda.is_available()\n",
        "if cuda_available:\n",
        "    print(\"CUDA is available\")\n",
        "else:\n",
        "    print(\"CUDA is not available\")\n",
        "\n",
        "# CIFAR-10 consists of 60,000 32x32 color images in 10 different classes, with 6,000 images per class.\n",
        "from torchvision import datasets\n",
        "from torchvision.transforms import ToTensor\n",
        "import matplotlib.pyplot as plt\n",
        "\n",
        "transform = transforms.Compose([\n",
        "    transforms.ToTensor(),  # Convert images to PyTorch tensors\n",
        "    transforms.Normalize((0.5,), (0.5,))  # Normalize pixel values to the range [-1, 1]\n",
        "])\n",
        "\n",
        "\n"
      ],
      "metadata": {
        "colab": {
          "base_uri": "https://localhost:8080/"
        },
        "id": "5w79vSxlDjgz",
        "outputId": "66d8866f-635a-48ec-98bb-e7ae0d080c0a"
      },
      "execution_count": null,
      "outputs": [
        {
          "output_type": "stream",
          "name": "stdout",
          "text": [
            "CUDA is available\n"
          ]
        }
      ]
    },
    {
      "cell_type": "code",
      "source": [
        "'''\n",
        "def load_cifar10(batch_size):\n",
        "    DOWNLOAD_CIFAR10 = False\n",
        "    if not(os.path.exists('./cifar10/')) or not os.listdir('./cifar10/'):\n",
        "        DOWNLOAD_CIFAR10 = True\n",
        "\n",
        "    transform = transforms.Compose([\n",
        "        transforms.ToTensor(),\n",
        "        transforms.Normalize((0.5, 0.5, 0.5), (0.5, 0.5, 0.5))  #for each RGB channel.\n",
        "    ])\n",
        "\n",
        "    train_data = torchvision.datasets.CIFAR10(\n",
        "        root='./cifar10/', train=True,\n",
        "        download=DOWNLOAD_CIFAR10, transform=transform\n",
        "    )\n",
        "    train_loader = torch.utils.data.DataLoader(train_data, batch_size=batch_size, shuffle=True)\n",
        "\n",
        "    test_data = torchvision.datasets.CIFAR10(\n",
        "        root='./cifar10/', train=False,\n",
        "        download=DOWNLOAD_CIFAR10, transform=transform\n",
        "    )\n",
        "    test_loader = torch.utils.data.DataLoader(test_data, batch_size=batch_size, shuffle=False)\n",
        "\n",
        "    return train_loader, test_loader\n",
        "\n",
        "train_loader,test_loader = load_cifar10(64)\n",
        "'''"
      ],
      "metadata": {
        "colab": {
          "base_uri": "https://localhost:8080/"
        },
        "id": "e8nuWyPZr0-b",
        "outputId": "fa626c46-40d5-4238-ab78-90303023f392"
      },
      "execution_count": null,
      "outputs": [
        {
          "output_type": "stream",
          "name": "stdout",
          "text": [
            "Downloading https://www.cs.toronto.edu/~kriz/cifar-10-python.tar.gz to ./cifar10/cifar-10-python.tar.gz\n"
          ]
        },
        {
          "output_type": "stream",
          "name": "stderr",
          "text": [
            "100%|██████████| 170498071/170498071 [00:05<00:00, 30406874.84it/s]\n"
          ]
        },
        {
          "output_type": "stream",
          "name": "stdout",
          "text": [
            "Extracting ./cifar10/cifar-10-python.tar.gz to ./cifar10/\n",
            "Files already downloaded and verified\n"
          ]
        }
      ]
    },
    {
      "cell_type": "code",
      "source": [
        "# Download and load the MNIST training dataset\n",
        "train_dataset = datasets.MNIST(root='./data', train=True, download=True, transform=transform)\n",
        "\n",
        "# Create a DataLoader for training data\n",
        "train_loader = DataLoader(train_dataset, batch_size=64, shuffle=True)\n",
        "\n",
        "# Download and load the MNIST test dataset\n",
        "test_dataset = datasets.MNIST(root='./data', train=False, download=True, transform=transform)\n",
        "\n",
        "# Create a DataLoader for test data\n",
        "test_loader = DataLoader(test_dataset, batch_size=64, shuffle=False)"
      ],
      "metadata": {
        "id": "sJOj7aXYoQsF",
        "colab": {
          "base_uri": "https://localhost:8080/"
        },
        "outputId": "92d62d16-b444-47ec-baed-8e6c4dbcbba0"
      },
      "execution_count": null,
      "outputs": [
        {
          "output_type": "stream",
          "name": "stdout",
          "text": [
            "Downloading http://yann.lecun.com/exdb/mnist/train-images-idx3-ubyte.gz\n",
            "Downloading http://yann.lecun.com/exdb/mnist/train-images-idx3-ubyte.gz to ./data/MNIST/raw/train-images-idx3-ubyte.gz\n"
          ]
        },
        {
          "output_type": "stream",
          "name": "stderr",
          "text": [
            "100%|██████████| 9912422/9912422 [00:00<00:00, 61505351.94it/s]\n"
          ]
        },
        {
          "output_type": "stream",
          "name": "stdout",
          "text": [
            "Extracting ./data/MNIST/raw/train-images-idx3-ubyte.gz to ./data/MNIST/raw\n",
            "\n",
            "Downloading http://yann.lecun.com/exdb/mnist/train-labels-idx1-ubyte.gz\n",
            "Downloading http://yann.lecun.com/exdb/mnist/train-labels-idx1-ubyte.gz to ./data/MNIST/raw/train-labels-idx1-ubyte.gz\n"
          ]
        },
        {
          "output_type": "stream",
          "name": "stderr",
          "text": [
            "100%|██████████| 28881/28881 [00:00<00:00, 108060387.00it/s]\n"
          ]
        },
        {
          "output_type": "stream",
          "name": "stdout",
          "text": [
            "Extracting ./data/MNIST/raw/train-labels-idx1-ubyte.gz to ./data/MNIST/raw\n",
            "\n",
            "Downloading http://yann.lecun.com/exdb/mnist/t10k-images-idx3-ubyte.gz\n",
            "Downloading http://yann.lecun.com/exdb/mnist/t10k-images-idx3-ubyte.gz to ./data/MNIST/raw/t10k-images-idx3-ubyte.gz\n"
          ]
        },
        {
          "output_type": "stream",
          "name": "stderr",
          "text": [
            "100%|██████████| 1648877/1648877 [00:00<00:00, 21288181.11it/s]\n"
          ]
        },
        {
          "output_type": "stream",
          "name": "stdout",
          "text": [
            "Extracting ./data/MNIST/raw/t10k-images-idx3-ubyte.gz to ./data/MNIST/raw\n",
            "\n",
            "Downloading http://yann.lecun.com/exdb/mnist/t10k-labels-idx1-ubyte.gz\n",
            "Downloading http://yann.lecun.com/exdb/mnist/t10k-labels-idx1-ubyte.gz to ./data/MNIST/raw/t10k-labels-idx1-ubyte.gz\n"
          ]
        },
        {
          "output_type": "stream",
          "name": "stderr",
          "text": [
            "100%|██████████| 4542/4542 [00:00<00:00, 19439315.07it/s]"
          ]
        },
        {
          "output_type": "stream",
          "name": "stdout",
          "text": [
            "Extracting ./data/MNIST/raw/t10k-labels-idx1-ubyte.gz to ./data/MNIST/raw\n",
            "\n"
          ]
        },
        {
          "output_type": "stream",
          "name": "stderr",
          "text": [
            "\n"
          ]
        }
      ]
    },
    {
      "cell_type": "markdown",
      "source": [
        "### Baseline1: Build the Network: simple Con\n"
      ],
      "metadata": {
        "id": "7uL7DDGKEn2Z"
      }
    },
    {
      "cell_type": "code",
      "source": [
        "class SimpleConvNet(nn.Module):\n",
        "    def __init__(self, out_features):\n",
        "        super().__init__()\n",
        "        # reshape the data first to pass into conv1\n",
        "        self.conv1 = nn.Conv2d(1, 10, kernel_size=5) # first conv layer (1->10)\n",
        "        # maxpool2d (kernel=2), and then apply relu\n",
        "        self.conv2 = nn.Conv2d(10, 20, kernel_size=5)# second conv layer\n",
        "        self.conv2_drop = nn.Dropout2d() # dropout layer\n",
        "        # apply maxpool2d(kernel=2) after dropout, then apply relu\n",
        "        # flatten tensor using view, prepare for fc\n",
        "        self.fc1 = nn.Linear(320, 50) # fc1\n",
        "        # apply relu again, and then dropout for regularization\n",
        "        self.fc2 = nn.Linear(50, out_features) # fc2\n",
        "        # pass this through softmax\n",
        "\n",
        "    def forward(self, x):\n",
        "        x = x.view(len(x), 1, 28, 28)\n",
        "        x = F.relu(F.max_pool2d(self.conv1(x), 2))\n",
        "        x = F.relu(F.max_pool2d(self.conv2_drop(self.conv2(x)), 2))\n",
        "        # flatten the tensor to prepare for fc\n",
        "        x = x.view(-1, 320)\n",
        "        x = F.relu(self.fc1(x))\n",
        "        x = F.dropout(x, training=self.training)\n",
        "        x = self.fc2(x)\n",
        "        return F.log_softmax(x, dim=-1)\n"
      ],
      "metadata": {
        "id": "Cm7s_tl6C_6x"
      },
      "execution_count": null,
      "outputs": []
    },
    {
      "cell_type": "code",
      "source": [
        "# Train Simple CNN\n",
        "import torch.optim as optim\n",
        "SimpleConvNet_model = SimpleConvNet(10)\n",
        "\n",
        "criterion = nn.CrossEntropyLoss()\n",
        "optimizer = optim.SGD(SimpleConvNet_model.parameters(), lr=0.01) # used sgd as optimizer"
      ],
      "metadata": {
        "id": "iePTveEJDYVm"
      },
      "execution_count": null,
      "outputs": []
    },
    {
      "cell_type": "code",
      "source": [
        "epochs = 5\n",
        "for epoch in range(epochs):\n",
        "  for batch_id, (data, target) in enumerate(train_loader):\n",
        "    optimizer.zero_grad()\n",
        "    output = SimpleConvNet_model(data)\n",
        "    loss = criterion(output, target) # criterion ouptut a loss item\n",
        "    loss.backward()\n",
        "    optimizer.step()\n",
        "\n",
        "    if batch_id % 100 ==0:\n",
        "      print('Epoch {}, Batch {}, Loss: {:.4f}'.format(epoch, batch_id, loss.item()))\n",
        "\n",
        "SimpleConvNet_model.eval()\n",
        "test_loss = 0\n",
        "correct = 0\n",
        "\n",
        "with torch.no_grad():\n",
        "    for data, target in test_loader:\n",
        "        output = SimpleConvNet_model(data)\n",
        "        test_loss += criterion(output, target).item()\n",
        "        pred = output.argmax(dim=1, keepdim=True)\n",
        "        correct += pred.eq(target.view_as(pred)).sum().item()\n",
        "\n",
        "test_loss /= len(test_loader.dataset) # returns average test loss\n",
        "accuracy = correct / len(test_loader.dataset)\n",
        "\n",
        "print('Test set: Average loss: {:.4f}, Accuracy: {}/{} ({:.2f}%)'.format(\n",
        "    test_loss, correct, len(test_loader.dataset), 100. * accuracy))"
      ],
      "metadata": {
        "colab": {
          "base_uri": "https://localhost:8080/",
          "height": 391
        },
        "id": "OLATIP1IfbDE",
        "outputId": "2b53b5d6-82d1-42ee-e8b5-217e4bd4f1ff"
      },
      "execution_count": null,
      "outputs": [
        {
          "output_type": "error",
          "ename": "RuntimeError",
          "evalue": "ignored",
          "traceback": [
            "\u001b[0;31m---------------------------------------------------------------------------\u001b[0m",
            "\u001b[0;31mRuntimeError\u001b[0m                              Traceback (most recent call last)",
            "\u001b[0;32m<ipython-input-9-8e6229f29ab1>\u001b[0m in \u001b[0;36m<cell line: 2>\u001b[0;34m()\u001b[0m\n\u001b[1;32m      3\u001b[0m   \u001b[0;32mfor\u001b[0m \u001b[0mbatch_id\u001b[0m\u001b[0;34m,\u001b[0m \u001b[0;34m(\u001b[0m\u001b[0mdata\u001b[0m\u001b[0;34m,\u001b[0m \u001b[0mtarget\u001b[0m\u001b[0;34m)\u001b[0m \u001b[0;32min\u001b[0m \u001b[0menumerate\u001b[0m\u001b[0;34m(\u001b[0m\u001b[0mtrain_loader\u001b[0m\u001b[0;34m)\u001b[0m\u001b[0;34m:\u001b[0m\u001b[0;34m\u001b[0m\u001b[0;34m\u001b[0m\u001b[0m\n\u001b[1;32m      4\u001b[0m     \u001b[0moptimizer\u001b[0m\u001b[0;34m.\u001b[0m\u001b[0mzero_grad\u001b[0m\u001b[0;34m(\u001b[0m\u001b[0;34m)\u001b[0m\u001b[0;34m\u001b[0m\u001b[0;34m\u001b[0m\u001b[0m\n\u001b[0;32m----> 5\u001b[0;31m     \u001b[0moutput\u001b[0m \u001b[0;34m=\u001b[0m \u001b[0mSimpleConvNet_model\u001b[0m\u001b[0;34m(\u001b[0m\u001b[0mdata\u001b[0m\u001b[0;34m)\u001b[0m\u001b[0;34m\u001b[0m\u001b[0;34m\u001b[0m\u001b[0m\n\u001b[0m\u001b[1;32m      6\u001b[0m     \u001b[0mloss\u001b[0m \u001b[0;34m=\u001b[0m \u001b[0mcriterion\u001b[0m\u001b[0;34m(\u001b[0m\u001b[0moutput\u001b[0m\u001b[0;34m,\u001b[0m \u001b[0mtarget\u001b[0m\u001b[0;34m)\u001b[0m \u001b[0;31m# criterion ouptut a loss item\u001b[0m\u001b[0;34m\u001b[0m\u001b[0;34m\u001b[0m\u001b[0m\n\u001b[1;32m      7\u001b[0m     \u001b[0mloss\u001b[0m\u001b[0;34m.\u001b[0m\u001b[0mbackward\u001b[0m\u001b[0;34m(\u001b[0m\u001b[0;34m)\u001b[0m\u001b[0;34m\u001b[0m\u001b[0;34m\u001b[0m\u001b[0m\n",
            "\u001b[0;32m/usr/local/lib/python3.10/dist-packages/torch/nn/modules/module.py\u001b[0m in \u001b[0;36m_wrapped_call_impl\u001b[0;34m(self, *args, **kwargs)\u001b[0m\n\u001b[1;32m   1516\u001b[0m             \u001b[0;32mreturn\u001b[0m \u001b[0mself\u001b[0m\u001b[0;34m.\u001b[0m\u001b[0m_compiled_call_impl\u001b[0m\u001b[0;34m(\u001b[0m\u001b[0;34m*\u001b[0m\u001b[0margs\u001b[0m\u001b[0;34m,\u001b[0m \u001b[0;34m**\u001b[0m\u001b[0mkwargs\u001b[0m\u001b[0;34m)\u001b[0m  \u001b[0;31m# type: ignore[misc]\u001b[0m\u001b[0;34m\u001b[0m\u001b[0;34m\u001b[0m\u001b[0m\n\u001b[1;32m   1517\u001b[0m         \u001b[0;32melse\u001b[0m\u001b[0;34m:\u001b[0m\u001b[0;34m\u001b[0m\u001b[0;34m\u001b[0m\u001b[0m\n\u001b[0;32m-> 1518\u001b[0;31m             \u001b[0;32mreturn\u001b[0m \u001b[0mself\u001b[0m\u001b[0;34m.\u001b[0m\u001b[0m_call_impl\u001b[0m\u001b[0;34m(\u001b[0m\u001b[0;34m*\u001b[0m\u001b[0margs\u001b[0m\u001b[0;34m,\u001b[0m \u001b[0;34m**\u001b[0m\u001b[0mkwargs\u001b[0m\u001b[0;34m)\u001b[0m\u001b[0;34m\u001b[0m\u001b[0;34m\u001b[0m\u001b[0m\n\u001b[0m\u001b[1;32m   1519\u001b[0m \u001b[0;34m\u001b[0m\u001b[0m\n\u001b[1;32m   1520\u001b[0m     \u001b[0;32mdef\u001b[0m \u001b[0m_call_impl\u001b[0m\u001b[0;34m(\u001b[0m\u001b[0mself\u001b[0m\u001b[0;34m,\u001b[0m \u001b[0;34m*\u001b[0m\u001b[0margs\u001b[0m\u001b[0;34m,\u001b[0m \u001b[0;34m**\u001b[0m\u001b[0mkwargs\u001b[0m\u001b[0;34m)\u001b[0m\u001b[0;34m:\u001b[0m\u001b[0;34m\u001b[0m\u001b[0;34m\u001b[0m\u001b[0m\n",
            "\u001b[0;32m/usr/local/lib/python3.10/dist-packages/torch/nn/modules/module.py\u001b[0m in \u001b[0;36m_call_impl\u001b[0;34m(self, *args, **kwargs)\u001b[0m\n\u001b[1;32m   1525\u001b[0m                 \u001b[0;32mor\u001b[0m \u001b[0m_global_backward_pre_hooks\u001b[0m \u001b[0;32mor\u001b[0m \u001b[0m_global_backward_hooks\u001b[0m\u001b[0;34m\u001b[0m\u001b[0;34m\u001b[0m\u001b[0m\n\u001b[1;32m   1526\u001b[0m                 or _global_forward_hooks or _global_forward_pre_hooks):\n\u001b[0;32m-> 1527\u001b[0;31m             \u001b[0;32mreturn\u001b[0m \u001b[0mforward_call\u001b[0m\u001b[0;34m(\u001b[0m\u001b[0;34m*\u001b[0m\u001b[0margs\u001b[0m\u001b[0;34m,\u001b[0m \u001b[0;34m**\u001b[0m\u001b[0mkwargs\u001b[0m\u001b[0;34m)\u001b[0m\u001b[0;34m\u001b[0m\u001b[0;34m\u001b[0m\u001b[0m\n\u001b[0m\u001b[1;32m   1528\u001b[0m \u001b[0;34m\u001b[0m\u001b[0m\n\u001b[1;32m   1529\u001b[0m         \u001b[0;32mtry\u001b[0m\u001b[0;34m:\u001b[0m\u001b[0;34m\u001b[0m\u001b[0;34m\u001b[0m\u001b[0m\n",
            "\u001b[0;32m<ipython-input-7-4545b2c97b3a>\u001b[0m in \u001b[0;36mforward\u001b[0;34m(self, x)\u001b[0m\n\u001b[1;32m     15\u001b[0m \u001b[0;34m\u001b[0m\u001b[0m\n\u001b[1;32m     16\u001b[0m     \u001b[0;32mdef\u001b[0m \u001b[0mforward\u001b[0m\u001b[0;34m(\u001b[0m\u001b[0mself\u001b[0m\u001b[0;34m,\u001b[0m \u001b[0mx\u001b[0m\u001b[0;34m)\u001b[0m\u001b[0;34m:\u001b[0m\u001b[0;34m\u001b[0m\u001b[0;34m\u001b[0m\u001b[0m\n\u001b[0;32m---> 17\u001b[0;31m         \u001b[0mx\u001b[0m \u001b[0;34m=\u001b[0m \u001b[0mx\u001b[0m\u001b[0;34m.\u001b[0m\u001b[0mview\u001b[0m\u001b[0;34m(\u001b[0m\u001b[0mlen\u001b[0m\u001b[0;34m(\u001b[0m\u001b[0mx\u001b[0m\u001b[0;34m)\u001b[0m\u001b[0;34m,\u001b[0m \u001b[0;36m1\u001b[0m\u001b[0;34m,\u001b[0m \u001b[0;36m28\u001b[0m\u001b[0;34m,\u001b[0m \u001b[0;36m28\u001b[0m\u001b[0;34m)\u001b[0m\u001b[0;34m\u001b[0m\u001b[0;34m\u001b[0m\u001b[0m\n\u001b[0m\u001b[1;32m     18\u001b[0m         \u001b[0mx\u001b[0m \u001b[0;34m=\u001b[0m \u001b[0mF\u001b[0m\u001b[0;34m.\u001b[0m\u001b[0mrelu\u001b[0m\u001b[0;34m(\u001b[0m\u001b[0mF\u001b[0m\u001b[0;34m.\u001b[0m\u001b[0mmax_pool2d\u001b[0m\u001b[0;34m(\u001b[0m\u001b[0mself\u001b[0m\u001b[0;34m.\u001b[0m\u001b[0mconv1\u001b[0m\u001b[0;34m(\u001b[0m\u001b[0mx\u001b[0m\u001b[0;34m)\u001b[0m\u001b[0;34m,\u001b[0m \u001b[0;36m2\u001b[0m\u001b[0;34m)\u001b[0m\u001b[0;34m)\u001b[0m\u001b[0;34m\u001b[0m\u001b[0;34m\u001b[0m\u001b[0m\n\u001b[1;32m     19\u001b[0m         \u001b[0mx\u001b[0m \u001b[0;34m=\u001b[0m \u001b[0mF\u001b[0m\u001b[0;34m.\u001b[0m\u001b[0mrelu\u001b[0m\u001b[0;34m(\u001b[0m\u001b[0mF\u001b[0m\u001b[0;34m.\u001b[0m\u001b[0mmax_pool2d\u001b[0m\u001b[0;34m(\u001b[0m\u001b[0mself\u001b[0m\u001b[0;34m.\u001b[0m\u001b[0mconv2_drop\u001b[0m\u001b[0;34m(\u001b[0m\u001b[0mself\u001b[0m\u001b[0;34m.\u001b[0m\u001b[0mconv2\u001b[0m\u001b[0;34m(\u001b[0m\u001b[0mx\u001b[0m\u001b[0;34m)\u001b[0m\u001b[0;34m)\u001b[0m\u001b[0;34m,\u001b[0m \u001b[0;36m2\u001b[0m\u001b[0;34m)\u001b[0m\u001b[0;34m)\u001b[0m\u001b[0;34m\u001b[0m\u001b[0;34m\u001b[0m\u001b[0m\n",
            "\u001b[0;31mRuntimeError\u001b[0m: shape '[64, 1, 28, 28]' is invalid for input of size 196608"
          ]
        }
      ]
    },
    {
      "cell_type": "markdown",
      "source": [
        "### Baseline2: Test if loaded weights are working"
      ],
      "metadata": {
        "id": "Yf7L9DuZSi-c"
      }
    },
    {
      "cell_type": "code",
      "source": [
        "# Weight extraction\n",
        "trained_model = SimpleConvNet_model\n",
        "state_dict = trained_model.state_dict()\n",
        "conv1_weights = state_dict['conv1.weight']\n",
        "conv2_weights = state_dict['conv2.weight']"
      ],
      "metadata": {
        "id": "sAalhmGWFFeO"
      },
      "execution_count": null,
      "outputs": []
    },
    {
      "cell_type": "code",
      "source": [
        "from torch.nn import Parameter\n",
        "class SimpleCNN(nn.Module):\n",
        "    def __init__(self, out_features, conv1_weights, conv2_weights):\n",
        "        super().__init__()\n",
        "        self.conv1 = nn.Conv2d(1, 10, kernel_size=5)\n",
        "        self.conv1.weight = Parameter(conv1_weights)\n",
        "        self.conv2 = nn.Conv2d(10, 20, kernel_size=5)\n",
        "        self.conv2.weight = Parameter(conv2_weights)\n",
        "        self.conv2_drop = nn.Dropout2d()\n",
        "        # freeze the above 3 layers\n",
        "        self.conv1.requires_grad = False\n",
        "        self.conv2.requires_grad = False\n",
        "        self.conv2_drop.requires_grad = False\n",
        "\n",
        "        self.fc1 = nn.Linear(320, 50) # fc1\n",
        "        # apply relu again, and then dropout for regularization\n",
        "        self.fc2 = nn.Linear(50, out_features) # fc2\n",
        "        # pass this through softmax\n",
        "\n",
        "    def forward(self, x):\n",
        "        x = x.view(len(x), 1, 28, 28)\n",
        "        x = F.relu(F.max_pool2d(self.conv1(x), 2))\n",
        "        x = F.relu(F.max_pool2d(self.conv2_drop(self.conv2(x)), 2))\n",
        "        # flatten the tensor to prepare for fc\n",
        "        x = x.view(-1, 320)\n",
        "        x = F.relu(self.fc1(x))\n",
        "        x = F.dropout(x, training=self.training)\n",
        "        x = self.fc2(x)\n",
        "        return F.log_softmax(x, dim=-1)\n",
        "\n",
        "just_conv = SimpleCNN(10, conv1_weights, conv2_weights)\n",
        "optimizer_cnn = torch.optim.SGD(just_conv.parameters(),\n",
        "                            lr=0.01)"
      ],
      "metadata": {
        "id": "fU8RUmjv7-Wj"
      },
      "execution_count": null,
      "outputs": []
    },
    {
      "cell_type": "code",
      "source": [
        "epochs = 5\n",
        "for epoch in range(epochs):\n",
        "    for batch_id, (inputs, targets) in enumerate(train_loader):\n",
        "        optimizer_cnn.zero_grad()\n",
        "        outputs_cnn = just_conv(inputs)\n",
        "        #print(inputs.shape, targets.shape, outputs_fa.shape)\n",
        "        # calculate loss\n",
        "        loss_cnn = criterion(outputs_cnn, targets)\n",
        "        loss_cnn.backward()\n",
        "        optimizer_cnn.step()\n",
        "\n",
        "        if batch_id % 100 ==0:\n",
        "          print('Epoch {}, Batch {}, Loss: {:.4f}'.format(epoch, batch_id, loss_cnn.item()))\n",
        "\n",
        "just_conv.eval()\n",
        "test_loss = 0\n",
        "correct = 0\n",
        "\n",
        "with torch.no_grad():\n",
        "    for data, target in test_loader:\n",
        "        output = just_conv(data)\n",
        "        test_loss += criterion(output, target).item()\n",
        "        pred = output.argmax(dim=1, keepdim=True)\n",
        "        correct += pred.eq(target.view_as(pred)).sum().item()\n",
        "\n",
        "test_loss /= len(test_loader.dataset) # returns average test loss\n",
        "accuracy = correct / len(test_loader.dataset)\n",
        "\n",
        "print('Test set: Average loss: {:.4f}, Accuracy: {}/{} ({:.2f}%)'.format(\n",
        "    test_loss, correct, len(test_loader.dataset), 100. * accuracy))"
      ],
      "metadata": {
        "colab": {
          "base_uri": "https://localhost:8080/"
        },
        "id": "qQ9SftKJ8sHS",
        "outputId": "d4455fa6-9741-41fa-826b-676982470713"
      },
      "execution_count": null,
      "outputs": [
        {
          "output_type": "stream",
          "name": "stdout",
          "text": [
            "Epoch 0, Batch 0, Loss: 2.5834\n",
            "Epoch 0, Batch 100, Loss: 1.1622\n",
            "Epoch 0, Batch 200, Loss: 0.9284\n",
            "Epoch 0, Batch 300, Loss: 0.8592\n",
            "Epoch 0, Batch 400, Loss: 0.5966\n",
            "Epoch 0, Batch 500, Loss: 0.7824\n",
            "Epoch 0, Batch 600, Loss: 0.6595\n",
            "Epoch 0, Batch 700, Loss: 0.3930\n",
            "Epoch 0, Batch 800, Loss: 0.3622\n",
            "Epoch 0, Batch 900, Loss: 0.3888\n",
            "Epoch 1, Batch 0, Loss: 0.4752\n",
            "Epoch 1, Batch 100, Loss: 0.2869\n",
            "Epoch 1, Batch 200, Loss: 0.4019\n",
            "Epoch 1, Batch 300, Loss: 0.2408\n",
            "Epoch 1, Batch 400, Loss: 0.1853\n",
            "Epoch 1, Batch 500, Loss: 0.2997\n",
            "Epoch 1, Batch 600, Loss: 0.4690\n",
            "Epoch 1, Batch 700, Loss: 0.3131\n",
            "Epoch 1, Batch 800, Loss: 0.3871\n",
            "Epoch 1, Batch 900, Loss: 0.1463\n",
            "Epoch 2, Batch 0, Loss: 0.2966\n",
            "Epoch 2, Batch 100, Loss: 0.3476\n",
            "Epoch 2, Batch 200, Loss: 0.2582\n",
            "Epoch 2, Batch 300, Loss: 0.2038\n",
            "Epoch 2, Batch 400, Loss: 0.2793\n",
            "Epoch 2, Batch 500, Loss: 0.3335\n",
            "Epoch 2, Batch 600, Loss: 0.1498\n",
            "Epoch 2, Batch 700, Loss: 0.4266\n",
            "Epoch 2, Batch 800, Loss: 0.3741\n",
            "Epoch 2, Batch 900, Loss: 0.2491\n",
            "Epoch 3, Batch 0, Loss: 0.3343\n",
            "Epoch 3, Batch 100, Loss: 0.2170\n",
            "Epoch 3, Batch 200, Loss: 0.2580\n",
            "Epoch 3, Batch 300, Loss: 0.3171\n",
            "Epoch 3, Batch 400, Loss: 0.1433\n",
            "Epoch 3, Batch 500, Loss: 0.2407\n",
            "Epoch 3, Batch 600, Loss: 0.2798\n",
            "Epoch 3, Batch 700, Loss: 0.1814\n",
            "Epoch 3, Batch 800, Loss: 0.2447\n",
            "Epoch 3, Batch 900, Loss: 0.2266\n",
            "Epoch 4, Batch 0, Loss: 0.2229\n",
            "Epoch 4, Batch 100, Loss: 0.0959\n",
            "Epoch 4, Batch 200, Loss: 0.2022\n",
            "Epoch 4, Batch 300, Loss: 0.3450\n",
            "Epoch 4, Batch 400, Loss: 0.1550\n",
            "Epoch 4, Batch 500, Loss: 0.1553\n",
            "Epoch 4, Batch 600, Loss: 0.2527\n",
            "Epoch 4, Batch 700, Loss: 0.1740\n",
            "Epoch 4, Batch 800, Loss: 0.1469\n",
            "Epoch 4, Batch 900, Loss: 0.2044\n",
            "Test set: Average loss: 0.0013, Accuracy: 9740/10000 (97.40%)\n"
          ]
        }
      ]
    },
    {
      "cell_type": "markdown",
      "source": [
        "### Baseline3: Weight Extraction and build FA"
      ],
      "metadata": {
        "id": "ShWHnzBOSDZa"
      }
    },
    {
      "cell_type": "code",
      "source": [
        "from torch.nn import Parameter\n",
        "class SimpleConvNet_withFA(nn.Module):\n",
        "    def __init__(self, out_features, conv1_weights, conv2_weights):\n",
        "        super().__init__()\n",
        "        self.conv1 = nn.Conv2d(1, 10, kernel_size=5)\n",
        "        self.conv1.weight = Parameter(conv1_weights)\n",
        "        self.conv2 = nn.Conv2d(10, 20, kernel_size=5)\n",
        "        self.conv2.weight = Parameter(conv2_weights)\n",
        "        self.conv2_drop = nn.Dropout2d()\n",
        "        # freeze the above 3 layers\n",
        "        self.conv1.requires_grad = False\n",
        "        self.conv2.requires_grad = False\n",
        "        self.conv2_drop.requires_grad = False\n",
        "\n",
        "        self.fa1 = LinearFAModule(320, 50) # just specify size?\n",
        "        self.fa2 = LinearFAModule(50, out_features)\n",
        "\n",
        "    def forward(self, x):\n",
        "        #print(\"Input size:\", x.size())\n",
        "        x = F.relu(F.max_pool2d(self.conv1(x), 2))\n",
        "        #print(\"After conv1 size:\", x.size())\n",
        "        x = F.relu(F.max_pool2d(self.conv2_drop(self.conv2(x)), 2))\n",
        "        #print(\"After conv2 size:\", x.size())\n",
        "        # Flatten the tensor to prepare for fc\n",
        "        x = x.view(-1, 320)\n",
        "        #print(\"After view size:\", x.size())\n",
        "        x = F.relu(self.fa1(x))\n",
        "        #print(\"After fa1 size:\", x.size())\n",
        "        x = F.dropout(x, training=self.training)\n",
        "        x = self.fa2(x)\n",
        "        #print(\"Final output size:\", x.size())\n",
        "        return F.log_softmax(x, dim=-1)\n",
        "\n",
        "        # # x = x.view(-1, 1, 28, 28)\n",
        "        # x = F.relu(F.max_pool2d(self.conv1(x), 2))\n",
        "        # x = F.relu(F.max_pool2d(self.conv2_drop(self.conv2(x)), 2))\n",
        "        # # flatten the tensor to prepare for fc\n",
        "        # x = x.view(-1, self.conv2.out_channels)\n",
        "        # x = F.relu(self.fa1(x))\n",
        "        # x = F.dropout(x, training=self.training)\n",
        "        # x = self.fa2(x)\n",
        "        # return F.log_softmax(x, dim=-1)\n",
        "\n",
        "conv_withfa = SimpleConvNet_withFA(10, conv1_weights, conv2_weights)\n",
        "optimizer_fa = torch.optim.SGD(conv_withfa.parameters(),\n",
        "                            lr=0.0001)"
      ],
      "metadata": {
        "id": "vVQ-0J_yDdJk",
        "colab": {
          "base_uri": "https://localhost:8080/"
        },
        "outputId": "026613a7-2de1-45d7-ec9d-0ba099639f1d"
      },
      "execution_count": null,
      "outputs": [
        {
          "output_type": "stream",
          "name": "stderr",
          "text": [
            "<ipython-input-2-315a784c8d12>:69: UserWarning: nn.init.kaiming_uniform is now deprecated in favor of nn.init.kaiming_uniform_.\n",
            "  torch.nn.init.kaiming_uniform(self.weight)\n",
            "<ipython-input-2-315a784c8d12>:70: UserWarning: nn.init.kaiming_uniform is now deprecated in favor of nn.init.kaiming_uniform_.\n",
            "  torch.nn.init.kaiming_uniform(self.weight_fa)\n",
            "<ipython-input-2-315a784c8d12>:71: UserWarning: nn.init.constant is now deprecated in favor of nn.init.constant_.\n",
            "  torch.nn.init.constant(self.bias, 1)\n"
          ]
        }
      ]
    },
    {
      "cell_type": "code",
      "source": [
        "epochs = 5\n",
        "for epoch in range(epochs):\n",
        "    for batch_id, (inputs, targets) in enumerate(train_loader):\n",
        "        optimizer_fa.zero_grad()\n",
        "        outputs_fa = conv_withfa(inputs)\n",
        "        #print(inputs.shape, targets.shape, outputs_fa.shape)\n",
        "        # calculate loss\n",
        "        loss_fa = criterion(outputs_fa, targets)\n",
        "        loss_fa.backward()\n",
        "        optimizer_fa.step()\n",
        "\n",
        "        if batch_id % 100 ==0:\n",
        "          print('Epoch {}, Batch {}, Loss: {:.4f}'.format(epoch, batch_id, loss_fa.item()))\n",
        "\n",
        "conv_withfa.eval()\n",
        "test_loss = 0\n",
        "correct = 0\n",
        "\n",
        "with torch.no_grad():\n",
        "    for data, target in test_loader:\n",
        "        output = conv_withfa(data)\n",
        "        test_loss += criterion(output, target).item()\n",
        "        pred = output.argmax(dim=1, keepdim=True)\n",
        "        correct += pred.eq(target.view_as(pred)).sum().item()\n",
        "\n",
        "test_loss /= len(test_loader.dataset) # returns average test loss\n",
        "accuracy = correct / len(test_loader.dataset)\n",
        "\n",
        "print('Test set: Average loss: {:.4f}, Accuracy: {}/{} ({:.2f}%)'.format(\n",
        "    test_loss, correct, len(test_loader.dataset), 100. * accuracy))"
      ],
      "metadata": {
        "colab": {
          "base_uri": "https://localhost:8080/"
        },
        "id": "D--dfI7TmE1B",
        "outputId": "ceb7df1f-6e92-4f77-94c7-de11751a7f97"
      },
      "execution_count": null,
      "outputs": [
        {
          "output_type": "stream",
          "name": "stdout",
          "text": [
            "Epoch 0, Batch 0, Loss: 16.0889\n"
          ]
        },
        {
          "output_type": "stream",
          "name": "stderr",
          "text": [
            "<ipython-input-2-315a784c8d12>:90: DeprecationWarning: 'saved_variables' is deprecated; use 'saved_tensors'\n",
            "  input, weight, weight_fa, bias = context.saved_variables\n"
          ]
        },
        {
          "output_type": "stream",
          "name": "stdout",
          "text": [
            "Epoch 0, Batch 100, Loss: 12.2939\n",
            "Epoch 0, Batch 200, Loss: 15.1310\n",
            "Epoch 0, Batch 300, Loss: 14.4827\n",
            "Epoch 0, Batch 400, Loss: 17.6298\n",
            "Epoch 0, Batch 500, Loss: 15.8998\n",
            "Epoch 0, Batch 600, Loss: 13.9132\n",
            "Epoch 0, Batch 700, Loss: 15.9931\n",
            "Epoch 0, Batch 800, Loss: 16.1339\n",
            "Epoch 0, Batch 900, Loss: 15.8832\n",
            "Epoch 1, Batch 0, Loss: 19.5445\n",
            "Epoch 1, Batch 100, Loss: 17.5985\n",
            "Epoch 1, Batch 200, Loss: 14.8734\n",
            "Epoch 1, Batch 300, Loss: 18.7231\n",
            "Epoch 1, Batch 400, Loss: 14.8385\n",
            "Epoch 1, Batch 500, Loss: 12.2053\n",
            "Epoch 1, Batch 600, Loss: 15.9272\n",
            "Epoch 1, Batch 700, Loss: 15.5226\n",
            "Epoch 1, Batch 800, Loss: 11.7830\n",
            "Epoch 1, Batch 900, Loss: 14.3114\n",
            "Epoch 2, Batch 0, Loss: 14.4862\n",
            "Epoch 2, Batch 100, Loss: 11.8447\n",
            "Epoch 2, Batch 200, Loss: 11.6348\n",
            "Epoch 2, Batch 300, Loss: 12.3725\n",
            "Epoch 2, Batch 400, Loss: 10.2506\n",
            "Epoch 2, Batch 500, Loss: 10.0633\n",
            "Epoch 2, Batch 600, Loss: 13.8340\n",
            "Epoch 2, Batch 700, Loss: 13.6265\n",
            "Epoch 2, Batch 800, Loss: 8.9138\n",
            "Epoch 2, Batch 900, Loss: 7.4068\n",
            "Epoch 3, Batch 0, Loss: 8.7327\n",
            "Epoch 3, Batch 100, Loss: 9.6699\n",
            "Epoch 3, Batch 200, Loss: 10.0646\n",
            "Epoch 3, Batch 300, Loss: 9.1900\n",
            "Epoch 3, Batch 400, Loss: 8.6116\n",
            "Epoch 3, Batch 500, Loss: 7.3793\n",
            "Epoch 3, Batch 600, Loss: 7.9442\n",
            "Epoch 3, Batch 700, Loss: 6.7128\n",
            "Epoch 3, Batch 800, Loss: 5.9199\n",
            "Epoch 3, Batch 900, Loss: 7.2058\n",
            "Epoch 4, Batch 0, Loss: 6.7629\n",
            "Epoch 4, Batch 100, Loss: 5.9891\n",
            "Epoch 4, Batch 200, Loss: 4.0608\n",
            "Epoch 4, Batch 300, Loss: 4.2900\n",
            "Epoch 4, Batch 400, Loss: 7.5622\n",
            "Epoch 4, Batch 500, Loss: 4.8813\n",
            "Epoch 4, Batch 600, Loss: 5.8307\n",
            "Epoch 4, Batch 700, Loss: 6.8185\n",
            "Epoch 4, Batch 800, Loss: 6.0583\n",
            "Epoch 4, Batch 900, Loss: 6.9000\n",
            "Test set: Average loss: 0.0079, Accuracy: 8488/10000 (84.88%)\n"
          ]
        }
      ]
    },
    {
      "cell_type": "markdown",
      "source": [
        "## Past Drafts"
      ],
      "metadata": {
        "id": "gDpwu5vnSwWF"
      }
    },
    {
      "cell_type": "code",
      "execution_count": null,
      "metadata": {
        "colab": {
          "base_uri": "https://localhost:8080/"
        },
        "id": "JhNXaMGAwvKd",
        "outputId": "02e623e6-4626-49f9-dff8-d08e5a3967b2"
      },
      "outputs": [
        {
          "output_type": "stream",
          "name": "stdout",
          "text": [
            "Downloading...\n",
            "From: https://drive.google.com/uc?id=1-0RKObNKSfKmxPfBkZGZnQ66Y-vQR9DY\n",
            "To: /content/colab_pdf.py\n",
            "\r  0% 0.00/1.83k [00:00<?, ?B/s]\r100% 1.83k/1.83k [00:00<00:00, 10.5MB/s]\n"
          ]
        }
      ],
      "source": [
        "#SETUP\n",
        "!gdown 1-0RKObNKSfKmxPfBkZGZnQ66Y-vQR9DY  #colab_pdf.py\n",
        "\n",
        "import time\n",
        "import os\n",
        "import pickle\n",
        "import matplotlib.pyplot as plt\n",
        "plt.rcParams['figure.figsize'] = [7, 7]\n",
        "plt.ion()\n",
        "import cv2\n",
        "import pickle\n",
        "import numpy as np\n",
        "from scipy.spatial.distance import pdist, squareform\n",
        "\n",
        "import torch\n",
        "import torch.nn as nn\n",
        "import torchvision.models as models\n",
        "import torchvision.transforms as transforms\n",
        "from torchvision import datasets\n",
        "import torch.nn.functional as F\n",
        "from torch.utils.data import DataLoader\n",
        "import torch.optim as optim\n",
        "\n",
        "from torchsummary import summary\n",
        "from PIL import Image\n",
        "\n",
        "import json\n",
        "\n",
        "from PIL import Image\n",
        "\n",
        "# For making the cnn+fc\n",
        "from torch.utils.data.sampler import SubsetRandomSampler\n",
        "import tensorflow as tf\n",
        "import keras\n",
        "from keras import datasets, layers, models\n",
        "import matplotlib.pyplot as plt\n",
        "\n",
        "# For FA\n",
        "from torch.autograd import Function"
      ]
    },
    {
      "cell_type": "code",
      "execution_count": null,
      "metadata": {
        "colab": {
          "base_uri": "https://localhost:8080/"
        },
        "id": "X-usfdbCaBfz",
        "outputId": "6d37a40c-a1fb-4f08-8bdb-eaa76942eabe"
      },
      "outputs": [
        {
          "output_type": "stream",
          "name": "stdout",
          "text": [
            "Running on cuda:0\n"
          ]
        }
      ],
      "source": [
        "# MAKE SURE WE ARE USING GPU:\n",
        "\n",
        "# This checks if GPU is available, and uses it only if so\n",
        "device = torch.device(\"cuda:0\" if torch.cuda.is_available() else \"cpu\")\n",
        "print(\"Running on\", device)"
      ]
    },
    {
      "cell_type": "markdown",
      "source": [
        "### 1. Train a simple CNN+FC network"
      ],
      "metadata": {
        "id": "wTdHpUQc-wEf"
      }
    },
    {
      "cell_type": "markdown",
      "source": [
        "#### STEP1: Load the CIFAR10 dataset & visualize"
      ],
      "metadata": {
        "id": "g33cYCDx3ARs"
      }
    },
    {
      "cell_type": "code",
      "source": [
        "class SimpleConvNet(nn.Module):\n",
        "    def __init__(self, out_features):\n",
        "        super().__init__()\n",
        "        # reshape the data first to pass into conv1\n",
        "        self.conv1 = nn.Conv2d(1, 10, kernel_size=5) # first conv layer (1->10)\n",
        "        # maxpool2d (kernel=2), and then apply relu\n",
        "        self.conv2 = nn.Conv2d(10, 20, kernel_size=5)# second conv layer\n",
        "        self.conv2_drop = nn.Dropout2d() # dropout layer\n",
        "        # apply maxpool2d(kernel=2) after dropout, then apply relu\n",
        "        # flatten tensor using view, prepare for fc\n",
        "        self.fc1 = nn.Linear(320, 50) # fc1\n",
        "        # apply relu again, and then dropout for regularization\n",
        "        self.fc2 = nn.Linear(50, out_features) # fc2\n",
        "        # pass this through softmax\n",
        "\n",
        "    def forward(self, x):\n",
        "        x = x.view(len(x), 1, 28, 28)\n",
        "        x = F.relu(F.max_pool2d(self.conv1(x), 2))\n",
        "        x = F.relu(F.max_pool2d(self.conv2_drop(self.conv2(x)), 2))\n",
        "        # flatten the tensor to prepare for fc\n",
        "        x = x.view(-1, 320)\n",
        "        x = F.relu(self.fc1(x))\n",
        "        x = F.dropout(x, training=self.training)\n",
        "        x = self.fc2(x)\n",
        "        return F.log_softmax(x, dim=-1)\n",
        "\n",
        "class SimpleConvNet_withoutFA(nn.Module):\n",
        "    def __init__(self, out_features):\n",
        "        super().__init__()\n",
        "        self.conv1 = nn.Conv2d(1, 10, kernel_size=5)\n",
        "        self.conv2 = nn.Conv2d(10, 20, kernel_size=5)\n",
        "        self.conv2_drop = nn.Dropout2d()\n",
        "        # freeze the above 3 layers\n",
        "        self.conv1.requires_grad = False\n",
        "        self.conv2.requires_grad = False\n",
        "        self.conv2_drop.requires_grad = False\n",
        "\n",
        "        self.fa1 = nn.Linear(self.conv2_drop.size(0), 50, bias=False)\n",
        "        self.fa2 = nn.Linear(50, out_features, bias=False)\n",
        "\n",
        "    def forward(self, x):\n",
        "        x = x.view(len(x), 1, 28, 28)\n",
        "        x = F.relu(F.max_pool2d(self.conv1(x), 2))\n",
        "        x = F.relu(F.max_pool2d(self.conv2_drop(self.conv2(x)), 2))\n",
        "        # flatten the tensor to prepare for fc\n",
        "        x = x.view(-1, self.conv2_drop.size(0))\n",
        "        x = F.relu(self.fa1(x))\n",
        "        x = F.dropout(x, training=self.training)\n",
        "        x = self.fa2(x)\n",
        "        return F.log_softmax(x, dim=-1)"
      ],
      "metadata": {
        "id": "UhqhXavdADV2"
      },
      "execution_count": null,
      "outputs": []
    },
    {
      "cell_type": "code",
      "source": [
        "# CIFAR-10 consists of 60,000 32x32 color images in 10 different classes, with 6,000 images per class.\n",
        "(train_images, train_labels), (test_images, test_labels) = datasets.mnist.load_data()\n",
        "\n",
        "# Normalize pixel values to be between 0 and 1\n",
        "train_images, test_images = train_images / 255.0, test_images / 255.0\n",
        "\n",
        "# train"
      ],
      "metadata": {
        "id": "h_ukzvdrEQBK"
      },
      "execution_count": null,
      "outputs": []
    },
    {
      "cell_type": "code",
      "source": [
        "class_names = ['airplane', 'automobile', 'bird', 'cat', 'deer',\n",
        "               'dog', 'frog', 'horse', 'ship', 'truck']\n",
        "\n",
        "plt.figure(figsize=(10,10))\n",
        "for i in range(25):\n",
        "    plt.subplot(5,5,i+1)\n",
        "    plt.xticks([])\n",
        "    plt.yticks([])\n",
        "    plt.grid(False)\n",
        "    plt.imshow(train_images[i])\n",
        "    # The CIFAR labels happen to be arrays,\n",
        "    # which is why you need the extra index\n",
        "    plt.xlabel(class_names[train_labels[i][0]])\n",
        "plt.show()"
      ],
      "metadata": {
        "id": "KQZAGcRhEbdo"
      },
      "execution_count": null,
      "outputs": []
    },
    {
      "cell_type": "markdown",
      "source": [
        "#### STEP2: Construct the CNN+FC model as BASELINE"
      ],
      "metadata": {
        "id": "W9nOgx7r3M7y"
      }
    },
    {
      "cell_type": "code",
      "source": [
        "model = models.Sequential()\n",
        "model.add(layers.Conv2D(32, (3, 3), activation='relu', input_shape=(28, 28, 1)))\n",
        "model.add(layers.MaxPooling2D((2, 2)))\n",
        "model.add(layers.Conv2D(64, (3, 3), activation='relu'))\n",
        "# model.add(layers.MaxPooling2D((2, 2)))\n",
        "# model.add(layers.Conv2D(32, (3, 3), activation='relu'))\n",
        "\n",
        "model.add(layers.Flatten())\n",
        "model.add(layers.Dense(65, activation='relu'))\n",
        "model.add(layers.Dense(10))\n",
        "\n",
        "model.summary()"
      ],
      "metadata": {
        "id": "IHDf4-2fEh59",
        "colab": {
          "base_uri": "https://localhost:8080/"
        },
        "outputId": "f1e11e34-bb5d-4106-8361-f5b3ad6d8319"
      },
      "execution_count": null,
      "outputs": [
        {
          "output_type": "stream",
          "name": "stdout",
          "text": [
            "Model: \"sequential_4\"\n",
            "_________________________________________________________________\n",
            " Layer (type)                Output Shape              Param #   \n",
            "=================================================================\n",
            " conv2d_12 (Conv2D)          (None, 26, 26, 32)        320       \n",
            "                                                                 \n",
            " max_pooling2d_8 (MaxPoolin  (None, 13, 13, 32)        0         \n",
            " g2D)                                                            \n",
            "                                                                 \n",
            " conv2d_13 (Conv2D)          (None, 11, 11, 64)        18496     \n",
            "                                                                 \n",
            " flatten_4 (Flatten)         (None, 7744)              0         \n",
            "                                                                 \n",
            " dense_8 (Dense)             (None, 65)                503425    \n",
            "                                                                 \n",
            " dense_9 (Dense)             (None, 10)                660       \n",
            "                                                                 \n",
            "=================================================================\n",
            "Total params: 522901 (1.99 MB)\n",
            "Trainable params: 522901 (1.99 MB)\n",
            "Non-trainable params: 0 (0.00 Byte)\n",
            "_________________________________________________________________\n"
          ]
        }
      ]
    },
    {
      "cell_type": "markdown",
      "source": [
        "#### STEP3: Compile the baseline model and obtain training weights"
      ],
      "metadata": {
        "id": "BHQ-6ijb3Urj"
      }
    },
    {
      "cell_type": "code",
      "source": [
        "model.compile(optimizer='adam',\n",
        "              loss=tf.keras.losses.SparseCategoricalCrossentropy(from_logits=True),\n",
        "              metrics=['accuracy'])\n",
        "\n",
        "history = model.fit(train_images, train_labels, epochs=10,\n",
        "                    validation_data=(test_images, test_labels))"
      ],
      "metadata": {
        "id": "k9k_N8wLEmtb",
        "colab": {
          "base_uri": "https://localhost:8080/"
        },
        "outputId": "42b76204-0f9d-469b-8f49-86c9e7bb4e0c"
      },
      "execution_count": null,
      "outputs": [
        {
          "output_type": "stream",
          "name": "stdout",
          "text": [
            "Epoch 1/10\n",
            "1875/1875 [==============================] - 9s 4ms/step - loss: 0.1138 - accuracy: 0.9648 - val_loss: 0.0474 - val_accuracy: 0.9845\n",
            "Epoch 2/10\n",
            "1875/1875 [==============================] - 8s 4ms/step - loss: 0.0384 - accuracy: 0.9878 - val_loss: 0.0317 - val_accuracy: 0.9890\n",
            "Epoch 3/10\n",
            "1875/1875 [==============================] - 8s 5ms/step - loss: 0.0234 - accuracy: 0.9927 - val_loss: 0.0318 - val_accuracy: 0.9909\n",
            "Epoch 4/10\n",
            "1875/1875 [==============================] - 7s 4ms/step - loss: 0.0182 - accuracy: 0.9941 - val_loss: 0.0393 - val_accuracy: 0.9879\n",
            "Epoch 5/10\n",
            "1875/1875 [==============================] - 9s 5ms/step - loss: 0.0133 - accuracy: 0.9956 - val_loss: 0.0387 - val_accuracy: 0.9893\n",
            "Epoch 6/10\n",
            "1875/1875 [==============================] - 7s 4ms/step - loss: 0.0091 - accuracy: 0.9968 - val_loss: 0.0356 - val_accuracy: 0.9896\n",
            "Epoch 7/10\n",
            "1875/1875 [==============================] - 10s 5ms/step - loss: 0.0073 - accuracy: 0.9976 - val_loss: 0.0438 - val_accuracy: 0.9887\n",
            "Epoch 8/10\n",
            "1875/1875 [==============================] - 10s 5ms/step - loss: 0.0069 - accuracy: 0.9978 - val_loss: 0.0467 - val_accuracy: 0.9887\n",
            "Epoch 9/10\n",
            "1875/1875 [==============================] - 7s 4ms/step - loss: 0.0062 - accuracy: 0.9981 - val_loss: 0.0447 - val_accuracy: 0.9898\n",
            "Epoch 10/10\n",
            "1875/1875 [==============================] - 9s 5ms/step - loss: 0.0047 - accuracy: 0.9984 - val_loss: 0.0599 - val_accuracy: 0.9891\n"
          ]
        }
      ]
    },
    {
      "cell_type": "code",
      "source": [
        "plt.plot(history.history['accuracy'], label='accuracy')\n",
        "plt.plot(history.history['val_accuracy'], label = 'val_accuracy')\n",
        "plt.xlabel('Epoch')\n",
        "plt.ylabel('Accuracy')\n",
        "plt.ylim([0.5, 1])\n",
        "plt.legend(loc='lower right')\n",
        "\n",
        "test_loss, test_acc = model.evaluate(test_images,  test_labels, verbose=2)"
      ],
      "metadata": {
        "id": "GyyzLIF3EwnB",
        "colab": {
          "base_uri": "https://localhost:8080/",
          "height": 641
        },
        "outputId": "532cdbef-defa-4b03-b040-62aaf7ac9c1c"
      },
      "execution_count": null,
      "outputs": [
        {
          "output_type": "stream",
          "name": "stdout",
          "text": [
            "313/313 - 1s - loss: 0.0599 - accuracy: 0.9891 - 1s/epoch - 3ms/step\n"
          ]
        },
        {
          "output_type": "display_data",
          "data": {
            "text/plain": [
              "<Figure size 700x700 with 1 Axes>"
            ],
            "image/png": "[encoded data removed]"
          },
          "metadata": {}
        }
      ]
    },
    {
      "cell_type": "markdown",
      "source": [
        "### 2. FA model\n",
        "(1) install weights of pretrained CNN layer. This set of weights is from CNN+FCN that used backpropagation\n",
        "(2) feed this CNN result into a separate set of FCN layers, which we would use FA to update."
      ],
      "metadata": {
        "id": "dDQDCCwGopEj"
      }
    },
    {
      "cell_type": "markdown",
      "source": [
        "### Layer Extraction & Building the hybrid"
      ],
      "metadata": {
        "id": "T27pMjdHbP3j"
      }
    },
    {
      "cell_type": "code",
      "source": [
        "# Extract layers\n",
        "all_weights = [layer.get_weights() for layer in model.layers]\n",
        "\n",
        "# should I also train the CNN separately?"
      ],
      "metadata": {
        "id": "4EO0kNHyqHI4"
      },
      "execution_count": null,
      "outputs": []
    },
    {
      "cell_type": "code",
      "source": [
        "class CNN_withFA(nn.Module):\n",
        "    def __init__(self, in_features, out_features=10): # self defined in_features & number of hidden layers\n",
        "    # output_feature sis static bc both 10 for cifar10 and mnist\n",
        "      super(CNN_withFA, self).__init__()\n",
        "      self.in_features = in_features\n",
        "      self.out_features = 10\n",
        "\n",
        "      self.layer1 = nn.Conv2d(1, 32, kernel_size=3, stride=1, padding=1)\n",
        "      self.\n",
        "      # self.layer1 = nn.Sequential(\n",
        "      #       nn.Conv2d(1, 32, kernel_size=3, stride=1, padding=1),\n",
        "      #       nn.ReLU(), nn.MaxPool2d(kernel_size = 2, stride = 2))\n",
        "      # self.layer2 = nn.Sequential(\n",
        "      #       nn.Conv2d(32, 64, kernel_size=3, stride=1, padding=1),\n",
        "      #       nn.ReLU())\n",
        "      self.layer3 = LinearFAModule(self.in_features, 100)\n",
        "      self.layer4 = LinearFAModule(100, out_features)\n",
        "      # self.layer2 = nn.Sequential(\n",
        "      #       nn.Conv2d(64, 64, kernel_size=3, stride=1, padding=1),\n",
        "      #       nn.BatchNorm2d(64),\n",
        "      #       nn.ReLU(),\n",
        "      #       nn.MaxPool2d(kernel_size = 2, stride = 2))\n",
        "    def forward(self, x):\n",
        "        out = self.layer1(x)\n",
        "        out = self.layer2(out)\n",
        "        out = self.layer3(out)\n",
        "        out = self.layer4(out)\n",
        "        # out = self.layer7(out)\n",
        "        # out = self.layer8(out)\n",
        "        # out = self.layer9(out)\n",
        "        # out = self.layer10(out)\n",
        "        # out = self.layer11(out)\n",
        "        # out = self.layer12(out)\n",
        "        # out = self.layer13(out)\n",
        "        # out = out.reshape(out.size(0), -1)\n",
        "        # out = self.fc(out)\n",
        "        # out = self.fc1(out)\n",
        "        # out = self.fc2(out)\n",
        "        return out"
      ],
      "metadata": {
        "id": "sH_jXPwcV3cn"
      },
      "execution_count": null,
      "outputs": []
    },
    {
      "cell_type": "code",
      "source": [
        "mnist_input_features = 784\n",
        "num_epochs = 10\n",
        "batch_size = 16\n",
        "learning_rate = 0.005\n",
        "\n",
        "model = CNN_withFA(mnist_input_features).to(device)\n",
        "\n",
        "for i, layer in enumerate(model.layers):\n",
        "    layer_name = layer.name\n",
        "    layer_weights = layer.get_weights()\n",
        "    print(f\"Weights of Layer {i} ({layer_name}): {layer_weights}\")\n",
        "\n",
        "# Set weights of the CNN using pretrained weights\n",
        "# for i, layer_weights in enumerate(all_weights[:-2]): # only transfer for CNN\n",
        "#     if layer_weights:\n",
        "#         model.layers[i].set_weights(layer_weights)\n",
        "\n",
        "\n",
        "\n",
        "# maybe loose this part\n",
        "# Now, freeze the CNN\n",
        "# for layer in model.layers[:-1]:\n",
        "#     layer.trainable = False"
      ],
      "metadata": {
        "id": "CJJ5Bo6Lr52R",
        "colab": {
          "base_uri": "https://localhost:8080/",
          "height": 471
        },
        "outputId": "8b15a4a8-702f-4bbd-b72a-546a42186017"
      },
      "execution_count": null,
      "outputs": [
        {
          "output_type": "stream",
          "name": "stderr",
          "text": [
            "<ipython-input-18-315a784c8d12>:69: UserWarning: nn.init.kaiming_uniform is now deprecated in favor of nn.init.kaiming_uniform_.\n",
            "  torch.nn.init.kaiming_uniform(self.weight)\n",
            "<ipython-input-18-315a784c8d12>:70: UserWarning: nn.init.kaiming_uniform is now deprecated in favor of nn.init.kaiming_uniform_.\n",
            "  torch.nn.init.kaiming_uniform(self.weight_fa)\n",
            "<ipython-input-18-315a784c8d12>:71: UserWarning: nn.init.constant is now deprecated in favor of nn.init.constant_.\n",
            "  torch.nn.init.constant(self.bias, 1)\n"
          ]
        },
        {
          "output_type": "error",
          "ename": "AttributeError",
          "evalue": "ignored",
          "traceback": [
            "\u001b[0;31m---------------------------------------------------------------------------\u001b[0m",
            "\u001b[0;31mAttributeError\u001b[0m                            Traceback (most recent call last)",
            "\u001b[0;32m<ipython-input-54-71db421963f8>\u001b[0m in \u001b[0;36m<cell line: 8>\u001b[0;34m()\u001b[0m\n\u001b[1;32m      6\u001b[0m \u001b[0mmodel\u001b[0m \u001b[0;34m=\u001b[0m \u001b[0mCNN_withFA\u001b[0m\u001b[0;34m(\u001b[0m\u001b[0mmnist_input_features\u001b[0m\u001b[0;34m)\u001b[0m\u001b[0;34m.\u001b[0m\u001b[0mto\u001b[0m\u001b[0;34m(\u001b[0m\u001b[0mdevice\u001b[0m\u001b[0;34m)\u001b[0m\u001b[0;34m\u001b[0m\u001b[0;34m\u001b[0m\u001b[0m\n\u001b[1;32m      7\u001b[0m \u001b[0;34m\u001b[0m\u001b[0m\n\u001b[0;32m----> 8\u001b[0;31m \u001b[0;32mfor\u001b[0m \u001b[0mi\u001b[0m\u001b[0;34m,\u001b[0m \u001b[0mlayer\u001b[0m \u001b[0;32min\u001b[0m \u001b[0menumerate\u001b[0m\u001b[0;34m(\u001b[0m\u001b[0mmodel\u001b[0m\u001b[0;34m.\u001b[0m\u001b[0mlayers\u001b[0m\u001b[0;34m)\u001b[0m\u001b[0;34m:\u001b[0m\u001b[0;34m\u001b[0m\u001b[0;34m\u001b[0m\u001b[0m\n\u001b[0m\u001b[1;32m      9\u001b[0m     \u001b[0mlayer_name\u001b[0m \u001b[0;34m=\u001b[0m \u001b[0mlayer\u001b[0m\u001b[0;34m.\u001b[0m\u001b[0mname\u001b[0m\u001b[0;34m\u001b[0m\u001b[0;34m\u001b[0m\u001b[0m\n\u001b[1;32m     10\u001b[0m     \u001b[0mlayer_weights\u001b[0m \u001b[0;34m=\u001b[0m \u001b[0mlayer\u001b[0m\u001b[0;34m.\u001b[0m\u001b[0mget_weights\u001b[0m\u001b[0;34m(\u001b[0m\u001b[0;34m)\u001b[0m\u001b[0;34m\u001b[0m\u001b[0;34m\u001b[0m\u001b[0m\n",
            "\u001b[0;32m/usr/local/lib/python3.10/dist-packages/torch/nn/modules/module.py\u001b[0m in \u001b[0;36m__getattr__\u001b[0;34m(self, name)\u001b[0m\n\u001b[1;32m   1693\u001b[0m             \u001b[0;32mif\u001b[0m \u001b[0mname\u001b[0m \u001b[0;32min\u001b[0m \u001b[0mmodules\u001b[0m\u001b[0;34m:\u001b[0m\u001b[0;34m\u001b[0m\u001b[0;34m\u001b[0m\u001b[0m\n\u001b[1;32m   1694\u001b[0m                 \u001b[0;32mreturn\u001b[0m \u001b[0mmodules\u001b[0m\u001b[0;34m[\u001b[0m\u001b[0mname\u001b[0m\u001b[0;34m]\u001b[0m\u001b[0;34m\u001b[0m\u001b[0;34m\u001b[0m\u001b[0m\n\u001b[0;32m-> 1695\u001b[0;31m         \u001b[0;32mraise\u001b[0m \u001b[0mAttributeError\u001b[0m\u001b[0;34m(\u001b[0m\u001b[0;34mf\"'{type(self).__name__}' object has no attribute '{name}'\"\u001b[0m\u001b[0;34m)\u001b[0m\u001b[0;34m\u001b[0m\u001b[0;34m\u001b[0m\u001b[0m\n\u001b[0m\u001b[1;32m   1696\u001b[0m \u001b[0;34m\u001b[0m\u001b[0m\n\u001b[1;32m   1697\u001b[0m     \u001b[0;32mdef\u001b[0m \u001b[0m__setattr__\u001b[0m\u001b[0;34m(\u001b[0m\u001b[0mself\u001b[0m\u001b[0;34m,\u001b[0m \u001b[0mname\u001b[0m\u001b[0;34m:\u001b[0m \u001b[0mstr\u001b[0m\u001b[0;34m,\u001b[0m \u001b[0mvalue\u001b[0m\u001b[0;34m:\u001b[0m \u001b[0mUnion\u001b[0m\u001b[0;34m[\u001b[0m\u001b[0mTensor\u001b[0m\u001b[0;34m,\u001b[0m \u001b[0;34m'Module'\u001b[0m\u001b[0;34m]\u001b[0m\u001b[0;34m)\u001b[0m \u001b[0;34m->\u001b[0m \u001b[0;32mNone\u001b[0m\u001b[0;34m:\u001b[0m\u001b[0;34m\u001b[0m\u001b[0;34m\u001b[0m\u001b[0m\n",
            "\u001b[0;31mAttributeError\u001b[0m: 'CNN_withFA' object has no attribute 'layers'"
          ]
        }
      ]
    },
    {
      "cell_type": "code",
      "source": [
        "# Loss and optimizer\n",
        "criterion = nn.CrossEntropyLoss()\n",
        "optimizer = torch.optim.SGD(model.parameters(), lr=learning_rate, weight_decay = 0.005, momentum = 0.9)\n",
        "\n",
        "\n",
        "# Train the model\n",
        "total_step = len(train_loader)\n",
        "\n",
        "for epoch in range(num_epochs):\n",
        "    for i, (images, labels) in enumerate(train_loader):\n",
        "        # Move tensors to the configured device\n",
        "        images = images.to(device)\n",
        "        labels = labels.to(device)\n",
        "\n",
        "        # Forward pass\n",
        "        outputs = model(images)\n",
        "        loss = criterion(outputs, labels)\n",
        "\n",
        "        # Backward and optimize\n",
        "        optimizer.zero_grad()\n",
        "        loss.backward()\n",
        "        optimizer.step()\n",
        "\n",
        "    print ('Epoch [{}/{}], Step [{}/{}], Loss: {:.4f}'\n",
        "                   .format(epoch+1, num_epochs, i+1, total_step, loss.item()))\n",
        "\n",
        "    # Validation\n",
        "    with torch.no_grad():\n",
        "        correct = 0\n",
        "        total = 0\n",
        "        for images, labels in valid_loader:\n",
        "            images = images.to(device)\n",
        "            labels = labels.to(device)\n",
        "            outputs = model(images)\n",
        "            _, predicted = torch.max(outputs.data, 1)\n",
        "            total += labels.size(0)\n",
        "            correct += (predicted == labels).sum().item()\n",
        "            del images, labels, outputs\n",
        "\n",
        "        print('Accuracy of the network on the {} validation images: {} %'.format(5000, 100 * correct / total))"
      ],
      "metadata": {
        "id": "guvyfv-0Yq5w"
      },
      "execution_count": null,
      "outputs": []
    },
    {
      "cell_type": "markdown",
      "source": [
        "### 2.  A linear FA implementation"
      ],
      "metadata": {
        "id": "YCgk0-FBA0n0"
      }
    },
    {
      "cell_type": "markdown",
      "source": [
        "### Train the FA Part of the model"
      ],
      "metadata": {
        "id": "BZUVAciYbc7K"
      }
    },
    {
      "cell_type": "code",
      "source": [
        "import numpy as np\n",
        "import matplotlib.pyplot as plt\n",
        "from torchvision import datasets, transforms\n",
        "from torch.utils.data import DataLoader\n",
        "from torch.autograd import Variable\n",
        "import torch\n",
        "import os\n",
        "\n",
        "BATCH_SIZE = 32\n",
        "\n",
        "train_loader = DataLoader(datasets.CIFAR10('./data', train=True, download=True,\n",
        "                                         transform=transforms.Compose([\n",
        "                                             transforms.ToTensor(),\n",
        "                                             transforms.Normalize((0.1307,), (0.3081,))\n",
        "                                         ])),\n",
        "                          batch_size=BATCH_SIZE, shuffle=True)\n",
        "test_loader = DataLoader(datasets.CIFAR10('./data', train=False, download=True,\n",
        "                                        transform=transforms.Compose([\n",
        "                                            transforms.ToTensor(),\n",
        "                                            transforms.Normalize((0.1307,), (0.3081,))\n",
        "                                        ])),\n",
        "                         batch_size=BATCH_SIZE, shuffle=True)"
      ],
      "metadata": {
        "colab": {
          "base_uri": "https://localhost:8080/"
        },
        "id": "KIijMZDj6NnF",
        "outputId": "8a06aa2d-3c69-4417-d95e-55126fcdf339"
      },
      "execution_count": null,
      "outputs": [
        {
          "output_type": "stream",
          "name": "stdout",
          "text": [
            "Downloading https://www.cs.toronto.edu/~kriz/cifar-10-python.tar.gz to ./data/cifar-10-python.tar.gz\n"
          ]
        },
        {
          "output_type": "stream",
          "name": "stderr",
          "text": [
            "100%|██████████| 170498071/170498071 [00:02<00:00, 72429883.88it/s]\n"
          ]
        },
        {
          "output_type": "stream",
          "name": "stdout",
          "text": [
            "Extracting ./data/cifar-10-python.tar.gz to ./data\n",
            "Files already downloaded and verified\n"
          ]
        },
        {
          "output_type": "execute_result",
          "data": {
            "text/plain": [
              "torch.utils.data.dataloader.DataLoader"
            ]
          },
          "metadata": {},
          "execution_count": 3
        }
      ]
    },
    {
      "cell_type": "code",
      "source": [
        "# Or, construct and train the FA model, and then import its weights\n",
        "model_fa = LinearFANetwork(in_features=64*64, num_layers=2, num_hidden_list=[1000, 10]).to(device)\n",
        "# after the CNN, the images were upscaled from 32 to 64\n",
        "optimizer_fa = torch.optim.SGD(model_fa.parameters(),\n",
        "                            lr=1e-4, momentum=0.9, weight_decay=0.001, nesterov=True)\n",
        "# define loss function\n",
        "loss_crossentropy = torch.nn.CrossEntropyLoss()\n",
        "# TRAINING LOOP\n",
        "epochs = 5\n",
        "# Plotting vessel: --> maybe change to validation accuracy later\n",
        "fa_loss = []\n",
        "for epoch in range(epochs):\n",
        "    for idx_batch, (inputs, targets) in enumerate(train_loader):\n",
        "        # flatten the inputs from square image to 1d vector\n",
        "        inputs = inputs.view(BATCH_SIZE, -1)\n",
        "        # wrap them into varaibles\n",
        "        inputs, targets = Variable(inputs), Variable(targets)\n",
        "\n",
        "        # get outputs from the model\n",
        "        outputs_fa = model_fa(inputs.to(device))\n",
        "        # calculate loss\n",
        "        loss_fa = loss_crossentropy(outputs_fa, targets.to(device))\n",
        "\n",
        "        model_fa.zero_grad()\n",
        "        loss_fa.backward()\n",
        "        optimizer_fa.step()\n",
        "\n",
        "        if (idx_batch + 1) % 500 == 0: # do this every 10 batch?\n",
        "            train_log = 'epoch ' + str(epoch) + ' step ' + str(idx_batch + 1) + \\\n",
        "                        ' loss_fa ' + str(loss_fa.item())\n",
        "            fa_loss.append(loss_fa.item())\n",
        "            print(train_log)\n",
        "\n",
        "plt.plot(fa_loss)"
      ],
      "metadata": {
        "colab": {
          "base_uri": "https://localhost:8080/",
          "height": 495
        },
        "id": "9Xd4wTDkpKDm",
        "outputId": "db6b0274-5117-4e95-e063-ab1b1dcffc11"
      },
      "execution_count": null,
      "outputs": [
        {
          "output_type": "stream",
          "name": "stderr",
          "text": [
            "<ipython-input-7-8754a9db8fa6>:53: UserWarning: nn.init.kaiming_uniform is now deprecated in favor of nn.init.kaiming_uniform_.\n",
            "  torch.nn.init.kaiming_uniform(self.weight)\n",
            "<ipython-input-7-8754a9db8fa6>:54: UserWarning: nn.init.kaiming_uniform is now deprecated in favor of nn.init.kaiming_uniform_.\n",
            "  torch.nn.init.kaiming_uniform(self.weight_fa)\n",
            "<ipython-input-7-8754a9db8fa6>:55: UserWarning: nn.init.constant is now deprecated in favor of nn.init.constant_.\n",
            "  torch.nn.init.constant(self.bias, 1)\n"
          ]
        },
        {
          "output_type": "error",
          "ename": "RuntimeError",
          "evalue": "ignored",
          "traceback": [
            "\u001b[0;31m---------------------------------------------------------------------------\u001b[0m",
            "\u001b[0;31mRuntimeError\u001b[0m                              Traceback (most recent call last)",
            "\u001b[0;32m<ipython-input-14-6503455d9e9c>\u001b[0m in \u001b[0;36m<cell line: 12>\u001b[0;34m()\u001b[0m\n\u001b[1;32m     18\u001b[0m \u001b[0;34m\u001b[0m\u001b[0m\n\u001b[1;32m     19\u001b[0m         \u001b[0;31m# get outputs from the model\u001b[0m\u001b[0;34m\u001b[0m\u001b[0;34m\u001b[0m\u001b[0m\n\u001b[0;32m---> 20\u001b[0;31m         \u001b[0moutputs_fa\u001b[0m \u001b[0;34m=\u001b[0m \u001b[0mmodel_fa\u001b[0m\u001b[0;34m(\u001b[0m\u001b[0minputs\u001b[0m\u001b[0;34m.\u001b[0m\u001b[0mto\u001b[0m\u001b[0;34m(\u001b[0m\u001b[0mdevice\u001b[0m\u001b[0;34m)\u001b[0m\u001b[0;34m)\u001b[0m\u001b[0;34m\u001b[0m\u001b[0;34m\u001b[0m\u001b[0m\n\u001b[0m\u001b[1;32m     21\u001b[0m         \u001b[0;31m# calculate loss\u001b[0m\u001b[0;34m\u001b[0m\u001b[0;34m\u001b[0m\u001b[0m\n\u001b[1;32m     22\u001b[0m         \u001b[0mloss_fa\u001b[0m \u001b[0;34m=\u001b[0m \u001b[0mloss_crossentropy\u001b[0m\u001b[0;34m(\u001b[0m\u001b[0moutputs_fa\u001b[0m\u001b[0;34m,\u001b[0m \u001b[0mtargets\u001b[0m\u001b[0;34m.\u001b[0m\u001b[0mto\u001b[0m\u001b[0;34m(\u001b[0m\u001b[0mdevice\u001b[0m\u001b[0;34m)\u001b[0m\u001b[0;34m)\u001b[0m\u001b[0;34m\u001b[0m\u001b[0;34m\u001b[0m\u001b[0m\n",
            "\u001b[0;32m/usr/local/lib/python3.10/dist-packages/torch/nn/modules/module.py\u001b[0m in \u001b[0;36m_wrapped_call_impl\u001b[0;34m(self, *args, **kwargs)\u001b[0m\n\u001b[1;32m   1516\u001b[0m             \u001b[0;32mreturn\u001b[0m \u001b[0mself\u001b[0m\u001b[0;34m.\u001b[0m\u001b[0m_compiled_call_impl\u001b[0m\u001b[0;34m(\u001b[0m\u001b[0;34m*\u001b[0m\u001b[0margs\u001b[0m\u001b[0;34m,\u001b[0m \u001b[0;34m**\u001b[0m\u001b[0mkwargs\u001b[0m\u001b[0;34m)\u001b[0m  \u001b[0;31m# type: ignore[misc]\u001b[0m\u001b[0;34m\u001b[0m\u001b[0;34m\u001b[0m\u001b[0m\n\u001b[1;32m   1517\u001b[0m         \u001b[0;32melse\u001b[0m\u001b[0;34m:\u001b[0m\u001b[0;34m\u001b[0m\u001b[0;34m\u001b[0m\u001b[0m\n\u001b[0;32m-> 1518\u001b[0;31m             \u001b[0;32mreturn\u001b[0m \u001b[0mself\u001b[0m\u001b[0;34m.\u001b[0m\u001b[0m_call_impl\u001b[0m\u001b[0;34m(\u001b[0m\u001b[0;34m*\u001b[0m\u001b[0margs\u001b[0m\u001b[0;34m,\u001b[0m \u001b[0;34m**\u001b[0m\u001b[0mkwargs\u001b[0m\u001b[0;34m)\u001b[0m\u001b[0;34m\u001b[0m\u001b[0;34m\u001b[0m\u001b[0m\n\u001b[0m\u001b[1;32m   1519\u001b[0m \u001b[0;34m\u001b[0m\u001b[0m\n\u001b[1;32m   1520\u001b[0m     \u001b[0;32mdef\u001b[0m \u001b[0m_call_impl\u001b[0m\u001b[0;34m(\u001b[0m\u001b[0mself\u001b[0m\u001b[0;34m,\u001b[0m \u001b[0;34m*\u001b[0m\u001b[0margs\u001b[0m\u001b[0;34m,\u001b[0m \u001b[0;34m**\u001b[0m\u001b[0mkwargs\u001b[0m\u001b[0;34m)\u001b[0m\u001b[0;34m:\u001b[0m\u001b[0;34m\u001b[0m\u001b[0;34m\u001b[0m\u001b[0m\n",
            "\u001b[0;32m/usr/local/lib/python3.10/dist-packages/torch/nn/modules/module.py\u001b[0m in \u001b[0;36m_call_impl\u001b[0;34m(self, *args, **kwargs)\u001b[0m\n\u001b[1;32m   1525\u001b[0m                 \u001b[0;32mor\u001b[0m \u001b[0m_global_backward_pre_hooks\u001b[0m \u001b[0;32mor\u001b[0m \u001b[0m_global_backward_hooks\u001b[0m\u001b[0;34m\u001b[0m\u001b[0;34m\u001b[0m\u001b[0m\n\u001b[1;32m   1526\u001b[0m                 or _global_forward_hooks or _global_forward_pre_hooks):\n\u001b[0;32m-> 1527\u001b[0;31m             \u001b[0;32mreturn\u001b[0m \u001b[0mforward_call\u001b[0m\u001b[0;34m(\u001b[0m\u001b[0;34m*\u001b[0m\u001b[0margs\u001b[0m\u001b[0;34m,\u001b[0m \u001b[0;34m**\u001b[0m\u001b[0mkwargs\u001b[0m\u001b[0;34m)\u001b[0m\u001b[0;34m\u001b[0m\u001b[0;34m\u001b[0m\u001b[0m\n\u001b[0m\u001b[1;32m   1528\u001b[0m \u001b[0;34m\u001b[0m\u001b[0m\n\u001b[1;32m   1529\u001b[0m         \u001b[0;32mtry\u001b[0m\u001b[0;34m:\u001b[0m\u001b[0;34m\u001b[0m\u001b[0;34m\u001b[0m\u001b[0m\n",
            "\u001b[0;32m<ipython-input-7-8754a9db8fa6>\u001b[0m in \u001b[0;36mforward\u001b[0;34m(self, inputs)\u001b[0m\n\u001b[1;32m    100\u001b[0m \u001b[0;34m\u001b[0m\u001b[0m\n\u001b[1;32m    101\u001b[0m         \u001b[0;31m# first layer\u001b[0m\u001b[0;34m\u001b[0m\u001b[0;34m\u001b[0m\u001b[0m\n\u001b[0;32m--> 102\u001b[0;31m         \u001b[0mlinear1\u001b[0m \u001b[0;34m=\u001b[0m \u001b[0mself\u001b[0m\u001b[0;34m.\u001b[0m\u001b[0mlinear\u001b[0m\u001b[0;34m[\u001b[0m\u001b[0;36m0\u001b[0m\u001b[0;34m]\u001b[0m\u001b[0;34m(\u001b[0m\u001b[0minputs\u001b[0m\u001b[0;34m)\u001b[0m\u001b[0;34m\u001b[0m\u001b[0;34m\u001b[0m\u001b[0m\n\u001b[0m\u001b[1;32m    103\u001b[0m \u001b[0;34m\u001b[0m\u001b[0m\n\u001b[1;32m    104\u001b[0m         \u001b[0;31m# second layer\u001b[0m\u001b[0;34m\u001b[0m\u001b[0;34m\u001b[0m\u001b[0m\n",
            "\u001b[0;32m/usr/local/lib/python3.10/dist-packages/torch/nn/modules/module.py\u001b[0m in \u001b[0;36m_wrapped_call_impl\u001b[0;34m(self, *args, **kwargs)\u001b[0m\n\u001b[1;32m   1516\u001b[0m             \u001b[0;32mreturn\u001b[0m \u001b[0mself\u001b[0m\u001b[0;34m.\u001b[0m\u001b[0m_compiled_call_impl\u001b[0m\u001b[0;34m(\u001b[0m\u001b[0;34m*\u001b[0m\u001b[0margs\u001b[0m\u001b[0;34m,\u001b[0m \u001b[0;34m**\u001b[0m\u001b[0mkwargs\u001b[0m\u001b[0;34m)\u001b[0m  \u001b[0;31m# type: ignore[misc]\u001b[0m\u001b[0;34m\u001b[0m\u001b[0;34m\u001b[0m\u001b[0m\n\u001b[1;32m   1517\u001b[0m         \u001b[0;32melse\u001b[0m\u001b[0;34m:\u001b[0m\u001b[0;34m\u001b[0m\u001b[0;34m\u001b[0m\u001b[0m\n\u001b[0;32m-> 1518\u001b[0;31m             \u001b[0;32mreturn\u001b[0m \u001b[0mself\u001b[0m\u001b[0;34m.\u001b[0m\u001b[0m_call_impl\u001b[0m\u001b[0;34m(\u001b[0m\u001b[0;34m*\u001b[0m\u001b[0margs\u001b[0m\u001b[0;34m,\u001b[0m \u001b[0;34m**\u001b[0m\u001b[0mkwargs\u001b[0m\u001b[0;34m)\u001b[0m\u001b[0;34m\u001b[0m\u001b[0;34m\u001b[0m\u001b[0m\n\u001b[0m\u001b[1;32m   1519\u001b[0m \u001b[0;34m\u001b[0m\u001b[0m\n\u001b[1;32m   1520\u001b[0m     \u001b[0;32mdef\u001b[0m \u001b[0m_call_impl\u001b[0m\u001b[0;34m(\u001b[0m\u001b[0mself\u001b[0m\u001b[0;34m,\u001b[0m \u001b[0;34m*\u001b[0m\u001b[0margs\u001b[0m\u001b[0;34m,\u001b[0m \u001b[0;34m**\u001b[0m\u001b[0mkwargs\u001b[0m\u001b[0;34m)\u001b[0m\u001b[0;34m:\u001b[0m\u001b[0;34m\u001b[0m\u001b[0;34m\u001b[0m\u001b[0m\n",
            "\u001b[0;32m/usr/local/lib/python3.10/dist-packages/torch/nn/modules/module.py\u001b[0m in \u001b[0;36m_call_impl\u001b[0;34m(self, *args, **kwargs)\u001b[0m\n\u001b[1;32m   1525\u001b[0m                 \u001b[0;32mor\u001b[0m \u001b[0m_global_backward_pre_hooks\u001b[0m \u001b[0;32mor\u001b[0m \u001b[0m_global_backward_hooks\u001b[0m\u001b[0;34m\u001b[0m\u001b[0;34m\u001b[0m\u001b[0m\n\u001b[1;32m   1526\u001b[0m                 or _global_forward_hooks or _global_forward_pre_hooks):\n\u001b[0;32m-> 1527\u001b[0;31m             \u001b[0;32mreturn\u001b[0m \u001b[0mforward_call\u001b[0m\u001b[0;34m(\u001b[0m\u001b[0;34m*\u001b[0m\u001b[0margs\u001b[0m\u001b[0;34m,\u001b[0m \u001b[0;34m**\u001b[0m\u001b[0mkwargs\u001b[0m\u001b[0;34m)\u001b[0m\u001b[0;34m\u001b[0m\u001b[0;34m\u001b[0m\u001b[0m\n\u001b[0m\u001b[1;32m   1528\u001b[0m \u001b[0;34m\u001b[0m\u001b[0m\n\u001b[1;32m   1529\u001b[0m         \u001b[0;32mtry\u001b[0m\u001b[0;34m:\u001b[0m\u001b[0;34m\u001b[0m\u001b[0;34m\u001b[0m\u001b[0m\n",
            "\u001b[0;32m<ipython-input-7-8754a9db8fa6>\u001b[0m in \u001b[0;36mforward\u001b[0;34m(self, input)\u001b[0m\n\u001b[1;32m     56\u001b[0m \u001b[0;34m\u001b[0m\u001b[0m\n\u001b[1;32m     57\u001b[0m     \u001b[0;32mdef\u001b[0m \u001b[0mforward\u001b[0m\u001b[0;34m(\u001b[0m\u001b[0mself\u001b[0m\u001b[0;34m,\u001b[0m \u001b[0minput\u001b[0m\u001b[0;34m)\u001b[0m\u001b[0;34m:\u001b[0m\u001b[0;34m\u001b[0m\u001b[0;34m\u001b[0m\u001b[0m\n\u001b[0;32m---> 58\u001b[0;31m         \u001b[0;32mreturn\u001b[0m \u001b[0mLinearFAFunction\u001b[0m\u001b[0;34m.\u001b[0m\u001b[0mapply\u001b[0m\u001b[0;34m(\u001b[0m\u001b[0minput\u001b[0m\u001b[0;34m,\u001b[0m \u001b[0mself\u001b[0m\u001b[0;34m.\u001b[0m\u001b[0mweight\u001b[0m\u001b[0;34m,\u001b[0m \u001b[0mself\u001b[0m\u001b[0;34m.\u001b[0m\u001b[0mweight_fa\u001b[0m\u001b[0;34m,\u001b[0m \u001b[0mself\u001b[0m\u001b[0;34m.\u001b[0m\u001b[0mbias\u001b[0m\u001b[0;34m)\u001b[0m\u001b[0;34m\u001b[0m\u001b[0;34m\u001b[0m\u001b[0m\n\u001b[0m\u001b[1;32m     59\u001b[0m \u001b[0;34m\u001b[0m\u001b[0m\n\u001b[1;32m     60\u001b[0m \u001b[0;34m\u001b[0m\u001b[0m\n",
            "\u001b[0;32m/usr/local/lib/python3.10/dist-packages/torch/autograd/function.py\u001b[0m in \u001b[0;36mapply\u001b[0;34m(cls, *args, **kwargs)\u001b[0m\n\u001b[1;32m    537\u001b[0m             \u001b[0;31m# See NOTE: [functorch vjp and autograd interaction]\u001b[0m\u001b[0;34m\u001b[0m\u001b[0;34m\u001b[0m\u001b[0m\n\u001b[1;32m    538\u001b[0m             \u001b[0margs\u001b[0m \u001b[0;34m=\u001b[0m \u001b[0m_functorch\u001b[0m\u001b[0;34m.\u001b[0m\u001b[0mutils\u001b[0m\u001b[0;34m.\u001b[0m\u001b[0munwrap_dead_wrappers\u001b[0m\u001b[0;34m(\u001b[0m\u001b[0margs\u001b[0m\u001b[0;34m)\u001b[0m\u001b[0;34m\u001b[0m\u001b[0;34m\u001b[0m\u001b[0m\n\u001b[0;32m--> 539\u001b[0;31m             \u001b[0;32mreturn\u001b[0m \u001b[0msuper\u001b[0m\u001b[0;34m(\u001b[0m\u001b[0;34m)\u001b[0m\u001b[0;34m.\u001b[0m\u001b[0mapply\u001b[0m\u001b[0;34m(\u001b[0m\u001b[0;34m*\u001b[0m\u001b[0margs\u001b[0m\u001b[0;34m,\u001b[0m \u001b[0;34m**\u001b[0m\u001b[0mkwargs\u001b[0m\u001b[0;34m)\u001b[0m  \u001b[0;31m# type: ignore[misc]\u001b[0m\u001b[0;34m\u001b[0m\u001b[0;34m\u001b[0m\u001b[0m\n\u001b[0m\u001b[1;32m    540\u001b[0m \u001b[0;34m\u001b[0m\u001b[0m\n\u001b[1;32m    541\u001b[0m         \u001b[0;32mif\u001b[0m \u001b[0mcls\u001b[0m\u001b[0;34m.\u001b[0m\u001b[0msetup_context\u001b[0m \u001b[0;34m==\u001b[0m \u001b[0m_SingleLevelFunction\u001b[0m\u001b[0;34m.\u001b[0m\u001b[0msetup_context\u001b[0m\u001b[0;34m:\u001b[0m\u001b[0;34m\u001b[0m\u001b[0;34m\u001b[0m\u001b[0m\n",
            "\u001b[0;32m<ipython-input-7-8754a9db8fa6>\u001b[0m in \u001b[0;36mforward\u001b[0;34m(context, input, weight, weight_fa, bias)\u001b[0m\n\u001b[1;32m      7\u001b[0m     \u001b[0;32mdef\u001b[0m \u001b[0mforward\u001b[0m\u001b[0;34m(\u001b[0m\u001b[0mcontext\u001b[0m\u001b[0;34m,\u001b[0m \u001b[0minput\u001b[0m\u001b[0;34m,\u001b[0m \u001b[0mweight\u001b[0m\u001b[0;34m,\u001b[0m \u001b[0mweight_fa\u001b[0m\u001b[0;34m,\u001b[0m \u001b[0mbias\u001b[0m\u001b[0;34m=\u001b[0m\u001b[0;32mNone\u001b[0m\u001b[0;34m)\u001b[0m\u001b[0;34m:\u001b[0m\u001b[0;34m\u001b[0m\u001b[0;34m\u001b[0m\u001b[0m\n\u001b[1;32m      8\u001b[0m         \u001b[0mcontext\u001b[0m\u001b[0;34m.\u001b[0m\u001b[0msave_for_backward\u001b[0m\u001b[0;34m(\u001b[0m\u001b[0minput\u001b[0m\u001b[0;34m,\u001b[0m \u001b[0mweight\u001b[0m\u001b[0;34m,\u001b[0m \u001b[0mweight_fa\u001b[0m\u001b[0;34m,\u001b[0m \u001b[0mbias\u001b[0m\u001b[0;34m)\u001b[0m\u001b[0;34m\u001b[0m\u001b[0;34m\u001b[0m\u001b[0m\n\u001b[0;32m----> 9\u001b[0;31m         \u001b[0moutput\u001b[0m \u001b[0;34m=\u001b[0m \u001b[0minput\u001b[0m\u001b[0;34m.\u001b[0m\u001b[0mmm\u001b[0m\u001b[0;34m(\u001b[0m\u001b[0mweight\u001b[0m\u001b[0;34m.\u001b[0m\u001b[0mt\u001b[0m\u001b[0;34m(\u001b[0m\u001b[0;34m)\u001b[0m\u001b[0;34m)\u001b[0m\u001b[0;34m\u001b[0m\u001b[0;34m\u001b[0m\u001b[0m\n\u001b[0m\u001b[1;32m     10\u001b[0m         \u001b[0;32mif\u001b[0m \u001b[0mbias\u001b[0m \u001b[0;32mis\u001b[0m \u001b[0;32mnot\u001b[0m \u001b[0;32mNone\u001b[0m\u001b[0;34m:\u001b[0m\u001b[0;34m\u001b[0m\u001b[0;34m\u001b[0m\u001b[0m\n\u001b[1;32m     11\u001b[0m             \u001b[0moutput\u001b[0m \u001b[0;34m+=\u001b[0m \u001b[0mbias\u001b[0m\u001b[0;34m.\u001b[0m\u001b[0munsqueeze\u001b[0m\u001b[0;34m(\u001b[0m\u001b[0;36m0\u001b[0m\u001b[0;34m)\u001b[0m\u001b[0;34m.\u001b[0m\u001b[0mexpand_as\u001b[0m\u001b[0;34m(\u001b[0m\u001b[0moutput\u001b[0m\u001b[0;34m)\u001b[0m\u001b[0;34m\u001b[0m\u001b[0;34m\u001b[0m\u001b[0m\n",
            "\u001b[0;31mRuntimeError\u001b[0m: mat1 and mat2 shapes cannot be multiplied (32x3072 and 4096x1000)"
          ]
        }
      ]
    },
    {
      "cell_type": "markdown",
      "source": [
        "### Compare model performance"
      ],
      "metadata": {
        "id": "tFCtLuY-Wxol"
      }
    },
    {
      "cell_type": "code",
      "source": [
        "#validate on CNN+FCN\n",
        "#validate on CNN+FA"
      ],
      "metadata": {
        "id": "jGIC_1_LWxOO"
      },
      "execution_count": null,
      "outputs": []
    },
    {
      "cell_type": "markdown",
      "metadata": {
        "id": "41tHk6e8jvaz"
      },
      "source": [
        "### Linear.py"
      ]
    },
    {
      "cell_type": "code",
      "execution_count": null,
      "metadata": {
        "id": "IR5MykiuflIM"
      },
      "outputs": [],
      "source": [
        "from torch.autograd import Function\n",
        "from torch import nn\n",
        "# already imported: import torch\n",
        "# already imported: import torch.nn.functional as F\n",
        "\n",
        "# Inherit from Function\n",
        "class LinearFunction(Function):\n",
        "    # Note that both forward and backward are @staticmethods\n",
        "    @staticmethod\n",
        "    # bias is an optional argument\n",
        "    def forward(ctx, input, weight, bias=None):\n",
        "        ctx.save_for_backward(input, weight, bias)\n",
        "        output = input.mm(weight.t())\n",
        "        if bias is not None:\n",
        "            output += bias.unsqueeze(0).expand_as(output)\n",
        "        return output\n",
        "\n",
        "    # This function has only a single output, so it gets only one gradient\n",
        "    @staticmethod\n",
        "    def backward(ctx, grad_output):\n",
        "        # This is a pattern that is very convenient - at the top of backward\n",
        "        # unpack saved_tensors and initialize all gradients w.r.t. inputs to\n",
        "        # None. Thanks to the fact that additional trailing Nones are\n",
        "        # ignored, the return statement is simple even when the function has\n",
        "        # optional inputs.\n",
        "        input, weight, bias = ctx.saved_variables\n",
        "        grad_input = grad_weight = grad_bias = None\n",
        "        # These needs_input_grad checks are optional and there only to\n",
        "        # improve efficiency. If you want to make your code simpler, you can\n",
        "        # skip them. Returning gradients for inputs that don't require it is\n",
        "        # not an error.\n",
        "\n",
        "        if ctx.needs_input_grad[0]:\n",
        "            grad_input = grad_output.mm(weight)\n",
        "        if ctx.needs_input_grad[1]:\n",
        "            grad_weight = grad_output.t().mm(input)\n",
        "        if bias is not None and ctx.needs_input_grad[2]:\n",
        "            grad_bias = grad_output.sum(0).squeeze(0)\n",
        "\n",
        "        return grad_input, grad_weight, grad_bias\n",
        "\n",
        "\n",
        "class Linear(nn.Module):\n",
        "    def __init__(self, input_features, output_features, bias=True):\n",
        "        super(Linear, self).__init__()\n",
        "        self.input_features = input_features\n",
        "        self.output_features = output_features\n",
        "\n",
        "        # nn.Parameter is a special kind of Variable, that will get\n",
        "        # automatically registered as Module's parameter once it's assigned\n",
        "        # as an attribute. Parameters and buffers need to be registered, or\n",
        "        # they won't appear in .parameters() (doesn't apply to buffers), and\n",
        "        # won't be converted when e.g. .cuda() is called. You can use\n",
        "        # .register_buffer() to register buffers.\n",
        "        # nn.Parameters can never be volatile and, different than Variables,\n",
        "        # they require gradients by default.\n",
        "        self.weight = nn.Parameter(torch.Tensor(output_features, input_features))\n",
        "        if bias:\n",
        "            self.bias = nn.Parameter(torch.Tensor(output_features))\n",
        "        else:\n",
        "            # You should always register all possible parameters, but the\n",
        "            # optional ones can be None if you want.\n",
        "            self.register_parameter('bias', None)\n",
        "\n",
        "        # weight initialization\n",
        "        torch.nn.init.kaiming_uniform(self.weight)\n",
        "        torch.nn.init.constant(self.bias, 1)\n",
        "\n",
        "    def forward(self, input):\n",
        "        # See the autograd section for explanation of what happens here.\n",
        "        return LinearFunction.apply(input, self.weight, self.bias)\n",
        "\n",
        "\n",
        "class LinearNetwork(nn.Module):\n",
        "    def __init__(self, in_features, num_layers, num_hidden_list):\n",
        "        \"\"\"\n",
        "        :param in_features: dimension of input features (784 for MNIST)\n",
        "        :param num_layers: number of layers for feed-forward net\n",
        "        :param num_hidden_list: list of integers indicating hidden nodes of each layer\n",
        "        \"\"\"\n",
        "        super(LinearNetwork, self).__init__()\n",
        "        self.in_features = in_features\n",
        "        self.num_layers = num_layers\n",
        "        self.num_hidden_list = num_hidden_list\n",
        "\n",
        "        # create list of linear layers\n",
        "        # first hidden layer\n",
        "        self.linear = [Linear(self.in_features, self.num_hidden_list[0])]\n",
        "        # append additional hidden layers to list\n",
        "        for idx in range(self.num_layers - 1):\n",
        "            self.linear.append(Linear(self.num_hidden_list[idx], self.num_hidden_list[idx+1]))\n",
        "\n",
        "        # create ModuleList to make list of layers work\n",
        "        self.linear = nn.ModuleList(self.linear)\n",
        "\n",
        "\n",
        "    def forward(self, inputs):\n",
        "        \"\"\"\n",
        "        forward pass, which is same for conventional feed-forward net\n",
        "        :param inputs: inputs with shape [batch_size, in_features]\n",
        "        :return: logit outputs from the network\n",
        "        \"\"\"\n",
        "        # first layer\n",
        "        linear1 = F.relu(self.linear[0](inputs))\n",
        "\n",
        "        linear2 = self.linear[1](linear1)\n",
        "\n",
        "        return linear2"
      ]
    },
    {
      "cell_type": "code",
      "source": [
        "import numpy as np\n",
        "import matplotlib.pyplot as plt\n",
        "from torchvision import datasets, transforms\n",
        "from torch.utils.data import DataLoader\n",
        "from torch.autograd import Variable\n",
        "import torch\n",
        "import os\n",
        "\n",
        "BATCH_SIZE = 32\n",
        "\n",
        "# load mnist dataset\n",
        "train_loader = DataLoader(datasets.MNIST('./data', train=True, download=True,\n",
        "                                         transform=transforms.Compose([\n",
        "                                             transforms.ToTensor(),\n",
        "                                             transforms.Normalize((0.1307,), (0.3081,))\n",
        "                                         ])),\n",
        "                          batch_size=BATCH_SIZE, shuffle=True)\n",
        "test_loader = DataLoader(datasets.MNIST('./data', train=False, download=True,\n",
        "                                        transform=transforms.Compose([\n",
        "                                            transforms.ToTensor(),\n",
        "                                            transforms.Normalize((0.1307,), (0.3081,))\n",
        "                                        ])),\n",
        "                         batch_size=BATCH_SIZE, shuffle=True)\n",
        "\n",
        "# load feedforward dfa model\n",
        "model_fa = LinearFANetwork(in_features=784, num_layers=2, num_hidden_list=[1000, 10]).to(device)\n",
        "\n",
        "# load reference linear model\n",
        "model_bp = LinearNetwork(in_features=784, num_layers=2, num_hidden_list=[1000, 10]).to(device)\n",
        "\n",
        "# optimizers\n",
        "optimizer_fa = torch.optim.SGD(model_fa.parameters(),\n",
        "                            lr=1e-4, momentum=0.9, weight_decay=0.001, nesterov=True)\n",
        "optimizer_bp = torch.optim.SGD(model_bp.parameters(),\n",
        "                            lr=1e-4, momentum=0.9, weight_decay=0.001, nesterov=True)\n",
        "\n",
        "loss_crossentropy = torch.nn.CrossEntropyLoss()\n",
        "\n",
        "# make log file\n",
        "results_path = 'bp_vs_fa_'\n",
        "logger_train = open(results_path + 'train_log.txt', 'w')\n",
        "\n",
        "# train loop\n",
        "epochs = 5\n",
        "# Plotting vessel: --> maybe change to validation accuracy later\n",
        "fa_loss = []\n",
        "bp_loss = []\n",
        "for epoch in range(epochs):\n",
        "    for idx_batch, (inputs, targets) in enumerate(train_loader):\n",
        "        # flatten the inputs from square image to 1d vector\n",
        "        inputs = inputs.view(BATCH_SIZE, -1)\n",
        "        # wrap them into varaibles\n",
        "        inputs, targets = Variable(inputs), Variable(targets)\n",
        "        # get outputs from the model\n",
        "        outputs_fa = model_fa(inputs.to(device))\n",
        "        outputs_bp = model_bp(inputs.to(device))\n",
        "        # calculate loss\n",
        "        loss_fa = loss_crossentropy(outputs_fa, targets.to(device))\n",
        "        loss_bp = loss_crossentropy(outputs_bp, targets.to(device))\n",
        "\n",
        "        model_fa.zero_grad()\n",
        "        loss_fa.backward()\n",
        "        optimizer_fa.step()\n",
        "\n",
        "        model_bp.zero_grad()\n",
        "        loss_bp.backward()\n",
        "        optimizer_bp.step()\n",
        "\n",
        "        if (idx_batch + 1) % 500 == 0: # do this every 10 batch?\n",
        "            train_log = 'epoch ' + str(epoch) + ' step ' + str(idx_batch + 1) + \\\n",
        "                        ' loss_fa ' + str(loss_fa.item()) + ' loss_bp ' + str(loss_bp.item())\n",
        "            fa_loss.append(loss_fa.item())\n",
        "            bp_loss.append(loss_bp.item())\n",
        "            print(train_log)\n",
        "            logger_train.write(train_log + '\\n')\n",
        "\n",
        "plt.plot(fa_loss)\n",
        "plt.plot(bp_loss)"
      ],
      "metadata": {
        "id": "GisHz4Vuuluz"
      },
      "execution_count": null,
      "outputs": []
    },
    {
      "cell_type": "markdown",
      "source": [
        "### Drafts"
      ],
      "metadata": {
        "id": "_yYEac57QMmy"
      }
    },
    {
      "cell_type": "code",
      "source": [
        "# Define your CNN model\n",
        "model_fa = keras.Sequential([\n",
        "    layers.Conv2D(32, (3, 3), activation='relu', input_shape=(224, 224, 3)),\n",
        "    layers.MaxPooling2D((2, 2)),\n",
        "\n",
        "    layers.Flatten(),\n",
        "    layers.Dense(128, activation='relu'),\n",
        "    layers.Dense(10, activation='softmax')  # Assuming 10 classes for example\n",
        "])\n",
        "\n",
        "# Compile the model\n",
        "model_fa.compile(optimizer='adam',\n",
        "              loss='sparse_categorical_crossentropy',\n",
        "              metrics=['accuracy'])\n",
        "\n",
        "# Display the model summary\n",
        "model_fa.summary()\n",
        "\n",
        "# Define a new optimizer class for Feedback Alignment\n",
        "class FeedbackAlignmentOptimizer(tf.keras.optimizers.Optimizer):\n",
        "    def __init__(self, learning_rate=0.001, name=\"FeedbackAlignmentOptimizer\", **kwargs):\n",
        "        super(FeedbackAlignmentOptimizer, self).__init__(name, **kwargs)\n",
        "        self.learning_rate = learning_rate\n",
        "\n",
        "    def apply_gradients(self, grads_and_vars, name=None):\n",
        "        for grad, var in grads_and_vars:\n",
        "            random_matrix = tf.random.normal(var.shape)\n",
        "            var.assign_add(-self.learning_rate * grad * random_matrix)\n",
        "\n",
        "# Create an instance of the custom optimizer\n",
        "fa_optimizer = FeedbackAlignmentOptimizer(learning_rate=0.001)\n",
        "\n",
        "# Compile the model with the custom optimizer\n",
        "model_fa.compile(optimizer=fa_optimizer,\n",
        "              loss='sparse_categorical_crossentropy',\n",
        "              metrics=['accuracy'])\n",
        "\n",
        "# Now, freeze the convolutional layers\n",
        "for layer in model_fa.layers[:-2]:\n",
        "    layer.trainable = False\n",
        "\n",
        "# Train the model with Feedback Alignment on the fully connected layers\n",
        "model_fa.fit(train_images, train_labels, epochs=5, validation_data=(test_images, test_labels))\n",
        "\n",
        "\n",
        "#you need to build fc layers first, freeze the fc and train CNN, freeze CNN and train fc with new optimizer\n"
      ],
      "metadata": {
        "id": "seuBsXspasM8"
      },
      "execution_count": null,
      "outputs": []
    },
    {
      "cell_type": "code",
      "execution_count": null,
      "metadata": {
        "id": "Ja0DuDbMfD_X"
      },
      "outputs": [],
      "source": [
        "def create_random_dataset(n_in, n_out, len_samples):\n",
        "    '''Creates randomly a matrix n_out x n_in which will be\n",
        "       the target function to learn. Then generates\n",
        "       len_samples examples which will be the training set'''\n",
        "    M = np.random.randint(low=-10, high=10, size=(n_out, n_in))\n",
        "    samples = []\n",
        "    targets = []\n",
        "    for i in range(len_samples):\n",
        "        sample = np.random.randn(n_in)\n",
        "        samples.append(sample)\n",
        "        targets.append(np.dot(M, sample))\n",
        "\n",
        "    return M, np.asarray(samples), np.asarray(targets)"
      ]
    },
    {
      "cell_type": "markdown",
      "source": [
        "## Using captum"
      ],
      "metadata": {
        "id": "_q1U4wdjnOeO"
      }
    },
    {
      "cell_type": "code",
      "source": [
        "# setup\n",
        "!pip install torchvision==0.13.0\n",
        "!pip install git+https://github.com/pytorch/captum.git\n",
        "\n",
        "import numpy as np\n",
        "import json\n",
        "from PIL import Image\n",
        "import torch\n",
        "import torch.nn.functional as F\n",
        "import torchvision.models as models\n",
        "import captum\n",
        "from captum.attr import visualization as viz\n",
        "from torchvision import transforms\n",
        "\n",
        "# MAKE SURE WE ARE USING GPU\n",
        "# This checks if GPU is available, and uses it only if so\n",
        "device = torch.device(\"cuda:0\" if torch.cuda.is_available() else \"cpu\")\n",
        "print(\"Running on\", device)"
      ],
      "metadata": {
        "id": "Wpgk-7opnMqM"
      },
      "execution_count": null,
      "outputs": []
    },
    {
      "cell_type": "code",
      "source": [
        "!wget https://mylearningsinaiml.files.wordpress.com/2018/09/mnistdata1.jpg -O number.jpg"
      ],
      "metadata": {
        "id": "QnzX--Leor8B"
      },
      "execution_count": null,
      "outputs": []
    },
    {
      "cell_type": "code",
      "source": [
        "# -- Your code here -- #\n",
        "conv_withfa.to(device)\n",
        "# set model to eval mode\n",
        "conv_withfa.eval()\n",
        "# did not visualize the model\n",
        "\n",
        "!gdown /content/mnist_classes.json -O mnist_classes.json\n",
        "\n",
        "\n",
        "# Define the preprocessing pipeline for the input image\n",
        "preprocess = transforms.Compose([\n",
        "    transforms.Resize((28, 28)),             # resize the image to have a longer side of 256 pixels while maintaining the image ratio\n",
        "    #transforms.CenterCrop(224),           # crop to size 224*224\n",
        "    transforms.ToTensor(),                # convert to tensor not numpy\n",
        "    transforms.Normalize(mean=[0.5], std=[0.5]), # normalize pixel values, provide mean & std for RGB channels\n",
        "])\n",
        "\n",
        "\n",
        "PATH_TO_LABELS = 'mnist_classes.json'\n",
        "with open(PATH_TO_LABELS, 'r') as f:\n",
        "    imagenet_classes = json.load(f)\n",
        "\n",
        "def decode_preds(outputs, class_names=mnist_classes):\n",
        "  # Assuming outputs is the tensor of model outputs\n",
        "  softmax_outputs = F.softmax(outputs, dim=1)\n",
        "  probability, predicted_class = torch.max(softmax_outputs, dim=1)\n",
        "\n",
        "  predicted_class_labels = [class_names[str(idx)] for idx in predicted_class.cpu().numpy()]\n",
        "  probability_scores = probability.cpu().numpy()\n",
        "\n",
        "  # Print or return the results\n",
        "  for label, score in zip(predicted_class_labels, probability_scores):\n",
        "      print(f'\\nClass: {label}, Probability: {score}')\n",
        "\n",
        "\n",
        "# Function to load and preprocess the image\n",
        "def load_and_preprocess_image(image_path):\n",
        "    img = Image.open(image_path)\n",
        "    img_tensor = preprocess(img)\n",
        "    img_tensor.unsqueeze_(0)  # Add a batch dimension\n",
        "    return img_tensor\n",
        "\n",
        "# -- Your code here -- #\n",
        "image = load_and_preprocess_image('number.jpg').to(device)\n",
        "\n",
        "with torch.no_grad(): # no gradient descent, perform eval\n",
        "    # Pass images through the model\n",
        "    outputs = conv_withfa(image)\n",
        "\n",
        "decode_preds(outputs)\n",
        "\n",
        "# --------------------- #"
      ],
      "metadata": {
        "id": "BcSldVQIqST8"
      },
      "execution_count": null,
      "outputs": []
    },
    {
      "cell_type": "code",
      "source": [
        "def forward_func(i):\n",
        "  return conv_withfa(i)\n",
        "salient_object = captum.attr.Saliency(forward_func)\n",
        "attributions = salient_object.attribute(image, target = torch.tensor([0]))\n",
        "# type(attributions)\n",
        "# attributions is of type tensor/tuple. It means each feature's gradient.\n",
        "# image - your preprocessed image\n",
        "# attributions - the attributions obtained from captum\n",
        "\n",
        "# The preprocessing included normalizing the image which we need invert here\n",
        "inv_normalize = transforms.Normalize(\n",
        "    mean=[-0.485/0.229, -0.456/0.224, -0.406/0.255],\n",
        "    std=[1/0.229, 1/0.224, 1/0.255]\n",
        ")\n",
        "\n",
        "# Your input image to the model.\n",
        "unnorm_image = inv_normalize(image)\n",
        "\n",
        "# Display the image and the attribution\n",
        "_ = viz.visualize_image_attr_multiple(np.transpose(attributions.squeeze().cpu().detach().numpy(), (1,2,0)),\n",
        "                                      np.transpose(unnorm_image.squeeze().cpu().detach().numpy(), (1,2,0)),\n",
        "                                      [\"original_image\", \"heat_map\"],\n",
        "                                      [\"all\", \"absolute_value\"],\n",
        "                                      cmap=None,\n",
        "                                      show_colorbar=True, outlier_perc=2)"
      ],
      "metadata": {
        "id": "wNKnFfbzqVUl"
      },
      "execution_count": null,
      "outputs": []
    }
  ],
  "metadata": {
    "accelerator": "GPU",
    "colab": {
      "provenance": [],
      "collapsed_sections": [
        "gDpwu5vnSwWF",
        "W9nOgx7r3M7y",
        "BHQ-6ijb3Urj",
        "41tHk6e8jvaz",
        "_yYEac57QMmy"
      ]
    },
    "kernelspec": {
      "display_name": "Python 3",
      "name": "python3"
    },
    "language_info": {
      "name": "python"
    }
  },
  "nbformat": 4,
  "nbformat_minor": 0
}