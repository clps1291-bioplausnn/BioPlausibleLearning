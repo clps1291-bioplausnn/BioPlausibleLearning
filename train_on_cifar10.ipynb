{
 "cells": [
  {
   "cell_type": "code",
   "execution_count": 1,
   "metadata": {},
   "outputs": [],
   "source": [
    "import os\n",
    "#import sys\n",
    "import torch\n",
    "import torch.nn as nn\n",
    "import torch.utils.data as Data\n",
    "import torchvision\n",
    "import matplotlib.pyplot as plt\n",
    "\n",
    "#sys.path.append('../')\n",
    "from data.load_data import *\n",
    "from models.neural_networks import *\n",
    "from train.train_cnn import *\n",
    "from train.train_fcn import *\n",
    "from evaluation.test import *\n",
    "from utils.others import *\n",
    "from utils.plot import *\n",
    "from utils.save_model import *\n"
   ]
  },
  {
   "cell_type": "markdown",
   "metadata": {},
   "source": [
    "# Pretrain a CNN\n",
    "\n",
    "architecture: ConvLayers([(3,16,5,1,2),(16,32,5,1,2)])+ FCN([32 * 8* 8,10])"
   ]
  },
  {
   "cell_type": "code",
   "execution_count": 2,
   "metadata": {},
   "outputs": [],
   "source": [
    "# torch.manual_seed(1)    # reproducible\n",
    "\n",
    "# Hyper Parameters\n",
    "EPOCH = 1               \n",
    "BATCH_SIZE = 50\n",
    "LR = 0.001             \n",
    "TSNE = False"
   ]
  },
  {
   "cell_type": "code",
   "execution_count": 3,
   "metadata": {},
   "outputs": [
    {
     "name": "stdout",
     "output_type": "stream",
     "text": [
      "50000\n",
      "10000\n"
     ]
    }
   ],
   "source": [
    "#load CIFAR-10 dataset\n",
    "train_loader, test_loader = load_cifar10(BATCH_SIZE)\n",
    "print(len(train_loader.dataset))\n",
    "print(len(test_loader.dataset))\n"
   ]
  },
  {
   "cell_type": "code",
   "execution_count": 52,
   "metadata": {},
   "outputs": [
    {
     "data": {
      "image/png": "[encoded data removed]",
      "text/plain": [
       "<Figure size 640x480 with 1 Axes>"
      ]
     },
     "metadata": {},
     "output_type": "display_data"
    }
   ],
   "source": [
    "# Plot one example\n",
    "plot_example(train_loader)"
   ]
  },
  {
   "cell_type": "code",
   "execution_count": 53,
   "metadata": {},
   "outputs": [],
   "source": [
    "# create model instance\n",
    "conv = ConvLayers([(3,16,5,1,2),(16,32,5,1,2)])\n",
    "fcn1 = FCN([32*8*8,10])\n",
    "#hebbnet = HebbNet([784,50])\n",
    "#fcn2 = FCN([50,20,10]) \n",
    "\n",
    "cnn = CNN(conv, fcn1)\n",
    "#semihebbnet = SemiHebbNet(hebbnet, fcn2)"
   ]
  },
  {
   "cell_type": "code",
   "execution_count": 54,
   "metadata": {},
   "outputs": [],
   "source": [
    "# optimizer and loss function\n",
    "optimizer = torch.optim.Adam(cnn.parameters(), lr=LR)  \n",
    "loss_func = nn.CrossEntropyLoss()                       # the target label is not one-hotted"
   ]
  },
  {
   "cell_type": "code",
   "execution_count": 55,
   "metadata": {},
   "outputs": [
    {
     "name": "stdout",
     "output_type": "stream",
     "text": [
      "Epoch: 0, Step: 0, Loss: 2.302872896194458, Accuracy: 12.21%\n",
      "Epoch: 0, Step: 50, Loss: 1.9378716945648193, Accuracy: 36.16%\n",
      "Epoch: 0, Step: 100, Loss: 1.6484729051589966, Accuracy: 39.44%\n",
      "Epoch: 0, Step: 150, Loss: 1.4305325746536255, Accuracy: 41.65%\n",
      "Epoch: 0, Step: 200, Loss: 1.4404804706573486, Accuracy: 44.55%\n",
      "Epoch: 0, Step: 250, Loss: 1.4481549263000488, Accuracy: 46.18%\n",
      "Epoch: 0, Step: 300, Loss: 1.2756344079971313, Accuracy: 50.29%\n",
      "Epoch: 0, Step: 350, Loss: 1.2825638055801392, Accuracy: 49.48%\n",
      "Epoch: 0, Step: 400, Loss: 1.244162917137146, Accuracy: 51.06%\n",
      "Epoch: 0, Step: 450, Loss: 1.4419410228729248, Accuracy: 49.4%\n",
      "Epoch: 0, Step: 500, Loss: 1.4141353368759155, Accuracy: 51.08%\n",
      "Epoch: 0, Step: 550, Loss: 1.2902227640151978, Accuracy: 53.66%\n",
      "Epoch: 0, Step: 600, Loss: 1.2525697946548462, Accuracy: 55.02%\n",
      "Epoch: 0, Step: 650, Loss: 1.2648162841796875, Accuracy: 53.48%\n",
      "Epoch: 0, Step: 700, Loss: 1.1865296363830566, Accuracy: 56.42%\n",
      "Epoch: 0, Step: 750, Loss: 1.2495728731155396, Accuracy: 56.31%\n",
      "Epoch: 0, Step: 800, Loss: 0.963570237159729, Accuracy: 55.92%\n",
      "Epoch: 0, Step: 850, Loss: 1.2879143953323364, Accuracy: 58.36%\n",
      "Epoch: 0, Step: 900, Loss: 1.0841482877731323, Accuracy: 57.9%\n",
      "Epoch: 0, Step: 950, Loss: 1.3502007722854614, Accuracy: 57.11%\n"
     ]
    }
   ],
   "source": [
    "# train networks\n",
    "train_cnn(model=cnn, train_loader=train_loader, test_loader=test_loader, optimizer=optimizer, loss_func=loss_func, epochs=EPOCH, tsne_enabled=TSNE)"
   ]
  },
  {
   "cell_type": "code",
   "execution_count": 56,
   "metadata": {},
   "outputs": [
    {
     "name": "stdout",
     "output_type": "stream",
     "text": [
      "Accuracy of the CNN on the CIFAR10 test images: 57.44%\n"
     ]
    },
    {
     "data": {
      "text/plain": [
       "57.44"
      ]
     },
     "execution_count": 56,
     "metadata": {},
     "output_type": "execute_result"
    }
   ],
   "source": [
    "# test accuracy\n",
    "test_accuracy(model=cnn, dataset='cifar10')"
   ]
  },
  {
   "cell_type": "code",
   "execution_count": 57,
   "metadata": {},
   "outputs": [
    {
     "name": "stdout",
     "output_type": "stream",
     "text": [
      "Model saved at pretrained/cifar10_models/cnn.pth\n"
     ]
    }
   ],
   "source": [
    "#save pretrained model\n",
    "model_save_path = 'pretrained/cifar10_models/cnn.pth'\n",
    "save_model(cnn, model_save_path)"
   ]
  },
  {
   "cell_type": "code",
   "execution_count": 58,
   "metadata": {},
   "outputs": [
    {
     "name": "stdout",
     "output_type": "stream",
     "text": [
      "Accuracy of the CNN on the CIFAR10 test images: 57.44%\n"
     ]
    },
    {
     "data": {
      "text/plain": [
       "57.44"
      ]
     },
     "execution_count": 58,
     "metadata": {},
     "output_type": "execute_result"
    }
   ],
   "source": [
    "#load model and test\n",
    "new_conv = ConvLayers([(3,16,5,1,2),(16,32,5,1,2)])\n",
    "new_fcn1 = FCN([32*8*8,10])\n",
    "pretrained_cnn = CNN(new_conv, new_fcn1, pretrained_model_path=model_save_path)\n",
    "\n",
    "test_accuracy(model=pretrained_cnn, dataset='cifar10')"
   ]
  },
  {
   "cell_type": "markdown",
   "metadata": {},
   "source": [
    "# Pretrain a Shallower CNN\n",
    "\n",
    "architecture: ConvLayers([(3,8,3,2,1)])+ FCN([8* 8* 8,10])    weights: 20714"
   ]
  },
  {
   "cell_type": "code",
   "execution_count": 59,
   "metadata": {},
   "outputs": [],
   "source": [
    "# create model instance\n",
    "conv = ConvLayers([(3,8,3,2,1)])\n",
    "fcn1 = FCN([8*8*8,10])\n",
    "\n",
    "cnn2 = CNN(conv, fcn1)"
   ]
  },
  {
   "cell_type": "code",
   "execution_count": 60,
   "metadata": {},
   "outputs": [],
   "source": [
    "# optimizer and loss function\n",
    "optimizer = torch.optim.Adam(cnn2.parameters(), lr=LR)  \n",
    "loss_func = nn.CrossEntropyLoss()                       # the target label is not one-hotted"
   ]
  },
  {
   "cell_type": "code",
   "execution_count": 61,
   "metadata": {},
   "outputs": [
    {
     "name": "stdout",
     "output_type": "stream",
     "text": [
      "Epoch: 0, Step: 0, Loss: 2.2805745601654053, Accuracy: 11.15%\n",
      "Epoch: 0, Step: 50, Loss: 1.9976952075958252, Accuracy: 29.3%\n",
      "Epoch: 0, Step: 100, Loss: 1.9815499782562256, Accuracy: 33.09%\n",
      "Epoch: 0, Step: 150, Loss: 2.1121482849121094, Accuracy: 36.45%\n",
      "Epoch: 0, Step: 200, Loss: 1.7548083066940308, Accuracy: 37.02%\n",
      "Epoch: 0, Step: 250, Loss: 1.7482088804244995, Accuracy: 38.67%\n",
      "Epoch: 0, Step: 300, Loss: 1.7546954154968262, Accuracy: 40.23%\n",
      "Epoch: 0, Step: 350, Loss: 1.4481747150421143, Accuracy: 42.11%\n",
      "Epoch: 0, Step: 400, Loss: 1.5514830350875854, Accuracy: 43.24%\n",
      "Epoch: 0, Step: 450, Loss: 1.3888393640518188, Accuracy: 43.14%\n",
      "Epoch: 0, Step: 500, Loss: 1.8395111560821533, Accuracy: 43.72%\n",
      "Epoch: 0, Step: 550, Loss: 1.5888922214508057, Accuracy: 44.53%\n",
      "Epoch: 0, Step: 600, Loss: 1.8221304416656494, Accuracy: 43.93%\n",
      "Epoch: 0, Step: 650, Loss: 1.6640607118606567, Accuracy: 44.88%\n",
      "Epoch: 0, Step: 700, Loss: 1.503916621208191, Accuracy: 46.48%\n",
      "Epoch: 0, Step: 750, Loss: 1.365135669708252, Accuracy: 46.49%\n",
      "Epoch: 0, Step: 800, Loss: 1.6728538274765015, Accuracy: 46.88%\n",
      "Epoch: 0, Step: 850, Loss: 1.4251376390457153, Accuracy: 47.86%\n",
      "Epoch: 0, Step: 900, Loss: 1.360033392906189, Accuracy: 48.68%\n",
      "Epoch: 0, Step: 950, Loss: 1.5125927925109863, Accuracy: 49.34%\n"
     ]
    }
   ],
   "source": [
    "# train networks\n",
    "train_cnn(model=cnn2, train_loader=train_loader, test_loader=test_loader, optimizer=optimizer, loss_func=loss_func, epochs=EPOCH, tsne_enabled=TSNE)"
   ]
  },
  {
   "cell_type": "code",
   "execution_count": 62,
   "metadata": {},
   "outputs": [
    {
     "name": "stdout",
     "output_type": "stream",
     "text": [
      "Accuracy of the CNN on the CIFAR10 test images: 49.26%\n"
     ]
    },
    {
     "data": {
      "text/plain": [
       "49.26"
      ]
     },
     "execution_count": 62,
     "metadata": {},
     "output_type": "execute_result"
    }
   ],
   "source": [
    "# test accuracy\n",
    "test_accuracy(model=cnn2, dataset='cifar10')"
   ]
  },
  {
   "cell_type": "code",
   "execution_count": 63,
   "metadata": {},
   "outputs": [
    {
     "name": "stdout",
     "output_type": "stream",
     "text": [
      "Model saved at pretrained/cifar10_models/cnn2.pth\n"
     ]
    }
   ],
   "source": [
    "#save pretrained model\n",
    "model_save_path = 'pretrained/cifar10_models/cnn2.pth'\n",
    "save_model(cnn2, model_save_path)"
   ]
  },
  {
   "cell_type": "code",
   "execution_count": 64,
   "metadata": {},
   "outputs": [
    {
     "name": "stdout",
     "output_type": "stream",
     "text": [
      "Accuracy of the CNN on the CIFAR10 test images: 49.26%\n"
     ]
    },
    {
     "data": {
      "text/plain": [
       "49.26"
      ]
     },
     "execution_count": 64,
     "metadata": {},
     "output_type": "execute_result"
    }
   ],
   "source": [
    "#load model and test\n",
    "new_conv = ConvLayers([(3,8,3,2,1)])\n",
    "new_fcn1 = FCN([8*8*8,10])\n",
    "pretrained_cnn2 = CNN(new_conv, new_fcn1, pretrained_model_path=model_save_path)\n",
    "\n",
    "test_accuracy(model=pretrained_cnn2, dataset='cifar10')"
   ]
  },
  {
   "cell_type": "markdown",
   "metadata": {},
   "source": [
    "# Pretrain a FCN with comparable parameters as the cnn2\n",
    "\n",
    "FCN([3* 28* 28,8,8,10]) with 24746 trainable weights"
   ]
  },
  {
   "cell_type": "code",
   "execution_count": 65,
   "metadata": {},
   "outputs": [],
   "source": [
    "fcn = FCN([3*32*32,8,8,10])"
   ]
  },
  {
   "cell_type": "code",
   "execution_count": 66,
   "metadata": {},
   "outputs": [],
   "source": [
    "# optimizer and loss function\n",
    "optimizer = torch.optim.Adam(fcn.parameters(), lr=LR)  \n",
    "loss_func = nn.CrossEntropyLoss()                       # the target label is not one-hotted"
   ]
  },
  {
   "cell_type": "code",
   "execution_count": 67,
   "metadata": {},
   "outputs": [
    {
     "name": "stdout",
     "output_type": "stream",
     "text": [
      "Epoch: 0, Step: 0, Loss: 2.375051975250244, Accuracy: 12.63%\n",
      "Epoch: 0, Step: 50, Loss: 2.0096302032470703, Accuracy: 28.07%\n",
      "Epoch: 0, Step: 100, Loss: 1.8975344896316528, Accuracy: 31.93%\n",
      "Epoch: 0, Step: 150, Loss: 1.7564185857772827, Accuracy: 31.01%\n",
      "Epoch: 0, Step: 200, Loss: 1.763726830482483, Accuracy: 33.08%\n",
      "Epoch: 0, Step: 250, Loss: 1.9756667613983154, Accuracy: 33.89%\n",
      "Epoch: 0, Step: 300, Loss: 1.552008867263794, Accuracy: 35.08%\n",
      "Epoch: 0, Step: 350, Loss: 1.8563122749328613, Accuracy: 36.06%\n",
      "Epoch: 0, Step: 400, Loss: 1.6603002548217773, Accuracy: 35.74%\n",
      "Epoch: 0, Step: 450, Loss: 1.7780879735946655, Accuracy: 35.56%\n",
      "Epoch: 0, Step: 500, Loss: 1.6689671277999878, Accuracy: 34.82%\n",
      "Epoch: 0, Step: 550, Loss: 1.7710047960281372, Accuracy: 36.07%\n",
      "Epoch: 0, Step: 600, Loss: 1.5388604402542114, Accuracy: 36.68%\n",
      "Epoch: 0, Step: 650, Loss: 1.8638691902160645, Accuracy: 36.53%\n",
      "Epoch: 0, Step: 700, Loss: 1.962642788887024, Accuracy: 36.94%\n",
      "Epoch: 0, Step: 750, Loss: 1.657322883605957, Accuracy: 37.02%\n",
      "Epoch: 0, Step: 800, Loss: 1.6420609951019287, Accuracy: 37.89%\n",
      "Epoch: 0, Step: 850, Loss: 1.757496953010559, Accuracy: 36.73%\n",
      "Epoch: 0, Step: 900, Loss: 1.9280489683151245, Accuracy: 37.02%\n",
      "Epoch: 0, Step: 950, Loss: 1.6331477165222168, Accuracy: 36.89%\n"
     ]
    }
   ],
   "source": [
    "# train networks\n",
    "train_fcn(model=fcn, train_loader=train_loader, test_loader=test_loader, optimizer=optimizer, loss_func=loss_func, epochs=EPOCH)"
   ]
  },
  {
   "cell_type": "code",
   "execution_count": 68,
   "metadata": {},
   "outputs": [
    {
     "name": "stdout",
     "output_type": "stream",
     "text": [
      "Accuracy of the FCN on the CIFAR10 test images: 37.44%\n"
     ]
    },
    {
     "data": {
      "text/plain": [
       "37.44"
      ]
     },
     "execution_count": 68,
     "metadata": {},
     "output_type": "execute_result"
    }
   ],
   "source": [
    "# test accuracy\n",
    "test_accuracy(model=fcn, dataset='cifar10', flatten_input=True)"
   ]
  },
  {
   "cell_type": "code",
   "execution_count": 69,
   "metadata": {},
   "outputs": [
    {
     "name": "stdout",
     "output_type": "stream",
     "text": [
      "Model saved at pretrained/cifar10_models/fcn.pth\n"
     ]
    }
   ],
   "source": [
    "#save pretrained model\n",
    "model_save_path = 'pretrained/cifar10_models/fcn.pth'\n",
    "save_model(fcn, model_save_path)"
   ]
  },
  {
   "cell_type": "code",
   "execution_count": 70,
   "metadata": {},
   "outputs": [
    {
     "name": "stdout",
     "output_type": "stream",
     "text": [
      "Accuracy of the FCN on the CIFAR10 test images: 37.44%\n"
     ]
    },
    {
     "data": {
      "text/plain": [
       "37.44"
      ]
     },
     "execution_count": 70,
     "metadata": {},
     "output_type": "execute_result"
    }
   ],
   "source": [
    "#load model and test\n",
    "\n",
    "pretrained_fcn = FCN([3*32*32,8,8,10],pretrained_model_path=model_save_path)\n",
    "test_accuracy(model=pretrained_fcn, dataset='cifar10',flatten_input=True)"
   ]
  },
  {
   "cell_type": "code",
   "execution_count": null,
   "metadata": {},
   "outputs": [],
   "source": []
  }
 ],
 "metadata": {
  "kernelspec": {
   "display_name": "spinningup",
   "language": "python",
   "name": "python3"
  },
  "language_info": {
   "codemirror_mode": {
    "name": "ipython",
    "version": 3
   },
   "file_extension": ".py",
   "mimetype": "text/x-python",
   "name": "python",
   "nbconvert_exporter": "python",
   "pygments_lexer": "ipython3",
   "version": "3.9.16"
  }
 },
 "nbformat": 4,
 "nbformat_minor": 2
}
